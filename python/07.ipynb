{
 "cells": [
  {
   "cell_type": "markdown",
   "id": "0901df0a",
   "metadata": {},
   "source": [
    "# 7장 표본크기가 클 때\n",
    "\n",
    "## 일관성 확인"
   ]
  },
  {
   "cell_type": "code",
   "execution_count": 1,
   "id": "8eb91c70",
   "metadata": {},
   "outputs": [
    {
     "data": {
      "text/plain": [
       "array([0.9997532 , 0.70088215])"
      ]
     },
     "execution_count": 1,
     "metadata": {},
     "output_type": "execute_result"
    }
   ],
   "source": [
    "import numpy as np\n",
    "import statsmodels.api as sm\n",
    "\n",
    "n = 1000000\n",
    "np.random.seed(13579)\n",
    "x = np.random.normal(size=n)\n",
    "u = np.random.normal(size=n)\n",
    "y = [1+0.7*xi+ui for xi,ui in zip(x,u)]\n",
    "sm.OLS(y, sm.add_constant(x)).fit().params"
   ]
  },
  {
   "cell_type": "code",
   "execution_count": 2,
   "id": "ca80bfa8",
   "metadata": {},
   "outputs": [
    {
     "data": {
      "text/plain": [
       "array([1.00286852, 0.69894822])"
      ]
     },
     "execution_count": 2,
     "metadata": {},
     "output_type": "execute_result"
    }
   ],
   "source": [
    "u = np.random.normal(size=n)\n",
    "y = [1+0.7*xi+ui for xi,ui in zip(x,u)]\n",
    "sm.OLS(y, sm.add_constant(x)).fit().params"
   ]
  }
 ],
 "metadata": {
  "kernelspec": {
   "display_name": "Python 3 (ipykernel)",
   "language": "python",
   "name": "python3"
  },
  "language_info": {
   "codemirror_mode": {
    "name": "ipython",
    "version": 3
   },
   "file_extension": ".py",
   "mimetype": "text/x-python",
   "name": "python",
   "nbconvert_exporter": "python",
   "pygments_lexer": "ipython3",
   "version": "3.12.2"
  }
 },
 "nbformat": 4,
 "nbformat_minor": 5
}
