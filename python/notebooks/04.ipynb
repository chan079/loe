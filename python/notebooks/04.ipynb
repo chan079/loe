{
 "cells": [
  {
   "cell_type": "markdown",
   "id": "9de705a6",
   "metadata": {},
   "source": [
    "# 4장 추정값과 참값의 관계\n",
    "\n",
    "데이터와 필요한 파이썬 패키지는 [여기](00.md) 참조.\n",
    "\n",
    "## 평균에 관한 모의실험\n",
    "\n",
    "파이썬에서 벡터(배열) 관련 코드는 이상하게 보일 수 있다. 익숙해지기 전까지는 상당한 피로감을 줄 수 있다."
   ]
  },
  {
   "cell_type": "code",
   "execution_count": 1,
   "id": "3dc9e030",
   "metadata": {},
   "outputs": [],
   "source": [
    "import numpy as np\n",
    "import statsmodels.api as sm"
   ]
  },
  {
   "cell_type": "markdown",
   "id": "bf3bca11",
   "metadata": {},
   "source": [
    "설명변수(`educ`)를 생성한다."
   ]
  },
  {
   "cell_type": "code",
   "execution_count": 2,
   "id": "3ef70794",
   "metadata": {},
   "outputs": [
    {
     "name": "stdout",
     "output_type": "stream",
     "text": [
      "[12.0, 12.0, 12.0, 12.0, 12.0, 12.0, 12.0, 12.0, 12.0, 12.0, 12.0, 12.0, 12.0, 14.0, 14.0, 14.0, 14.0, 14.0, 14.0, 14.0, 14.0, 14.0, 14.0, 14.0, 14.0, 14.0, 14.0, 14.0, 14.0, 14.0, 14.0, 14.0, 14.0, 14.0, 14.0, 14.0, 14.0, 14.0, 16.0, 16.0, 16.0, 16.0, 16.0, 16.0, 16.0, 16.0, 16.0, 16.0, 16.0, 16.0]\n"
     ]
    }
   ],
   "source": [
    "iterate = 1000 # will repeat 1000 times\n",
    "n1 = 13\n",
    "n2 = 25\n",
    "n3 = 12\n",
    "n = n1+n2+n3\n",
    "## https://stackoverflow.com/questions/3459098/create-list-of-single-item-repeated-n-times\n",
    "## https://stackoverflow.com/questions/11574195/how-do-i-merge-multiple-lists-into-one-list\n",
    "## https://stackoverflow.com/questions/952914/how-do-i-make-a-flat-list-out-of-a-list-of-lists\n",
    "educ = [12.0]*n1 + [14.0]*n2 + [16.0]*n3  # interesting format\n",
    "print(educ)"
   ]
  },
  {
   "cell_type": "markdown",
   "id": "4839a8b9",
   "metadata": {},
   "source": [
    "오차 표준편차를 nx1 벡터로 만든다."
   ]
  },
  {
   "cell_type": "code",
   "execution_count": 3,
   "id": "15a46027",
   "metadata": {},
   "outputs": [
    {
     "name": "stdout",
     "output_type": "stream",
     "text": [
      "[0.8, 0.8, 0.8, 0.8, 0.8, 0.8, 0.8, 0.8, 0.8, 0.8, 0.8, 0.8, 0.8, 1.0, 1.0, 1.0, 1.0, 1.0, 1.0, 1.0, 1.0, 1.0, 1.0, 1.0, 1.0, 1.0, 1.0, 1.0, 1.0, 1.0, 1.0, 1.0, 1.0, 1.0, 1.0, 1.0, 1.0, 1.0, 1.4, 1.4, 1.4, 1.4, 1.4, 1.4, 1.4, 1.4, 1.4, 1.4, 1.4, 1.4]\n"
     ]
    }
   ],
   "source": [
    "stdevs = [0.8]*n1 + [1.0]*n2 + [1.4]*n3 # standard deviations are set to be different\n",
    "print(stdevs)"
   ]
  },
  {
   "cell_type": "markdown",
   "id": "c69757cc",
   "metadata": {},
   "source": [
    "모의실험을 실행한다."
   ]
  },
  {
   "cell_type": "code",
   "execution_count": 4,
   "id": "3adbf529",
   "metadata": {},
   "outputs": [],
   "source": [
    "## https://numpy.org/doc/stable/reference/random/generated/numpy.random.seed.html\n",
    "np.random.seed(11)\n",
    "bhats = [None]*iterate # list of 1000 None's\n",
    "for j in range(iterate):\n",
    "    ## https://numpy.org/doc/stable/reference/random/generated/numpy.random.normal.html\n",
    "    u0 = np.random.normal(size=n)\n",
    "    ## https://stackoverflow.com/questions/10271484/how-to-perform-element-wise-multiplication-of-two-lists\n",
    "    u = [s*e for s,e in zip(stdevs,u0)]\n",
    "    lnwage = [8.3+0.08*xi+ui for xi,ui in zip(educ,u)]\n",
    "    # We have generated educ and lnwage. Now let's regress lnwage on educ.\n",
    "    ## https://www.statsmodels.org/dev/generated/statsmodels.regression.linear_model.OLS.html\n",
    "    ols = sm.OLS(lnwage, sm.add_constant(educ)).fit()\n",
    "    bhats[j] = ols.params[1] # 0=intercept, 1=slope"
   ]
  },
  {
   "cell_type": "markdown",
   "id": "a14b2415",
   "metadata": {},
   "source": [
    "1,000회 반복으로부터 구한 1,000개 OLS 기울기 추정값들의 평균을 구한다."
   ]
  },
  {
   "cell_type": "code",
   "execution_count": 5,
   "id": "d5cc68a0",
   "metadata": {},
   "outputs": [
    {
     "data": {
      "text/plain": [
       "0.07929930419095249"
      ]
     },
     "execution_count": 5,
     "metadata": {},
     "output_type": "execute_result"
    }
   ],
   "source": [
    "np.mean(bhats) # Should be close to the truth 0.08"
   ]
  },
  {
   "cell_type": "markdown",
   "id": "ca8f3a74",
   "metadata": {},
   "source": [
    "## 예제 4.1 경찰규모와 범죄율"
   ]
  },
  {
   "cell_type": "code",
   "execution_count": 6,
   "id": "d59602c0",
   "metadata": {},
   "outputs": [
    {
     "data": {
      "text/plain": [
       "Intercept       -2.624693\n",
       "np.log(polpc)    0.151685\n",
       "dtype: float64"
      ]
     },
     "execution_count": 6,
     "metadata": {},
     "output_type": "execute_result"
    }
   ],
   "source": [
    "import pandas as pd\n",
    "Crime = pd.read_csv('csv/Ecdat/Crime.csv')\n",
    "ols = sm.OLS.from_formula('np.log(crmrte)~np.log(polpc)', data=Crime).fit()\n",
    "ols.params"
   ]
  },
  {
   "cell_type": "markdown",
   "id": "a48427cc",
   "metadata": {},
   "source": [
    "## 분산에 관한 모의실험"
   ]
  },
  {
   "cell_type": "code",
   "execution_count": 7,
   "id": "a90d3101",
   "metadata": {},
   "outputs": [],
   "source": [
    "maxiter = 5000\n",
    "n = 40\n",
    "np.random.seed(10101)\n",
    "b1hat = [None]*maxiter\n",
    "b1tilde = [None]*maxiter\n",
    "x = np.random.normal(size=n)\n",
    "for iter in range(maxiter):\n",
    "    u = np.random.normal(size=n)\n",
    "    y = [1-xi+ui for xi,ui in zip(x,u)]\n",
    "    ols = sm.OLS(y, sm.add_constant(x)).fit()\n",
    "    b1hat[iter] = ols.params[1]\n",
    "    b1tilde[iter] = (y[0]-y[1])/(x[0]-x[1])"
   ]
  },
  {
   "cell_type": "code",
   "execution_count": 8,
   "id": "6e352df0",
   "metadata": {},
   "outputs": [
    {
     "name": "stdout",
     "output_type": "stream",
     "text": [
      "[-0.9950713068722231, -1.3369248972867611]\n",
      "[0.0265071866904749, 235.6908069747431]\n"
     ]
    }
   ],
   "source": [
    "print([np.mean(b1hat), np.mean(b1tilde)])\n",
    "print([np.var(b1hat), np.var(b1tilde)])"
   ]
  },
  {
   "cell_type": "markdown",
   "id": "e905ed03",
   "metadata": {},
   "source": [
    "## 표준정규분포의 확률과 임계값"
   ]
  },
  {
   "cell_type": "code",
   "execution_count": 9,
   "id": "26832e1b",
   "metadata": {},
   "outputs": [
    {
     "data": {
      "text/plain": [
       "0.624655260005155"
      ]
     },
     "execution_count": 9,
     "metadata": {},
     "output_type": "execute_result"
    }
   ],
   "source": [
    "## https://stackoverflow.com/questions/809362/how-to-calculate-cumulative-normal-distribution\n",
    "from scipy.stats import norm\n",
    "norm.cdf(1.5)-norm.cdf(-0.5)"
   ]
  },
  {
   "cell_type": "code",
   "execution_count": 10,
   "id": "c2782f39",
   "metadata": {},
   "outputs": [
    {
     "data": {
      "text/plain": [
       "0.8416212335729143"
      ]
     },
     "execution_count": 10,
     "metadata": {},
     "output_type": "execute_result"
    }
   ],
   "source": [
    "norm.ppf(0.8) # quantile"
   ]
  }
 ],
 "metadata": {
  "kernelspec": {
   "display_name": "Python 3 (ipykernel)",
   "language": "python",
   "name": "python3"
  },
  "language_info": {
   "codemirror_mode": {
    "name": "ipython",
    "version": 3
   },
   "file_extension": ".py",
   "mimetype": "text/x-python",
   "name": "python",
   "nbconvert_exporter": "python",
   "pygments_lexer": "ipython3",
   "version": "3.12.2"
  }
 },
 "nbformat": 4,
 "nbformat_minor": 5
}
