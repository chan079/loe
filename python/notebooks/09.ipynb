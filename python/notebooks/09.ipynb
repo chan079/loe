{
 "cells": [
  {
   "cell_type": "markdown",
   "id": "1d8e7268",
   "metadata": {},
   "source": [
    "# 9장 다중회귀 추정량의 성질\n",
    "\n",
    "## 예제 9.2 학력, 경력, 임금"
   ]
  },
  {
   "cell_type": "code",
   "execution_count": 1,
   "id": "fa955463",
   "metadata": {},
   "outputs": [
    {
     "data": {
      "text/plain": [
       "4165"
      ]
     },
     "execution_count": 1,
     "metadata": {},
     "output_type": "execute_result"
    }
   ],
   "source": [
    "import pandas as pd\n",
    "import statsmodels.formula.api as smf\n",
    "\n",
    "Wages = pd.read_csv('csv/Ecdat/Wages.csv')\n",
    "len(Wages)"
   ]
  },
  {
   "cell_type": "code",
   "execution_count": 2,
   "id": "71aa6aa2",
   "metadata": {},
   "outputs": [
    {
     "data": {
      "text/html": [
       "<div>\n",
       "<style scoped>\n",
       "    .dataframe tbody tr th:only-of-type {\n",
       "        vertical-align: middle;\n",
       "    }\n",
       "\n",
       "    .dataframe tbody tr th {\n",
       "        vertical-align: top;\n",
       "    }\n",
       "\n",
       "    .dataframe thead th {\n",
       "        text-align: right;\n",
       "    }\n",
       "</style>\n",
       "<table border=\"1\" class=\"dataframe\">\n",
       "  <thead>\n",
       "    <tr style=\"text-align: right;\">\n",
       "      <th></th>\n",
       "      <th>exp</th>\n",
       "      <th>wks</th>\n",
       "      <th>bluecol</th>\n",
       "      <th>ind</th>\n",
       "      <th>south</th>\n",
       "      <th>smsa</th>\n",
       "      <th>married</th>\n",
       "      <th>sex</th>\n",
       "      <th>union</th>\n",
       "      <th>ed</th>\n",
       "      <th>black</th>\n",
       "      <th>lwage</th>\n",
       "    </tr>\n",
       "  </thead>\n",
       "  <tbody>\n",
       "    <tr>\n",
       "      <th>1</th>\n",
       "      <td>4</td>\n",
       "      <td>43</td>\n",
       "      <td>no</td>\n",
       "      <td>0</td>\n",
       "      <td>yes</td>\n",
       "      <td>no</td>\n",
       "      <td>yes</td>\n",
       "      <td>male</td>\n",
       "      <td>no</td>\n",
       "      <td>9</td>\n",
       "      <td>no</td>\n",
       "      <td>5.72031</td>\n",
       "    </tr>\n",
       "    <tr>\n",
       "      <th>8</th>\n",
       "      <td>31</td>\n",
       "      <td>27</td>\n",
       "      <td>yes</td>\n",
       "      <td>0</td>\n",
       "      <td>no</td>\n",
       "      <td>no</td>\n",
       "      <td>yes</td>\n",
       "      <td>male</td>\n",
       "      <td>no</td>\n",
       "      <td>11</td>\n",
       "      <td>no</td>\n",
       "      <td>6.21461</td>\n",
       "    </tr>\n",
       "    <tr>\n",
       "      <th>15</th>\n",
       "      <td>7</td>\n",
       "      <td>51</td>\n",
       "      <td>yes</td>\n",
       "      <td>1</td>\n",
       "      <td>no</td>\n",
       "      <td>no</td>\n",
       "      <td>yes</td>\n",
       "      <td>male</td>\n",
       "      <td>yes</td>\n",
       "      <td>12</td>\n",
       "      <td>no</td>\n",
       "      <td>6.43615</td>\n",
       "    </tr>\n",
       "    <tr>\n",
       "      <th>22</th>\n",
       "      <td>32</td>\n",
       "      <td>46</td>\n",
       "      <td>yes</td>\n",
       "      <td>0</td>\n",
       "      <td>no</td>\n",
       "      <td>yes</td>\n",
       "      <td>no</td>\n",
       "      <td>female</td>\n",
       "      <td>no</td>\n",
       "      <td>10</td>\n",
       "      <td>yes</td>\n",
       "      <td>6.23832</td>\n",
       "    </tr>\n",
       "    <tr>\n",
       "      <th>29</th>\n",
       "      <td>11</td>\n",
       "      <td>46</td>\n",
       "      <td>yes</td>\n",
       "      <td>0</td>\n",
       "      <td>no</td>\n",
       "      <td>no</td>\n",
       "      <td>yes</td>\n",
       "      <td>male</td>\n",
       "      <td>yes</td>\n",
       "      <td>16</td>\n",
       "      <td>no</td>\n",
       "      <td>6.62007</td>\n",
       "    </tr>\n",
       "  </tbody>\n",
       "</table>\n",
       "</div>"
      ],
      "text/plain": [
       "    exp  wks bluecol  ind south smsa married     sex union  ed black    lwage\n",
       "1     4   43      no    0   yes   no     yes    male    no   9    no  5.72031\n",
       "8    31   27     yes    0    no   no     yes    male    no  11    no  6.21461\n",
       "15    7   51     yes    1    no   no     yes    male   yes  12    no  6.43615\n",
       "22   32   46     yes    0    no  yes      no  female    no  10   yes  6.23832\n",
       "29   11   46     yes    0    no   no     yes    male   yes  16    no  6.62007"
      ]
     },
     "execution_count": 2,
     "metadata": {},
     "output_type": "execute_result"
    }
   ],
   "source": [
    "# Any better way?\n",
    "idx = [x%7==1 for x in range(len(Wages))] # Watch out! Python indices begin with 0\n",
    "Wages77 = Wages[idx].copy()\n",
    "Wages77.head()"
   ]
  },
  {
   "cell_type": "code",
   "execution_count": 3,
   "id": "e982e8a2",
   "metadata": {},
   "outputs": [
    {
     "data": {
      "text/plain": [
       "Intercept    5.476063\n",
       "ed           0.062957\n",
       "exp          0.010107\n",
       "dtype: float64"
      ]
     },
     "execution_count": 3,
     "metadata": {},
     "output_type": "execute_result"
    }
   ],
   "source": [
    "ols = smf.ols('lwage~ed+exp', data=Wages77).fit()\n",
    "ols.params"
   ]
  },
  {
   "cell_type": "code",
   "execution_count": 4,
   "id": "dc6e10e8",
   "metadata": {},
   "outputs": [
    {
     "data": {
      "text/plain": [
       "Intercept    5.767925\n",
       "ed           0.054283\n",
       "dtype: float64"
      ]
     },
     "execution_count": 4,
     "metadata": {},
     "output_type": "execute_result"
    }
   ],
   "source": [
    "smf.ols('lwage~ed', data=Wages77).fit().params"
   ]
  },
  {
   "cell_type": "code",
   "execution_count": 5,
   "id": "bb5f2b5d",
   "metadata": {},
   "outputs": [
    {
     "data": {
      "text/plain": [
       "Intercept    28.878598\n",
       "ed           -0.858271\n",
       "dtype: float64"
      ]
     },
     "execution_count": 5,
     "metadata": {},
     "output_type": "execute_result"
    }
   ],
   "source": [
    "smf.ols('exp~ed', data=Wages77).fit().params"
   ]
  },
  {
   "cell_type": "markdown",
   "id": "1afa9365",
   "metadata": {},
   "source": [
    "## 예제 9.3 주택가격"
   ]
  },
  {
   "cell_type": "code",
   "execution_count": 6,
   "id": "cbd1b7cc",
   "metadata": {},
   "outputs": [
    {
     "name": "stdout",
     "output_type": "stream",
     "text": [
      "Regression A:\n"
     ]
    },
    {
     "data": {
      "text/plain": [
       "Intercept          6.380361\n",
       "np.log(lotsize)    0.501505\n",
       "bedrooms           0.145872\n",
       "dtype: float64"
      ]
     },
     "execution_count": 6,
     "metadata": {},
     "output_type": "execute_result"
    }
   ],
   "source": [
    "import numpy as np\n",
    "Housing = pd.read_csv('csv/Ecdat/Housing.csv')\n",
    "regA = smf.ols('np.log(price)~np.log(lotsize)+bedrooms', data=Housing).fit()\n",
    "print(\"Regression A:\")\n",
    "regA.params"
   ]
  },
  {
   "cell_type": "code",
   "execution_count": 7,
   "id": "3ae9b456",
   "metadata": {},
   "outputs": [
    {
     "name": "stdout",
     "output_type": "stream",
     "text": [
      "Regression B:\n",
      "Intercept    10.505674\n",
      "bedrooms      0.186593\n",
      "dtype: float64\n"
     ]
    }
   ],
   "source": [
    "regB = smf.ols('np.log(price)~bedrooms', data=Housing).fit()\n",
    "print(\"Regression B:\")\n",
    "print(regB.params)"
   ]
  },
  {
   "cell_type": "code",
   "execution_count": 8,
   "id": "9a478da4",
   "metadata": {},
   "outputs": [
    {
     "name": "stdout",
     "output_type": "stream",
     "text": [
      "Regression C:\n",
      "Intercept    8.225860\n",
      "bedrooms     0.081199\n",
      "dtype: float64\n"
     ]
    }
   ],
   "source": [
    "regC = smf.ols('np.log(lotsize)~bedrooms', data=Housing).fit()\n",
    "print(\"Regression C:\")\n",
    "print(regC.params)"
   ]
  },
  {
   "cell_type": "markdown",
   "id": "2af0741a",
   "metadata": {},
   "source": [
    "## 예제 9.4 계수들의 선형결합의 신뢰구간"
   ]
  },
  {
   "cell_type": "code",
   "execution_count": 9,
   "id": "71403899",
   "metadata": {},
   "outputs": [
    {
     "data": {
      "text/html": [
       "<table class=\"simpletable\">\n",
       "<caption>OLS Regression Results</caption>\n",
       "<tr>\n",
       "  <th>Dep. Variable:</th>      <td>np.log(price)</td>  <th>  R-squared:         </th> <td>   0.418</td>\n",
       "</tr>\n",
       "<tr>\n",
       "  <th>Model:</th>                   <td>OLS</td>       <th>  Adj. R-squared:    </th> <td>   0.416</td>\n",
       "</tr>\n",
       "<tr>\n",
       "  <th>Method:</th>             <td>Least Squares</td>  <th>  F-statistic:       </th> <td>   195.1</td>\n",
       "</tr>\n",
       "<tr>\n",
       "  <th>Date:</th>             <td>Sun, 23 Jun 2024</td> <th>  Prob (F-statistic):</th> <td>1.43e-64</td>\n",
       "</tr>\n",
       "<tr>\n",
       "  <th>Time:</th>                 <td>23:46:16</td>     <th>  Log-Likelihood:    </th> <td> -86.480</td>\n",
       "</tr>\n",
       "<tr>\n",
       "  <th>No. Observations:</th>      <td>   546</td>      <th>  AIC:               </th> <td>   179.0</td>\n",
       "</tr>\n",
       "<tr>\n",
       "  <th>Df Residuals:</th>          <td>   543</td>      <th>  BIC:               </th> <td>   191.9</td>\n",
       "</tr>\n",
       "<tr>\n",
       "  <th>Df Model:</th>              <td>     2</td>      <th>                     </th>     <td> </td>   \n",
       "</tr>\n",
       "<tr>\n",
       "  <th>Covariance Type:</th>      <td>nonrobust</td>    <th>                     </th>     <td> </td>   \n",
       "</tr>\n",
       "</table>\n",
       "<table class=\"simpletable\">\n",
       "<tr>\n",
       "             <td></td>               <th>coef</th>     <th>std err</th>      <th>t</th>      <th>P>|t|</th>  <th>[0.025</th>    <th>0.975]</th>  \n",
       "</tr>\n",
       "<tr>\n",
       "  <th>Intercept</th>              <td>   11.0894</td> <td>    0.012</td> <td>  903.860</td> <td> 0.000</td> <td>   11.065</td> <td>   11.113</td>\n",
       "</tr>\n",
       "<tr>\n",
       "  <th>np.log(lotsize / 5000)</th> <td>    0.5015</td> <td>    0.031</td> <td>   16.201</td> <td> 0.000</td> <td>    0.441</td> <td>    0.562</td>\n",
       "</tr>\n",
       "<tr>\n",
       "  <th>I(bedrooms - 3)</th>        <td>    0.1459</td> <td>    0.017</td> <td>    8.733</td> <td> 0.000</td> <td>    0.113</td> <td>    0.179</td>\n",
       "</tr>\n",
       "</table>\n",
       "<table class=\"simpletable\">\n",
       "<tr>\n",
       "  <th>Omnibus:</th>       <td> 2.883</td> <th>  Durbin-Watson:     </th> <td>   1.209</td>\n",
       "</tr>\n",
       "<tr>\n",
       "  <th>Prob(Omnibus):</th> <td> 0.237</td> <th>  Jarque-Bera (JB):  </th> <td>   2.794</td>\n",
       "</tr>\n",
       "<tr>\n",
       "  <th>Skew:</th>          <td>-0.175</td> <th>  Prob(JB):          </th> <td>   0.247</td>\n",
       "</tr>\n",
       "<tr>\n",
       "  <th>Kurtosis:</th>      <td> 3.022</td> <th>  Cond. No.          </th> <td>    2.57</td>\n",
       "</tr>\n",
       "</table><br/><br/>Notes:<br/>[1] Standard Errors assume that the covariance matrix of the errors is correctly specified."
      ],
      "text/latex": [
       "\\begin{center}\n",
       "\\begin{tabular}{lclc}\n",
       "\\toprule\n",
       "\\textbf{Dep. Variable:}         &  np.log(price)   & \\textbf{  R-squared:         } &     0.418   \\\\\n",
       "\\textbf{Model:}                 &       OLS        & \\textbf{  Adj. R-squared:    } &     0.416   \\\\\n",
       "\\textbf{Method:}                &  Least Squares   & \\textbf{  F-statistic:       } &     195.1   \\\\\n",
       "\\textbf{Date:}                  & Sun, 23 Jun 2024 & \\textbf{  Prob (F-statistic):} &  1.43e-64   \\\\\n",
       "\\textbf{Time:}                  &     23:46:16     & \\textbf{  Log-Likelihood:    } &   -86.480   \\\\\n",
       "\\textbf{No. Observations:}      &         546      & \\textbf{  AIC:               } &     179.0   \\\\\n",
       "\\textbf{Df Residuals:}          &         543      & \\textbf{  BIC:               } &     191.9   \\\\\n",
       "\\textbf{Df Model:}              &           2      & \\textbf{                     } &             \\\\\n",
       "\\textbf{Covariance Type:}       &    nonrobust     & \\textbf{                     } &             \\\\\n",
       "\\bottomrule\n",
       "\\end{tabular}\n",
       "\\begin{tabular}{lcccccc}\n",
       "                                & \\textbf{coef} & \\textbf{std err} & \\textbf{t} & \\textbf{P$> |$t$|$} & \\textbf{[0.025} & \\textbf{0.975]}  \\\\\n",
       "\\midrule\n",
       "\\textbf{Intercept}              &      11.0894  &        0.012     &   903.860  &         0.000        &       11.065    &       11.113     \\\\\n",
       "\\textbf{np.log(lotsize / 5000)} &       0.5015  &        0.031     &    16.201  &         0.000        &        0.441    &        0.562     \\\\\n",
       "\\textbf{I(bedrooms - 3)}        &       0.1459  &        0.017     &     8.733  &         0.000        &        0.113    &        0.179     \\\\\n",
       "\\bottomrule\n",
       "\\end{tabular}\n",
       "\\begin{tabular}{lclc}\n",
       "\\textbf{Omnibus:}       &  2.883 & \\textbf{  Durbin-Watson:     } &    1.209  \\\\\n",
       "\\textbf{Prob(Omnibus):} &  0.237 & \\textbf{  Jarque-Bera (JB):  } &    2.794  \\\\\n",
       "\\textbf{Skew:}          & -0.175 & \\textbf{  Prob(JB):          } &    0.247  \\\\\n",
       "\\textbf{Kurtosis:}      &  3.022 & \\textbf{  Cond. No.          } &     2.57  \\\\\n",
       "\\bottomrule\n",
       "\\end{tabular}\n",
       "%\\caption{OLS Regression Results}\n",
       "\\end{center}\n",
       "\n",
       "Notes: \\newline\n",
       " [1] Standard Errors assume that the covariance matrix of the errors is correctly specified."
      ],
      "text/plain": [
       "<class 'statsmodels.iolib.summary.Summary'>\n",
       "\"\"\"\n",
       "                            OLS Regression Results                            \n",
       "==============================================================================\n",
       "Dep. Variable:          np.log(price)   R-squared:                       0.418\n",
       "Model:                            OLS   Adj. R-squared:                  0.416\n",
       "Method:                 Least Squares   F-statistic:                     195.1\n",
       "Date:                Sun, 23 Jun 2024   Prob (F-statistic):           1.43e-64\n",
       "Time:                        23:46:16   Log-Likelihood:                -86.480\n",
       "No. Observations:                 546   AIC:                             179.0\n",
       "Df Residuals:                     543   BIC:                             191.9\n",
       "Df Model:                           2                                         \n",
       "Covariance Type:            nonrobust                                         \n",
       "==========================================================================================\n",
       "                             coef    std err          t      P>|t|      [0.025      0.975]\n",
       "------------------------------------------------------------------------------------------\n",
       "Intercept                 11.0894      0.012    903.860      0.000      11.065      11.113\n",
       "np.log(lotsize / 5000)     0.5015      0.031     16.201      0.000       0.441       0.562\n",
       "I(bedrooms - 3)            0.1459      0.017      8.733      0.000       0.113       0.179\n",
       "==============================================================================\n",
       "Omnibus:                        2.883   Durbin-Watson:                   1.209\n",
       "Prob(Omnibus):                  0.237   Jarque-Bera (JB):                2.794\n",
       "Skew:                          -0.175   Prob(JB):                        0.247\n",
       "Kurtosis:                       3.022   Cond. No.                         2.57\n",
       "==============================================================================\n",
       "\n",
       "Notes:\n",
       "[1] Standard Errors assume that the covariance matrix of the errors is correctly specified.\n",
       "\"\"\""
      ]
     },
     "execution_count": 9,
     "metadata": {},
     "output_type": "execute_result"
    }
   ],
   "source": [
    "import pandas as pd\n",
    "import numpy as np\n",
    "\n",
    "Housing = pd.read_csv('csv/Ecdat/Housing.csv')\n",
    "ols = smf.ols('np.log(price)~np.log(lotsize/5000)+I(bedrooms-3)', data=Housing).fit()\n",
    "ols.summary()"
   ]
  },
  {
   "cell_type": "code",
   "execution_count": 10,
   "id": "af253a1d",
   "metadata": {},
   "outputs": [
    {
     "data": {
      "text/html": [
       "<div>\n",
       "<style scoped>\n",
       "    .dataframe tbody tr th:only-of-type {\n",
       "        vertical-align: middle;\n",
       "    }\n",
       "\n",
       "    .dataframe tbody tr th {\n",
       "        vertical-align: top;\n",
       "    }\n",
       "\n",
       "    .dataframe thead th {\n",
       "        text-align: right;\n",
       "    }\n",
       "</style>\n",
       "<table border=\"1\" class=\"dataframe\">\n",
       "  <thead>\n",
       "    <tr style=\"text-align: right;\">\n",
       "      <th></th>\n",
       "      <th>0</th>\n",
       "      <th>1</th>\n",
       "    </tr>\n",
       "  </thead>\n",
       "  <tbody>\n",
       "    <tr>\n",
       "      <th>Intercept</th>\n",
       "      <td>11.065294</td>\n",
       "      <td>11.113495</td>\n",
       "    </tr>\n",
       "    <tr>\n",
       "      <th>np.log(lotsize / 5000)</th>\n",
       "      <td>0.440701</td>\n",
       "      <td>0.562310</td>\n",
       "    </tr>\n",
       "    <tr>\n",
       "      <th>I(bedrooms - 3)</th>\n",
       "      <td>0.113059</td>\n",
       "      <td>0.178684</td>\n",
       "    </tr>\n",
       "  </tbody>\n",
       "</table>\n",
       "</div>"
      ],
      "text/plain": [
       "                                0          1\n",
       "Intercept               11.065294  11.113495\n",
       "np.log(lotsize / 5000)   0.440701   0.562310\n",
       "I(bedrooms - 3)          0.113059   0.178684"
      ]
     },
     "execution_count": 10,
     "metadata": {},
     "output_type": "execute_result"
    }
   ],
   "source": [
    "ols.conf_int(.05)"
   ]
  }
 ],
 "metadata": {
  "kernelspec": {
   "display_name": "Python 3 (ipykernel)",
   "language": "python",
   "name": "python3"
  },
  "language_info": {
   "codemirror_mode": {
    "name": "ipython",
    "version": 3
   },
   "file_extension": ".py",
   "mimetype": "text/x-python",
   "name": "python",
   "nbconvert_exporter": "python",
   "pygments_lexer": "ipython3",
   "version": "3.12.2"
  }
 },
 "nbformat": 4,
 "nbformat_minor": 5
}
