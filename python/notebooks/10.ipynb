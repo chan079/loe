{
 "cells": [
  {
   "cell_type": "markdown",
   "id": "f7f4002b",
   "metadata": {},
   "source": [
    "# 10장 다중회귀 모형에서 가설검정\n",
    "\n",
    "## 예제 10.1 지역별 이혼율"
   ]
  },
  {
   "cell_type": "code",
   "execution_count": 1,
   "id": "bd58007b",
   "metadata": {},
   "outputs": [
    {
     "data": {
      "text/html": [
       "<table class=\"simpletable\">\n",
       "<caption>OLS Regression Results</caption>\n",
       "<tr>\n",
       "  <th>Dep. Variable:</th>      <td>log(divorce)</td>   <th>  R-squared:         </th> <td>   0.485</td>\n",
       "</tr>\n",
       "<tr>\n",
       "  <th>Model:</th>                   <td>OLS</td>       <th>  Adj. R-squared:    </th> <td>   0.444</td>\n",
       "</tr>\n",
       "<tr>\n",
       "  <th>Method:</th>             <td>Least Squares</td>  <th>  F-statistic:       </th> <td>   11.76</td>\n",
       "</tr>\n",
       "<tr>\n",
       "  <th>Date:</th>             <td>Sun, 23 Jun 2024</td> <th>  Prob (F-statistic):</th> <td>3.00e-09</td>\n",
       "</tr>\n",
       "<tr>\n",
       "  <th>Time:</th>                 <td>23:51:35</td>     <th>  Log-Likelihood:    </th> <td>  75.101</td>\n",
       "</tr>\n",
       "<tr>\n",
       "  <th>No. Observations:</th>      <td>    82</td>      <th>  AIC:               </th> <td>  -136.2</td>\n",
       "</tr>\n",
       "<tr>\n",
       "  <th>Df Residuals:</th>          <td>    75</td>      <th>  BIC:               </th> <td>  -119.4</td>\n",
       "</tr>\n",
       "<tr>\n",
       "  <th>Df Model:</th>              <td>     6</td>      <th>                     </th>     <td> </td>   \n",
       "</tr>\n",
       "<tr>\n",
       "  <th>Covariance Type:</th>      <td>nonrobust</td>    <th>                     </th>     <td> </td>   \n",
       "</tr>\n",
       "</table>\n",
       "<table class=\"simpletable\">\n",
       "<tr>\n",
       "           <td></td>             <th>coef</th>     <th>std err</th>      <th>t</th>      <th>P>|t|</th>  <th>[0.025</th>    <th>0.975]</th>  \n",
       "</tr>\n",
       "<tr>\n",
       "  <th>Intercept</th>          <td>    0.1727</td> <td>    0.990</td> <td>    0.175</td> <td> 0.862</td> <td>   -1.799</td> <td>    2.144</td>\n",
       "</tr>\n",
       "<tr>\n",
       "  <th>log(regpop)</th>        <td>   -0.0126</td> <td>    0.026</td> <td>   -0.487</td> <td> 0.628</td> <td>   -0.064</td> <td>    0.039</td>\n",
       "</tr>\n",
       "<tr>\n",
       "  <th>log(drink)</th>         <td>   -0.0731</td> <td>    0.195</td> <td>   -0.374</td> <td> 0.709</td> <td>   -0.463</td> <td>    0.316</td>\n",
       "</tr>\n",
       "<tr>\n",
       "  <th>log(hdrink)</th>        <td>    0.2494</td> <td>    0.075</td> <td>    3.321</td> <td> 0.001</td> <td>    0.100</td> <td>    0.399</td>\n",
       "</tr>\n",
       "<tr>\n",
       "  <th>log(smoke)</th>         <td>    0.1834</td> <td>    0.160</td> <td>    1.148</td> <td> 0.255</td> <td>   -0.135</td> <td>    0.502</td>\n",
       "</tr>\n",
       "<tr>\n",
       "  <th>log(grdp / regpop)</th> <td>    0.0953</td> <td>    0.040</td> <td>    2.404</td> <td> 0.019</td> <td>    0.016</td> <td>    0.174</td>\n",
       "</tr>\n",
       "<tr>\n",
       "  <th>log(aged)</th>          <td>   -0.1969</td> <td>    0.062</td> <td>   -3.150</td> <td> 0.002</td> <td>   -0.321</td> <td>   -0.072</td>\n",
       "</tr>\n",
       "</table>\n",
       "<table class=\"simpletable\">\n",
       "<tr>\n",
       "  <th>Omnibus:</th>       <td> 0.191</td> <th>  Durbin-Watson:     </th> <td>   1.805</td>\n",
       "</tr>\n",
       "<tr>\n",
       "  <th>Prob(Omnibus):</th> <td> 0.909</td> <th>  Jarque-Bera (JB):  </th> <td>   0.335</td>\n",
       "</tr>\n",
       "<tr>\n",
       "  <th>Skew:</th>          <td>-0.097</td> <th>  Prob(JB):          </th> <td>   0.846</td>\n",
       "</tr>\n",
       "<tr>\n",
       "  <th>Kurtosis:</th>      <td> 2.754</td> <th>  Cond. No.          </th> <td>1.18e+03</td>\n",
       "</tr>\n",
       "</table><br/><br/>Notes:<br/>[1] Standard Errors assume that the covariance matrix of the errors is correctly specified.<br/>[2] The condition number is large, 1.18e+03. This might indicate that there are<br/>strong multicollinearity or other numerical problems."
      ],
      "text/latex": [
       "\\begin{center}\n",
       "\\begin{tabular}{lclc}\n",
       "\\toprule\n",
       "\\textbf{Dep. Variable:}     &   log(divorce)   & \\textbf{  R-squared:         } &     0.485   \\\\\n",
       "\\textbf{Model:}             &       OLS        & \\textbf{  Adj. R-squared:    } &     0.444   \\\\\n",
       "\\textbf{Method:}            &  Least Squares   & \\textbf{  F-statistic:       } &     11.76   \\\\\n",
       "\\textbf{Date:}              & Sun, 23 Jun 2024 & \\textbf{  Prob (F-statistic):} &  3.00e-09   \\\\\n",
       "\\textbf{Time:}              &     23:51:35     & \\textbf{  Log-Likelihood:    } &    75.101   \\\\\n",
       "\\textbf{No. Observations:}  &          82      & \\textbf{  AIC:               } &    -136.2   \\\\\n",
       "\\textbf{Df Residuals:}      &          75      & \\textbf{  BIC:               } &    -119.4   \\\\\n",
       "\\textbf{Df Model:}          &           6      & \\textbf{                     } &             \\\\\n",
       "\\textbf{Covariance Type:}   &    nonrobust     & \\textbf{                     } &             \\\\\n",
       "\\bottomrule\n",
       "\\end{tabular}\n",
       "\\begin{tabular}{lcccccc}\n",
       "                            & \\textbf{coef} & \\textbf{std err} & \\textbf{t} & \\textbf{P$> |$t$|$} & \\textbf{[0.025} & \\textbf{0.975]}  \\\\\n",
       "\\midrule\n",
       "\\textbf{Intercept}          &       0.1727  &        0.990     &     0.175  &         0.862        &       -1.799    &        2.144     \\\\\n",
       "\\textbf{log(regpop)}        &      -0.0126  &        0.026     &    -0.487  &         0.628        &       -0.064    &        0.039     \\\\\n",
       "\\textbf{log(drink)}         &      -0.0731  &        0.195     &    -0.374  &         0.709        &       -0.463    &        0.316     \\\\\n",
       "\\textbf{log(hdrink)}        &       0.2494  &        0.075     &     3.321  &         0.001        &        0.100    &        0.399     \\\\\n",
       "\\textbf{log(smoke)}         &       0.1834  &        0.160     &     1.148  &         0.255        &       -0.135    &        0.502     \\\\\n",
       "\\textbf{log(grdp / regpop)} &       0.0953  &        0.040     &     2.404  &         0.019        &        0.016    &        0.174     \\\\\n",
       "\\textbf{log(aged)}          &      -0.1969  &        0.062     &    -3.150  &         0.002        &       -0.321    &       -0.072     \\\\\n",
       "\\bottomrule\n",
       "\\end{tabular}\n",
       "\\begin{tabular}{lclc}\n",
       "\\textbf{Omnibus:}       &  0.191 & \\textbf{  Durbin-Watson:     } &    1.805  \\\\\n",
       "\\textbf{Prob(Omnibus):} &  0.909 & \\textbf{  Jarque-Bera (JB):  } &    0.335  \\\\\n",
       "\\textbf{Skew:}          & -0.097 & \\textbf{  Prob(JB):          } &    0.846  \\\\\n",
       "\\textbf{Kurtosis:}      &  2.754 & \\textbf{  Cond. No.          } & 1.18e+03  \\\\\n",
       "\\bottomrule\n",
       "\\end{tabular}\n",
       "%\\caption{OLS Regression Results}\n",
       "\\end{center}\n",
       "\n",
       "Notes: \\newline\n",
       " [1] Standard Errors assume that the covariance matrix of the errors is correctly specified. \\newline\n",
       " [2] The condition number is large, 1.18e+03. This might indicate that there are \\newline\n",
       " strong multicollinearity or other numerical problems."
      ],
      "text/plain": [
       "<class 'statsmodels.iolib.summary.Summary'>\n",
       "\"\"\"\n",
       "                            OLS Regression Results                            \n",
       "==============================================================================\n",
       "Dep. Variable:           log(divorce)   R-squared:                       0.485\n",
       "Model:                            OLS   Adj. R-squared:                  0.444\n",
       "Method:                 Least Squares   F-statistic:                     11.76\n",
       "Date:                Sun, 23 Jun 2024   Prob (F-statistic):           3.00e-09\n",
       "Time:                        23:51:35   Log-Likelihood:                 75.101\n",
       "No. Observations:                  82   AIC:                            -136.2\n",
       "Df Residuals:                      75   BIC:                            -119.4\n",
       "Df Model:                           6                                         \n",
       "Covariance Type:            nonrobust                                         \n",
       "======================================================================================\n",
       "                         coef    std err          t      P>|t|      [0.025      0.975]\n",
       "--------------------------------------------------------------------------------------\n",
       "Intercept              0.1727      0.990      0.175      0.862      -1.799       2.144\n",
       "log(regpop)           -0.0126      0.026     -0.487      0.628      -0.064       0.039\n",
       "log(drink)            -0.0731      0.195     -0.374      0.709      -0.463       0.316\n",
       "log(hdrink)            0.2494      0.075      3.321      0.001       0.100       0.399\n",
       "log(smoke)             0.1834      0.160      1.148      0.255      -0.135       0.502\n",
       "log(grdp / regpop)     0.0953      0.040      2.404      0.019       0.016       0.174\n",
       "log(aged)             -0.1969      0.062     -3.150      0.002      -0.321      -0.072\n",
       "==============================================================================\n",
       "Omnibus:                        0.191   Durbin-Watson:                   1.805\n",
       "Prob(Omnibus):                  0.909   Jarque-Bera (JB):                0.335\n",
       "Skew:                          -0.097   Prob(JB):                        0.846\n",
       "Kurtosis:                       2.754   Cond. No.                     1.18e+03\n",
       "==============================================================================\n",
       "\n",
       "Notes:\n",
       "[1] Standard Errors assume that the covariance matrix of the errors is correctly specified.\n",
       "[2] The condition number is large, 1.18e+03. This might indicate that there are\n",
       "strong multicollinearity or other numerical problems.\n",
       "\"\"\""
      ]
     },
     "execution_count": 1,
     "metadata": {},
     "output_type": "execute_result"
    }
   ],
   "source": [
    "import pandas as pd\n",
    "from numpy import log # log instead of np.log\n",
    "import statsmodels.formula.api as smf\n",
    "\n",
    "Regko = pd.read_csv('csv/loedata/Regko.csv')\n",
    "fm = 'log(divorce)~log(regpop)+log(drink)+log(hdrink) + log(smoke)+log(grdp/regpop) + log(aged)'\n",
    "smf.ols(fm, data=Regko[Regko.type==2]).fit().summary()"
   ]
  },
  {
   "cell_type": "markdown",
   "id": "9d851663",
   "metadata": {},
   "source": [
    "주석 \\[2\\]는 주의할 필요가 없는 정보이다.\n",
    "\n",
    "## 예제 10.2 2년제 대학과 4년제 대학"
   ]
  },
  {
   "cell_type": "code",
   "execution_count": 2,
   "id": "dc2d6198",
   "metadata": {},
   "outputs": [
    {
     "name": "stdout",
     "output_type": "stream",
     "text": [
      "6763\n"
     ]
    },
    {
     "data": {
      "text/html": [
       "<div>\n",
       "<style scoped>\n",
       "    .dataframe tbody tr th:only-of-type {\n",
       "        vertical-align: middle;\n",
       "    }\n",
       "\n",
       "    .dataframe tbody tr th {\n",
       "        vertical-align: top;\n",
       "    }\n",
       "\n",
       "    .dataframe thead th {\n",
       "        text-align: right;\n",
       "    }\n",
       "</style>\n",
       "<table border=\"1\" class=\"dataframe\">\n",
       "  <thead>\n",
       "    <tr style=\"text-align: right;\">\n",
       "      <th></th>\n",
       "      <th>female</th>\n",
       "      <th>phsrank</th>\n",
       "      <th>BA</th>\n",
       "      <th>AA</th>\n",
       "      <th>black</th>\n",
       "      <th>hispanic</th>\n",
       "      <th>id</th>\n",
       "      <th>exper</th>\n",
       "      <th>jc</th>\n",
       "      <th>univ</th>\n",
       "      <th>...</th>\n",
       "      <th>medcity</th>\n",
       "      <th>submed</th>\n",
       "      <th>lgcity</th>\n",
       "      <th>sublg</th>\n",
       "      <th>vlgcity</th>\n",
       "      <th>subvlg</th>\n",
       "      <th>ne</th>\n",
       "      <th>nc</th>\n",
       "      <th>south</th>\n",
       "      <th>totcoll</th>\n",
       "    </tr>\n",
       "  </thead>\n",
       "  <tbody>\n",
       "    <tr>\n",
       "      <th>0</th>\n",
       "      <td>1</td>\n",
       "      <td>65</td>\n",
       "      <td>0</td>\n",
       "      <td>0</td>\n",
       "      <td>0</td>\n",
       "      <td>0</td>\n",
       "      <td>19</td>\n",
       "      <td>161</td>\n",
       "      <td>0.000000</td>\n",
       "      <td>0.000000</td>\n",
       "      <td>...</td>\n",
       "      <td>0</td>\n",
       "      <td>0</td>\n",
       "      <td>0</td>\n",
       "      <td>1</td>\n",
       "      <td>0</td>\n",
       "      <td>0</td>\n",
       "      <td>1</td>\n",
       "      <td>0</td>\n",
       "      <td>0</td>\n",
       "      <td>0.000000</td>\n",
       "    </tr>\n",
       "    <tr>\n",
       "      <th>1</th>\n",
       "      <td>1</td>\n",
       "      <td>97</td>\n",
       "      <td>0</td>\n",
       "      <td>0</td>\n",
       "      <td>0</td>\n",
       "      <td>0</td>\n",
       "      <td>93</td>\n",
       "      <td>119</td>\n",
       "      <td>0.000000</td>\n",
       "      <td>7.033333</td>\n",
       "      <td>...</td>\n",
       "      <td>0</td>\n",
       "      <td>0</td>\n",
       "      <td>0</td>\n",
       "      <td>0</td>\n",
       "      <td>0</td>\n",
       "      <td>0</td>\n",
       "      <td>0</td>\n",
       "      <td>1</td>\n",
       "      <td>0</td>\n",
       "      <td>7.033333</td>\n",
       "    </tr>\n",
       "    <tr>\n",
       "      <th>2</th>\n",
       "      <td>1</td>\n",
       "      <td>44</td>\n",
       "      <td>0</td>\n",
       "      <td>0</td>\n",
       "      <td>0</td>\n",
       "      <td>0</td>\n",
       "      <td>96</td>\n",
       "      <td>81</td>\n",
       "      <td>0.000000</td>\n",
       "      <td>0.000000</td>\n",
       "      <td>...</td>\n",
       "      <td>0</td>\n",
       "      <td>0</td>\n",
       "      <td>0</td>\n",
       "      <td>1</td>\n",
       "      <td>0</td>\n",
       "      <td>0</td>\n",
       "      <td>1</td>\n",
       "      <td>0</td>\n",
       "      <td>0</td>\n",
       "      <td>0.000000</td>\n",
       "    </tr>\n",
       "    <tr>\n",
       "      <th>3</th>\n",
       "      <td>1</td>\n",
       "      <td>34</td>\n",
       "      <td>0</td>\n",
       "      <td>0</td>\n",
       "      <td>0</td>\n",
       "      <td>1</td>\n",
       "      <td>119</td>\n",
       "      <td>39</td>\n",
       "      <td>0.266667</td>\n",
       "      <td>0.000000</td>\n",
       "      <td>...</td>\n",
       "      <td>0</td>\n",
       "      <td>0</td>\n",
       "      <td>0</td>\n",
       "      <td>0</td>\n",
       "      <td>0</td>\n",
       "      <td>0</td>\n",
       "      <td>0</td>\n",
       "      <td>0</td>\n",
       "      <td>0</td>\n",
       "      <td>0.266667</td>\n",
       "    </tr>\n",
       "    <tr>\n",
       "      <th>4</th>\n",
       "      <td>1</td>\n",
       "      <td>80</td>\n",
       "      <td>0</td>\n",
       "      <td>0</td>\n",
       "      <td>0</td>\n",
       "      <td>0</td>\n",
       "      <td>132</td>\n",
       "      <td>141</td>\n",
       "      <td>0.000000</td>\n",
       "      <td>0.000000</td>\n",
       "      <td>...</td>\n",
       "      <td>0</td>\n",
       "      <td>0</td>\n",
       "      <td>0</td>\n",
       "      <td>0</td>\n",
       "      <td>0</td>\n",
       "      <td>0</td>\n",
       "      <td>0</td>\n",
       "      <td>0</td>\n",
       "      <td>1</td>\n",
       "      <td>0.000000</td>\n",
       "    </tr>\n",
       "  </tbody>\n",
       "</table>\n",
       "<p>5 rows × 23 columns</p>\n",
       "</div>"
      ],
      "text/plain": [
       "   female  phsrank  BA  AA  black  hispanic   id  exper        jc      univ  \\\n",
       "0       1       65   0   0      0         0   19    161  0.000000  0.000000   \n",
       "1       1       97   0   0      0         0   93    119  0.000000  7.033333   \n",
       "2       1       44   0   0      0         0   96     81  0.000000  0.000000   \n",
       "3       1       34   0   0      0         1  119     39  0.266667  0.000000   \n",
       "4       1       80   0   0      0         0  132    141  0.000000  0.000000   \n",
       "\n",
       "   ...  medcity  submed  lgcity  sublg  vlgcity  subvlg  ne  nc  south  \\\n",
       "0  ...        0       0       0      1        0       0   1   0      0   \n",
       "1  ...        0       0       0      0        0       0   0   1      0   \n",
       "2  ...        0       0       0      1        0       0   1   0      0   \n",
       "3  ...        0       0       0      0        0       0   0   0      0   \n",
       "4  ...        0       0       0      0        0       0   0   0      1   \n",
       "\n",
       "    totcoll  \n",
       "0  0.000000  \n",
       "1  7.033333  \n",
       "2  0.000000  \n",
       "3  0.266667  \n",
       "4  0.000000  \n",
       "\n",
       "[5 rows x 23 columns]"
      ]
     },
     "execution_count": 2,
     "metadata": {},
     "output_type": "execute_result"
    }
   ],
   "source": [
    "import pandas as pd\n",
    "import numpy as np\n",
    "\n",
    "twoyear = pd.read_csv('csv/wooldridge/twoyear.csv')\n",
    "print(len(twoyear))\n",
    "twoyear.head()"
   ]
  },
  {
   "cell_type": "code",
   "execution_count": 3,
   "id": "fc0abbe7",
   "metadata": {},
   "outputs": [
    {
     "data": {
      "text/html": [
       "<table class=\"simpletable\">\n",
       "<caption>OLS Regression Results</caption>\n",
       "<tr>\n",
       "  <th>Dep. Variable:</th>          <td>lwage</td>      <th>  R-squared:         </th> <td>   0.222</td>\n",
       "</tr>\n",
       "<tr>\n",
       "  <th>Model:</th>                   <td>OLS</td>       <th>  Adj. R-squared:    </th> <td>   0.222</td>\n",
       "</tr>\n",
       "<tr>\n",
       "  <th>Method:</th>             <td>Least Squares</td>  <th>  F-statistic:       </th> <td>   644.5</td>\n",
       "</tr>\n",
       "<tr>\n",
       "  <th>Date:</th>             <td>Sun, 23 Jun 2024</td> <th>  Prob (F-statistic):</th>  <td>  0.00</td> \n",
       "</tr>\n",
       "<tr>\n",
       "  <th>Time:</th>                 <td>23:51:35</td>     <th>  Log-Likelihood:    </th> <td> -3888.7</td>\n",
       "</tr>\n",
       "<tr>\n",
       "  <th>No. Observations:</th>      <td>  6763</td>      <th>  AIC:               </th> <td>   7785.</td>\n",
       "</tr>\n",
       "<tr>\n",
       "  <th>Df Residuals:</th>          <td>  6759</td>      <th>  BIC:               </th> <td>   7813.</td>\n",
       "</tr>\n",
       "<tr>\n",
       "  <th>Df Model:</th>              <td>     3</td>      <th>                     </th>     <td> </td>   \n",
       "</tr>\n",
       "<tr>\n",
       "  <th>Covariance Type:</th>      <td>nonrobust</td>    <th>                     </th>     <td> </td>   \n",
       "</tr>\n",
       "</table>\n",
       "<table class=\"simpletable\">\n",
       "<tr>\n",
       "      <td></td>         <th>coef</th>     <th>std err</th>      <th>t</th>      <th>P>|t|</th>  <th>[0.025</th>    <th>0.975]</th>  \n",
       "</tr>\n",
       "<tr>\n",
       "  <th>Intercept</th> <td>    1.4723</td> <td>    0.021</td> <td>   69.910</td> <td> 0.000</td> <td>    1.431</td> <td>    1.514</td>\n",
       "</tr>\n",
       "<tr>\n",
       "  <th>jc</th>        <td>    0.0667</td> <td>    0.007</td> <td>    9.767</td> <td> 0.000</td> <td>    0.053</td> <td>    0.080</td>\n",
       "</tr>\n",
       "<tr>\n",
       "  <th>univ</th>      <td>    0.0769</td> <td>    0.002</td> <td>   33.298</td> <td> 0.000</td> <td>    0.072</td> <td>    0.081</td>\n",
       "</tr>\n",
       "<tr>\n",
       "  <th>exper</th>     <td>    0.0049</td> <td>    0.000</td> <td>   31.397</td> <td> 0.000</td> <td>    0.005</td> <td>    0.005</td>\n",
       "</tr>\n",
       "</table>\n",
       "<table class=\"simpletable\">\n",
       "<tr>\n",
       "  <th>Omnibus:</th>       <td>81.514</td> <th>  Durbin-Watson:     </th> <td>   1.968</td>\n",
       "</tr>\n",
       "<tr>\n",
       "  <th>Prob(Omnibus):</th> <td> 0.000</td> <th>  Jarque-Bera (JB):  </th> <td> 142.465</td>\n",
       "</tr>\n",
       "<tr>\n",
       "  <th>Skew:</th>          <td>-0.036</td> <th>  Prob(JB):          </th> <td>1.16e-31</td>\n",
       "</tr>\n",
       "<tr>\n",
       "  <th>Kurtosis:</th>      <td> 3.707</td> <th>  Cond. No.          </th> <td>    512.</td>\n",
       "</tr>\n",
       "</table><br/><br/>Notes:<br/>[1] Standard Errors assume that the covariance matrix of the errors is correctly specified."
      ],
      "text/latex": [
       "\\begin{center}\n",
       "\\begin{tabular}{lclc}\n",
       "\\toprule\n",
       "\\textbf{Dep. Variable:}    &      lwage       & \\textbf{  R-squared:         } &     0.222   \\\\\n",
       "\\textbf{Model:}            &       OLS        & \\textbf{  Adj. R-squared:    } &     0.222   \\\\\n",
       "\\textbf{Method:}           &  Least Squares   & \\textbf{  F-statistic:       } &     644.5   \\\\\n",
       "\\textbf{Date:}             & Sun, 23 Jun 2024 & \\textbf{  Prob (F-statistic):} &     0.00    \\\\\n",
       "\\textbf{Time:}             &     23:51:35     & \\textbf{  Log-Likelihood:    } &   -3888.7   \\\\\n",
       "\\textbf{No. Observations:} &        6763      & \\textbf{  AIC:               } &     7785.   \\\\\n",
       "\\textbf{Df Residuals:}     &        6759      & \\textbf{  BIC:               } &     7813.   \\\\\n",
       "\\textbf{Df Model:}         &           3      & \\textbf{                     } &             \\\\\n",
       "\\textbf{Covariance Type:}  &    nonrobust     & \\textbf{                     } &             \\\\\n",
       "\\bottomrule\n",
       "\\end{tabular}\n",
       "\\begin{tabular}{lcccccc}\n",
       "                   & \\textbf{coef} & \\textbf{std err} & \\textbf{t} & \\textbf{P$> |$t$|$} & \\textbf{[0.025} & \\textbf{0.975]}  \\\\\n",
       "\\midrule\n",
       "\\textbf{Intercept} &       1.4723  &        0.021     &    69.910  &         0.000        &        1.431    &        1.514     \\\\\n",
       "\\textbf{jc}        &       0.0667  &        0.007     &     9.767  &         0.000        &        0.053    &        0.080     \\\\\n",
       "\\textbf{univ}      &       0.0769  &        0.002     &    33.298  &         0.000        &        0.072    &        0.081     \\\\\n",
       "\\textbf{exper}     &       0.0049  &        0.000     &    31.397  &         0.000        &        0.005    &        0.005     \\\\\n",
       "\\bottomrule\n",
       "\\end{tabular}\n",
       "\\begin{tabular}{lclc}\n",
       "\\textbf{Omnibus:}       & 81.514 & \\textbf{  Durbin-Watson:     } &    1.968  \\\\\n",
       "\\textbf{Prob(Omnibus):} &  0.000 & \\textbf{  Jarque-Bera (JB):  } &  142.465  \\\\\n",
       "\\textbf{Skew:}          & -0.036 & \\textbf{  Prob(JB):          } & 1.16e-31  \\\\\n",
       "\\textbf{Kurtosis:}      &  3.707 & \\textbf{  Cond. No.          } &     512.  \\\\\n",
       "\\bottomrule\n",
       "\\end{tabular}\n",
       "%\\caption{OLS Regression Results}\n",
       "\\end{center}\n",
       "\n",
       "Notes: \\newline\n",
       " [1] Standard Errors assume that the covariance matrix of the errors is correctly specified."
      ],
      "text/plain": [
       "<class 'statsmodels.iolib.summary.Summary'>\n",
       "\"\"\"\n",
       "                            OLS Regression Results                            \n",
       "==============================================================================\n",
       "Dep. Variable:                  lwage   R-squared:                       0.222\n",
       "Model:                            OLS   Adj. R-squared:                  0.222\n",
       "Method:                 Least Squares   F-statistic:                     644.5\n",
       "Date:                Sun, 23 Jun 2024   Prob (F-statistic):               0.00\n",
       "Time:                        23:51:35   Log-Likelihood:                -3888.7\n",
       "No. Observations:                6763   AIC:                             7785.\n",
       "Df Residuals:                    6759   BIC:                             7813.\n",
       "Df Model:                           3                                         \n",
       "Covariance Type:            nonrobust                                         \n",
       "==============================================================================\n",
       "                 coef    std err          t      P>|t|      [0.025      0.975]\n",
       "------------------------------------------------------------------------------\n",
       "Intercept      1.4723      0.021     69.910      0.000       1.431       1.514\n",
       "jc             0.0667      0.007      9.767      0.000       0.053       0.080\n",
       "univ           0.0769      0.002     33.298      0.000       0.072       0.081\n",
       "exper          0.0049      0.000     31.397      0.000       0.005       0.005\n",
       "==============================================================================\n",
       "Omnibus:                       81.514   Durbin-Watson:                   1.968\n",
       "Prob(Omnibus):                  0.000   Jarque-Bera (JB):              142.465\n",
       "Skew:                          -0.036   Prob(JB):                     1.16e-31\n",
       "Kurtosis:                       3.707   Cond. No.                         512.\n",
       "==============================================================================\n",
       "\n",
       "Notes:\n",
       "[1] Standard Errors assume that the covariance matrix of the errors is correctly specified.\n",
       "\"\"\""
      ]
     },
     "execution_count": 3,
     "metadata": {},
     "output_type": "execute_result"
    }
   ],
   "source": [
    "reg0 = smf.ols('lwage~jc+univ+exper', data=twoyear).fit()\n",
    "reg0.summary()"
   ]
  },
  {
   "cell_type": "code",
   "execution_count": 4,
   "id": "ff0d3d01",
   "metadata": {},
   "outputs": [
    {
     "data": {
      "text/html": [
       "<table class=\"simpletable\">\n",
       "<caption>OLS Regression Results</caption>\n",
       "<tr>\n",
       "  <th>Dep. Variable:</th>          <td>lwage</td>      <th>  R-squared:         </th> <td>   0.222</td>\n",
       "</tr>\n",
       "<tr>\n",
       "  <th>Model:</th>                   <td>OLS</td>       <th>  Adj. R-squared:    </th> <td>   0.222</td>\n",
       "</tr>\n",
       "<tr>\n",
       "  <th>Method:</th>             <td>Least Squares</td>  <th>  F-statistic:       </th> <td>   644.5</td>\n",
       "</tr>\n",
       "<tr>\n",
       "  <th>Date:</th>             <td>Sun, 23 Jun 2024</td> <th>  Prob (F-statistic):</th>  <td>  0.00</td> \n",
       "</tr>\n",
       "<tr>\n",
       "  <th>Time:</th>                 <td>23:51:35</td>     <th>  Log-Likelihood:    </th> <td> -3888.7</td>\n",
       "</tr>\n",
       "<tr>\n",
       "  <th>No. Observations:</th>      <td>  6763</td>      <th>  AIC:               </th> <td>   7785.</td>\n",
       "</tr>\n",
       "<tr>\n",
       "  <th>Df Residuals:</th>          <td>  6759</td>      <th>  BIC:               </th> <td>   7813.</td>\n",
       "</tr>\n",
       "<tr>\n",
       "  <th>Df Model:</th>              <td>     3</td>      <th>                     </th>     <td> </td>   \n",
       "</tr>\n",
       "<tr>\n",
       "  <th>Covariance Type:</th>      <td>nonrobust</td>    <th>                     </th>     <td> </td>   \n",
       "</tr>\n",
       "</table>\n",
       "<table class=\"simpletable\">\n",
       "<tr>\n",
       "      <td></td>         <th>coef</th>     <th>std err</th>      <th>t</th>      <th>P>|t|</th>  <th>[0.025</th>    <th>0.975]</th>  \n",
       "</tr>\n",
       "<tr>\n",
       "  <th>Intercept</th> <td>    1.4723</td> <td>    0.021</td> <td>   69.910</td> <td> 0.000</td> <td>    1.431</td> <td>    1.514</td>\n",
       "</tr>\n",
       "<tr>\n",
       "  <th>jc</th>        <td>   -0.0102</td> <td>    0.007</td> <td>   -1.468</td> <td> 0.142</td> <td>   -0.024</td> <td>    0.003</td>\n",
       "</tr>\n",
       "<tr>\n",
       "  <th>totcoll</th>   <td>    0.0769</td> <td>    0.002</td> <td>   33.298</td> <td> 0.000</td> <td>    0.072</td> <td>    0.081</td>\n",
       "</tr>\n",
       "<tr>\n",
       "  <th>exper</th>     <td>    0.0049</td> <td>    0.000</td> <td>   31.397</td> <td> 0.000</td> <td>    0.005</td> <td>    0.005</td>\n",
       "</tr>\n",
       "</table>\n",
       "<table class=\"simpletable\">\n",
       "<tr>\n",
       "  <th>Omnibus:</th>       <td>81.514</td> <th>  Durbin-Watson:     </th> <td>   1.968</td>\n",
       "</tr>\n",
       "<tr>\n",
       "  <th>Prob(Omnibus):</th> <td> 0.000</td> <th>  Jarque-Bera (JB):  </th> <td> 142.465</td>\n",
       "</tr>\n",
       "<tr>\n",
       "  <th>Skew:</th>          <td>-0.036</td> <th>  Prob(JB):          </th> <td>1.16e-31</td>\n",
       "</tr>\n",
       "<tr>\n",
       "  <th>Kurtosis:</th>      <td> 3.707</td> <th>  Cond. No.          </th> <td>    511.</td>\n",
       "</tr>\n",
       "</table><br/><br/>Notes:<br/>[1] Standard Errors assume that the covariance matrix of the errors is correctly specified."
      ],
      "text/latex": [
       "\\begin{center}\n",
       "\\begin{tabular}{lclc}\n",
       "\\toprule\n",
       "\\textbf{Dep. Variable:}    &      lwage       & \\textbf{  R-squared:         } &     0.222   \\\\\n",
       "\\textbf{Model:}            &       OLS        & \\textbf{  Adj. R-squared:    } &     0.222   \\\\\n",
       "\\textbf{Method:}           &  Least Squares   & \\textbf{  F-statistic:       } &     644.5   \\\\\n",
       "\\textbf{Date:}             & Sun, 23 Jun 2024 & \\textbf{  Prob (F-statistic):} &     0.00    \\\\\n",
       "\\textbf{Time:}             &     23:51:35     & \\textbf{  Log-Likelihood:    } &   -3888.7   \\\\\n",
       "\\textbf{No. Observations:} &        6763      & \\textbf{  AIC:               } &     7785.   \\\\\n",
       "\\textbf{Df Residuals:}     &        6759      & \\textbf{  BIC:               } &     7813.   \\\\\n",
       "\\textbf{Df Model:}         &           3      & \\textbf{                     } &             \\\\\n",
       "\\textbf{Covariance Type:}  &    nonrobust     & \\textbf{                     } &             \\\\\n",
       "\\bottomrule\n",
       "\\end{tabular}\n",
       "\\begin{tabular}{lcccccc}\n",
       "                   & \\textbf{coef} & \\textbf{std err} & \\textbf{t} & \\textbf{P$> |$t$|$} & \\textbf{[0.025} & \\textbf{0.975]}  \\\\\n",
       "\\midrule\n",
       "\\textbf{Intercept} &       1.4723  &        0.021     &    69.910  &         0.000        &        1.431    &        1.514     \\\\\n",
       "\\textbf{jc}        &      -0.0102  &        0.007     &    -1.468  &         0.142        &       -0.024    &        0.003     \\\\\n",
       "\\textbf{totcoll}   &       0.0769  &        0.002     &    33.298  &         0.000        &        0.072    &        0.081     \\\\\n",
       "\\textbf{exper}     &       0.0049  &        0.000     &    31.397  &         0.000        &        0.005    &        0.005     \\\\\n",
       "\\bottomrule\n",
       "\\end{tabular}\n",
       "\\begin{tabular}{lclc}\n",
       "\\textbf{Omnibus:}       & 81.514 & \\textbf{  Durbin-Watson:     } &    1.968  \\\\\n",
       "\\textbf{Prob(Omnibus):} &  0.000 & \\textbf{  Jarque-Bera (JB):  } &  142.465  \\\\\n",
       "\\textbf{Skew:}          & -0.036 & \\textbf{  Prob(JB):          } & 1.16e-31  \\\\\n",
       "\\textbf{Kurtosis:}      &  3.707 & \\textbf{  Cond. No.          } &     511.  \\\\\n",
       "\\bottomrule\n",
       "\\end{tabular}\n",
       "%\\caption{OLS Regression Results}\n",
       "\\end{center}\n",
       "\n",
       "Notes: \\newline\n",
       " [1] Standard Errors assume that the covariance matrix of the errors is correctly specified."
      ],
      "text/plain": [
       "<class 'statsmodels.iolib.summary.Summary'>\n",
       "\"\"\"\n",
       "                            OLS Regression Results                            \n",
       "==============================================================================\n",
       "Dep. Variable:                  lwage   R-squared:                       0.222\n",
       "Model:                            OLS   Adj. R-squared:                  0.222\n",
       "Method:                 Least Squares   F-statistic:                     644.5\n",
       "Date:                Sun, 23 Jun 2024   Prob (F-statistic):               0.00\n",
       "Time:                        23:51:35   Log-Likelihood:                -3888.7\n",
       "No. Observations:                6763   AIC:                             7785.\n",
       "Df Residuals:                    6759   BIC:                             7813.\n",
       "Df Model:                           3                                         \n",
       "Covariance Type:            nonrobust                                         \n",
       "==============================================================================\n",
       "                 coef    std err          t      P>|t|      [0.025      0.975]\n",
       "------------------------------------------------------------------------------\n",
       "Intercept      1.4723      0.021     69.910      0.000       1.431       1.514\n",
       "jc            -0.0102      0.007     -1.468      0.142      -0.024       0.003\n",
       "totcoll        0.0769      0.002     33.298      0.000       0.072       0.081\n",
       "exper          0.0049      0.000     31.397      0.000       0.005       0.005\n",
       "==============================================================================\n",
       "Omnibus:                       81.514   Durbin-Watson:                   1.968\n",
       "Prob(Omnibus):                  0.000   Jarque-Bera (JB):              142.465\n",
       "Skew:                          -0.036   Prob(JB):                     1.16e-31\n",
       "Kurtosis:                       3.707   Cond. No.                         511.\n",
       "==============================================================================\n",
       "\n",
       "Notes:\n",
       "[1] Standard Errors assume that the covariance matrix of the errors is correctly specified.\n",
       "\"\"\""
      ]
     },
     "execution_count": 4,
     "metadata": {},
     "output_type": "execute_result"
    }
   ],
   "source": [
    "twoyear['totcoll'] = twoyear.jc + twoyear.univ\n",
    "smf.ols('lwage~jc+totcoll+exper', data=twoyear).fit().summary()"
   ]
  },
  {
   "cell_type": "markdown",
   "id": "f990abab",
   "metadata": {},
   "source": [
    "다음은 오차분산 추정치($s^2$) 부분을 제외한 분산 및 공분산 행렬이다."
   ]
  },
  {
   "cell_type": "code",
   "execution_count": 5,
   "id": "fb328b76",
   "metadata": {},
   "outputs": [
    {
     "data": {
      "text/html": [
       "<div>\n",
       "<style scoped>\n",
       "    .dataframe tbody tr th:only-of-type {\n",
       "        vertical-align: middle;\n",
       "    }\n",
       "\n",
       "    .dataframe tbody tr th {\n",
       "        vertical-align: top;\n",
       "    }\n",
       "\n",
       "    .dataframe thead th {\n",
       "        text-align: right;\n",
       "    }\n",
       "</style>\n",
       "<table border=\"1\" class=\"dataframe\">\n",
       "  <thead>\n",
       "    <tr style=\"text-align: right;\">\n",
       "      <th></th>\n",
       "      <th>Intercept</th>\n",
       "      <th>jc</th>\n",
       "      <th>univ</th>\n",
       "      <th>exper</th>\n",
       "    </tr>\n",
       "  </thead>\n",
       "  <tbody>\n",
       "    <tr>\n",
       "      <th>Intercept</th>\n",
       "      <td>0.002397</td>\n",
       "      <td>-9.412177e-05</td>\n",
       "      <td>-8.504379e-05</td>\n",
       "      <td>-1.678074e-05</td>\n",
       "    </tr>\n",
       "    <tr>\n",
       "      <th>jc</th>\n",
       "      <td>-0.000094</td>\n",
       "      <td>2.520413e-04</td>\n",
       "      <td>1.042017e-05</td>\n",
       "      <td>-9.287133e-08</td>\n",
       "    </tr>\n",
       "    <tr>\n",
       "      <th>univ</th>\n",
       "      <td>-0.000085</td>\n",
       "      <td>1.042017e-05</td>\n",
       "      <td>2.880909e-05</td>\n",
       "      <td>2.125993e-07</td>\n",
       "    </tr>\n",
       "    <tr>\n",
       "      <th>exper</th>\n",
       "      <td>-0.000017</td>\n",
       "      <td>-9.287133e-08</td>\n",
       "      <td>2.125993e-07</td>\n",
       "      <td>1.340290e-07</td>\n",
       "    </tr>\n",
       "  </tbody>\n",
       "</table>\n",
       "</div>"
      ],
      "text/plain": [
       "           Intercept            jc          univ         exper\n",
       "Intercept   0.002397 -9.412177e-05 -8.504379e-05 -1.678074e-05\n",
       "jc         -0.000094  2.520413e-04  1.042017e-05 -9.287133e-08\n",
       "univ       -0.000085  1.042017e-05  2.880909e-05  2.125993e-07\n",
       "exper      -0.000017 -9.287133e-08  2.125993e-07  1.340290e-07"
      ]
     },
     "execution_count": 5,
     "metadata": {},
     "output_type": "execute_result"
    }
   ],
   "source": [
    "reg0.normalized_cov_params"
   ]
  },
  {
   "cell_type": "markdown",
   "id": "b798eaff",
   "metadata": {},
   "source": [
    "위에 $s^2$을 곱하면 분산 및 공분산들을 얻는다. $s^2$은 다음과 같다."
   ]
  },
  {
   "cell_type": "code",
   "execution_count": 6,
   "id": "3f4ac1c1",
   "metadata": {},
   "outputs": [
    {
     "data": {
      "text/plain": [
       "0.1850190142404034"
      ]
     },
     "execution_count": 6,
     "metadata": {},
     "output_type": "execute_result"
    }
   ],
   "source": [
    "s2 = reg0.scale # bad naming; this is s^2, not s.\n",
    "s2"
   ]
  },
  {
   "cell_type": "code",
   "execution_count": 7,
   "id": "ba0ea4e0",
   "metadata": {},
   "outputs": [
    {
     "data": {
      "text/plain": [
       "0.006935906572922917"
      ]
     },
     "execution_count": 7,
     "metadata": {},
     "output_type": "execute_result"
    }
   ],
   "source": [
    "ixx = reg0.normalized_cov_params # inv(X'X)\n",
    "se = np.sqrt(s2*(ixx.jc.jc+ixx.univ.univ-2*ixx.jc.univ))\n",
    "se"
   ]
  },
  {
   "cell_type": "code",
   "execution_count": 8,
   "id": "7e0d490e",
   "metadata": {},
   "outputs": [
    {
     "data": {
      "text/plain": [
       "-1.4676566667599882"
      ]
     },
     "execution_count": 8,
     "metadata": {},
     "output_type": "execute_result"
    }
   ],
   "source": [
    "bhat = reg0.params\n",
    "tstat = (bhat.jc-bhat.univ)/se\n",
    "tstat"
   ]
  },
  {
   "cell_type": "code",
   "execution_count": 9,
   "id": "2b990445",
   "metadata": {},
   "outputs": [
    {
     "data": {
      "text/plain": [
       "0.14224403710482614"
      ]
     },
     "execution_count": 9,
     "metadata": {},
     "output_type": "execute_result"
    }
   ],
   "source": [
    "from scipy.stats import t\n",
    "\n",
    "pval = 2*(1-t.cdf(abs(tstat), reg0.df_resid))\n",
    "pval"
   ]
  },
  {
   "cell_type": "markdown",
   "id": "ff8c2ac4",
   "metadata": {},
   "source": [
    "## 예제 10.3 2년제 대학과 4년제 대학 예제에서 F검정"
   ]
  },
  {
   "cell_type": "code",
   "execution_count": 10,
   "id": "7af4c25d",
   "metadata": {},
   "outputs": [],
   "source": [
    "import pandas as pd\n",
    "import numpy as np\n",
    "import statsmodels.formula.api as smf\n",
    "\n",
    "twoyear = pd.read_csv('csv/wooldridge/twoyear.csv')\n",
    "reg1 = smf.ols('lwage~jc+univ+exper', data=twoyear).fit()\n",
    "reg0 = smf.ols('lwage~I(jc+univ)+exper', data=twoyear).fit()"
   ]
  },
  {
   "cell_type": "code",
   "execution_count": 11,
   "id": "97147e36",
   "metadata": {},
   "outputs": [
    {
     "data": {
      "text/plain": [
       "2.154016091484592"
      ]
     },
     "execution_count": 11,
     "metadata": {},
     "output_type": "execute_result"
    }
   ],
   "source": [
    "Fstat = ((reg0.ssr-reg1.ssr)/1)/reg1.scale\n",
    "Fstat"
   ]
  },
  {
   "cell_type": "code",
   "execution_count": 12,
   "id": "3af2aec7",
   "metadata": {},
   "outputs": [
    {
     "data": {
      "text/plain": [
       "0.14224403710559586"
      ]
     },
     "execution_count": 12,
     "metadata": {},
     "output_type": "execute_result"
    }
   ],
   "source": [
    "from scipy.stats import f\n",
    "\n",
    "pval = 1-f.cdf(Fstat,1,reg1.df_resid)\n",
    "pval"
   ]
  },
  {
   "cell_type": "code",
   "execution_count": 13,
   "id": "14fa6078",
   "metadata": {},
   "outputs": [
    {
     "data": {
      "text/plain": [
       "<class 'statsmodels.stats.contrast.ContrastResults'>\n",
       "<F test: F=2.1540160914850386, p=0.14224403710559885, df_denom=6.76e+03, df_num=1>"
      ]
     },
     "execution_count": 13,
     "metadata": {},
     "output_type": "execute_result"
    }
   ],
   "source": [
    "# 동일한 검정을 간단히\n",
    "reg1.f_test('jc=univ')"
   ]
  },
  {
   "cell_type": "code",
   "execution_count": 14,
   "id": "8568353c",
   "metadata": {},
   "outputs": [
    {
     "data": {
      "text/plain": [
       "<class 'statsmodels.stats.contrast.ContrastResults'>\n",
       "<F test: F=2.15401609148438, p=0.14224403710559885, df_denom=6.76e+03, df_num=1>"
      ]
     },
     "execution_count": 14,
     "metadata": {},
     "output_type": "execute_result"
    }
   ],
   "source": [
    "# 동일한 검정을 다른 식으로\n",
    "twoyear['totcoll'] = twoyear.jc+twoyear.univ\n",
    "ols1 = smf.ols('lwage~jc+totcoll+exper', data=twoyear).fit()\n",
    "ols1.f_test('jc=0')"
   ]
  },
  {
   "cell_type": "markdown",
   "id": "7f3ea52b",
   "metadata": {},
   "source": [
    "## 예제 10.4 병원 방문"
   ]
  },
  {
   "cell_type": "code",
   "execution_count": 15,
   "id": "657f28f2",
   "metadata": {},
   "outputs": [
    {
     "data": {
      "text/html": [
       "<table class=\"simpletable\">\n",
       "<caption>OLS Regression Results</caption>\n",
       "<tr>\n",
       "  <th>Dep. Variable:</th>         <td>doctor</td>      <th>  R-squared:         </th> <td>   0.092</td>\n",
       "</tr>\n",
       "<tr>\n",
       "  <th>Model:</th>                   <td>OLS</td>       <th>  Adj. R-squared:    </th> <td>   0.086</td>\n",
       "</tr>\n",
       "<tr>\n",
       "  <th>Method:</th>             <td>Least Squares</td>  <th>  F-statistic:       </th> <td>   16.15</td>\n",
       "</tr>\n",
       "<tr>\n",
       "  <th>Date:</th>             <td>Sun, 23 Jun 2024</td> <th>  Prob (F-statistic):</th> <td>5.12e-10</td>\n",
       "</tr>\n",
       "<tr>\n",
       "  <th>Time:</th>                 <td>23:51:35</td>     <th>  Log-Likelihood:    </th> <td> -1250.3</td>\n",
       "</tr>\n",
       "<tr>\n",
       "  <th>No. Observations:</th>      <td>   485</td>      <th>  AIC:               </th> <td>   2509.</td>\n",
       "</tr>\n",
       "<tr>\n",
       "  <th>Df Residuals:</th>          <td>   481</td>      <th>  BIC:               </th> <td>   2525.</td>\n",
       "</tr>\n",
       "<tr>\n",
       "  <th>Df Model:</th>              <td>     3</td>      <th>                     </th>     <td> </td>   \n",
       "</tr>\n",
       "<tr>\n",
       "  <th>Covariance Type:</th>      <td>nonrobust</td>    <th>                     </th>     <td> </td>   \n",
       "</tr>\n",
       "</table>\n",
       "<table class=\"simpletable\">\n",
       "<tr>\n",
       "      <td></td>         <th>coef</th>     <th>std err</th>      <th>t</th>      <th>P>|t|</th>  <th>[0.025</th>    <th>0.975]</th>  \n",
       "</tr>\n",
       "<tr>\n",
       "  <th>Intercept</th> <td>    1.6075</td> <td>    0.418</td> <td>    3.843</td> <td> 0.000</td> <td>    0.786</td> <td>    2.429</td>\n",
       "</tr>\n",
       "<tr>\n",
       "  <th>children</th>  <td>   -0.2512</td> <td>    0.110</td> <td>   -2.278</td> <td> 0.023</td> <td>   -0.468</td> <td>   -0.035</td>\n",
       "</tr>\n",
       "<tr>\n",
       "  <th>access</th>    <td>    1.4995</td> <td>    0.783</td> <td>    1.915</td> <td> 0.056</td> <td>   -0.039</td> <td>    3.039</td>\n",
       "</tr>\n",
       "<tr>\n",
       "  <th>health</th>    <td>    0.6506</td> <td>    0.102</td> <td>    6.399</td> <td> 0.000</td> <td>    0.451</td> <td>    0.850</td>\n",
       "</tr>\n",
       "</table>\n",
       "<table class=\"simpletable\">\n",
       "<tr>\n",
       "  <th>Omnibus:</th>       <td>660.517</td> <th>  Durbin-Watson:     </th>  <td>   1.879</td> \n",
       "</tr>\n",
       "<tr>\n",
       "  <th>Prob(Omnibus):</th> <td> 0.000</td>  <th>  Jarque-Bera (JB):  </th> <td>131192.869</td>\n",
       "</tr>\n",
       "<tr>\n",
       "  <th>Skew:</th>          <td> 6.773</td>  <th>  Prob(JB):          </th>  <td>    0.00</td> \n",
       "</tr>\n",
       "<tr>\n",
       "  <th>Kurtosis:</th>      <td>82.426</td>  <th>  Cond. No.          </th>  <td>    16.2</td> \n",
       "</tr>\n",
       "</table><br/><br/>Notes:<br/>[1] Standard Errors assume that the covariance matrix of the errors is correctly specified."
      ],
      "text/latex": [
       "\\begin{center}\n",
       "\\begin{tabular}{lclc}\n",
       "\\toprule\n",
       "\\textbf{Dep. Variable:}    &      doctor      & \\textbf{  R-squared:         } &     0.092   \\\\\n",
       "\\textbf{Model:}            &       OLS        & \\textbf{  Adj. R-squared:    } &     0.086   \\\\\n",
       "\\textbf{Method:}           &  Least Squares   & \\textbf{  F-statistic:       } &     16.15   \\\\\n",
       "\\textbf{Date:}             & Sun, 23 Jun 2024 & \\textbf{  Prob (F-statistic):} &  5.12e-10   \\\\\n",
       "\\textbf{Time:}             &     23:51:35     & \\textbf{  Log-Likelihood:    } &   -1250.3   \\\\\n",
       "\\textbf{No. Observations:} &         485      & \\textbf{  AIC:               } &     2509.   \\\\\n",
       "\\textbf{Df Residuals:}     &         481      & \\textbf{  BIC:               } &     2525.   \\\\\n",
       "\\textbf{Df Model:}         &           3      & \\textbf{                     } &             \\\\\n",
       "\\textbf{Covariance Type:}  &    nonrobust     & \\textbf{                     } &             \\\\\n",
       "\\bottomrule\n",
       "\\end{tabular}\n",
       "\\begin{tabular}{lcccccc}\n",
       "                   & \\textbf{coef} & \\textbf{std err} & \\textbf{t} & \\textbf{P$> |$t$|$} & \\textbf{[0.025} & \\textbf{0.975]}  \\\\\n",
       "\\midrule\n",
       "\\textbf{Intercept} &       1.6075  &        0.418     &     3.843  &         0.000        &        0.786    &        2.429     \\\\\n",
       "\\textbf{children}  &      -0.2512  &        0.110     &    -2.278  &         0.023        &       -0.468    &       -0.035     \\\\\n",
       "\\textbf{access}    &       1.4995  &        0.783     &     1.915  &         0.056        &       -0.039    &        3.039     \\\\\n",
       "\\textbf{health}    &       0.6506  &        0.102     &     6.399  &         0.000        &        0.451    &        0.850     \\\\\n",
       "\\bottomrule\n",
       "\\end{tabular}\n",
       "\\begin{tabular}{lclc}\n",
       "\\textbf{Omnibus:}       & 660.517 & \\textbf{  Durbin-Watson:     } &     1.879   \\\\\n",
       "\\textbf{Prob(Omnibus):} &   0.000 & \\textbf{  Jarque-Bera (JB):  } & 131192.869  \\\\\n",
       "\\textbf{Skew:}          &   6.773 & \\textbf{  Prob(JB):          } &      0.00   \\\\\n",
       "\\textbf{Kurtosis:}      &  82.426 & \\textbf{  Cond. No.          } &      16.2   \\\\\n",
       "\\bottomrule\n",
       "\\end{tabular}\n",
       "%\\caption{OLS Regression Results}\n",
       "\\end{center}\n",
       "\n",
       "Notes: \\newline\n",
       " [1] Standard Errors assume that the covariance matrix of the errors is correctly specified."
      ],
      "text/plain": [
       "<class 'statsmodels.iolib.summary.Summary'>\n",
       "\"\"\"\n",
       "                            OLS Regression Results                            \n",
       "==============================================================================\n",
       "Dep. Variable:                 doctor   R-squared:                       0.092\n",
       "Model:                            OLS   Adj. R-squared:                  0.086\n",
       "Method:                 Least Squares   F-statistic:                     16.15\n",
       "Date:                Sun, 23 Jun 2024   Prob (F-statistic):           5.12e-10\n",
       "Time:                        23:51:35   Log-Likelihood:                -1250.3\n",
       "No. Observations:                 485   AIC:                             2509.\n",
       "Df Residuals:                     481   BIC:                             2525.\n",
       "Df Model:                           3                                         \n",
       "Covariance Type:            nonrobust                                         \n",
       "==============================================================================\n",
       "                 coef    std err          t      P>|t|      [0.025      0.975]\n",
       "------------------------------------------------------------------------------\n",
       "Intercept      1.6075      0.418      3.843      0.000       0.786       2.429\n",
       "children      -0.2512      0.110     -2.278      0.023      -0.468      -0.035\n",
       "access         1.4995      0.783      1.915      0.056      -0.039       3.039\n",
       "health         0.6506      0.102      6.399      0.000       0.451       0.850\n",
       "==============================================================================\n",
       "Omnibus:                      660.517   Durbin-Watson:                   1.879\n",
       "Prob(Omnibus):                  0.000   Jarque-Bera (JB):           131192.869\n",
       "Skew:                           6.773   Prob(JB):                         0.00\n",
       "Kurtosis:                      82.426   Cond. No.                         16.2\n",
       "==============================================================================\n",
       "\n",
       "Notes:\n",
       "[1] Standard Errors assume that the covariance matrix of the errors is correctly specified.\n",
       "\"\"\""
      ]
     },
     "execution_count": 15,
     "metadata": {},
     "output_type": "execute_result"
    }
   ],
   "source": [
    "import pandas as pd\n",
    "import numpy as np\n",
    "import statsmodels.formula.api as smf\n",
    "\n",
    "Doctor = pd.read_csv('csv/Ecdat/Doctor.csv')\n",
    "ols1 = smf.ols('doctor~children+access+health', data=Doctor).fit()\n",
    "ols1.summary()"
   ]
  },
  {
   "cell_type": "code",
   "execution_count": 16,
   "id": "dc1b473a",
   "metadata": {},
   "outputs": [
    {
     "data": {
      "text/plain": [
       "<class 'statsmodels.stats.contrast.ContrastResults'>\n",
       "<F test: F=3.6653550665625207, p=0.05614775007156983, df_denom=481, df_num=1>"
      ]
     },
     "execution_count": 16,
     "metadata": {},
     "output_type": "execute_result"
    }
   ],
   "source": [
    "ols1.f_test('access=0')"
   ]
  },
  {
   "cell_type": "markdown",
   "id": "8e18b251",
   "metadata": {},
   "source": [
    "## 예제 10.5 복잡한 제약들의 F검정"
   ]
  },
  {
   "cell_type": "code",
   "execution_count": 17,
   "id": "dd88a7fa",
   "metadata": {},
   "outputs": [
    {
     "data": {
      "text/plain": [
       "<class 'statsmodels.stats.contrast.ContrastResults'>\n",
       "<F test: F=503.9720618690579, p=9.710503129065978e-205, df_denom=6.76e+03, df_num=2>"
      ]
     },
     "execution_count": 17,
     "metadata": {},
     "output_type": "execute_result"
    }
   ],
   "source": [
    "# Continue with the 'twoyear' data\n",
    "ols1 = smf.ols('lwage~jc+univ+exper', data=twoyear).fit() # unrestricted regression\n",
    "ols1.f_test('jc=univ, univ=exper')"
   ]
  },
  {
   "cell_type": "markdown",
   "id": "e162cfb9",
   "metadata": {},
   "source": [
    "## 예제 10.6 라그랑지 승수(LM) 검정"
   ]
  },
  {
   "cell_type": "code",
   "execution_count": 18,
   "id": "70ab230d",
   "metadata": {},
   "outputs": [
    {
     "data": {
      "text/plain": [
       "877.6587033769132"
      ]
     },
     "execution_count": 18,
     "metadata": {},
     "output_type": "execute_result"
    }
   ],
   "source": [
    "# Continue with the 'twoyear' data\n",
    "# Two constraints: jc=univ=exper\n",
    "ols0 = smf.ols('lwage~I(jc+univ+exper)', data=twoyear).fit() # restricted regression\n",
    "twoyear['resid'] = ols0.resid\n",
    "aux = smf.ols('resid~jc+univ+exper', data=twoyear).fit() # unrestricted regression\n",
    "lmstat = ols0.nobs*aux.rsquared\n",
    "lmstat"
   ]
  },
  {
   "cell_type": "code",
   "execution_count": 19,
   "id": "d1d2afef",
   "metadata": {},
   "outputs": [
    {
     "data": {
      "text/plain": [
       "5.991464547107979"
      ]
     },
     "execution_count": 19,
     "metadata": {},
     "output_type": "execute_result"
    }
   ],
   "source": [
    "from scipy.stats import chi2\n",
    "\n",
    "chi2.ppf(.95,2)"
   ]
  },
  {
   "cell_type": "code",
   "execution_count": 20,
   "id": "1c82b166",
   "metadata": {},
   "outputs": [
    {
     "data": {
      "text/plain": [
       "0.0"
      ]
     },
     "execution_count": 20,
     "metadata": {},
     "output_type": "execute_result"
    }
   ],
   "source": [
    "1-chi2.cdf(lmstat,2)"
   ]
  }
 ],
 "metadata": {
  "kernelspec": {
   "display_name": "Python 3 (ipykernel)",
   "language": "python",
   "name": "python3"
  },
  "language_info": {
   "codemirror_mode": {
    "name": "ipython",
    "version": 3
   },
   "file_extension": ".py",
   "mimetype": "text/x-python",
   "name": "python",
   "nbconvert_exporter": "python",
   "pygments_lexer": "ipython3",
   "version": "3.12.2"
  }
 },
 "nbformat": 4,
 "nbformat_minor": 5
}
