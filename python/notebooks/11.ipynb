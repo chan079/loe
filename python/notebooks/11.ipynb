{
 "cells": [
  {
   "cell_type": "markdown",
   "id": "9c71162c",
   "metadata": {},
   "source": [
    "# 11장 다중회귀 관련 추가 주제\n",
    "\n",
    "## 이진적 설명변수"
   ]
  },
  {
   "cell_type": "code",
   "execution_count": 1,
   "id": "96bcd96d",
   "metadata": {},
   "outputs": [
    {
     "data": {
      "text/html": [
       "<table class=\"simpletable\">\n",
       "<caption>OLS Regression Results</caption>\n",
       "<tr>\n",
       "  <th>Dep. Variable:</th>    <td>log(wage)</td> <th>  R-squared:         </th> <td>   0.137</td> \n",
       "</tr>\n",
       "<tr>\n",
       "  <th>Model:</th>               <td>OLS</td>    <th>  Adj. R-squared:    </th> <td>   0.137</td> \n",
       "</tr>\n",
       "<tr>\n",
       "  <th>No. Observations:</th>  <td>  3294</td>   <th>  F-statistic:       </th> <td>   174.7</td> \n",
       "</tr>\n",
       "<tr>\n",
       "  <th>Covariance Type:</th>  <td>nonrobust</td> <th>  Prob (F-statistic):</th> <td>4.04e-105</td>\n",
       "</tr>\n",
       "</table>\n",
       "<table class=\"simpletable\">\n",
       "<tr>\n",
       "      <td></td>         <th>coef</th>     <th>std err</th>      <th>t</th>      <th>P>|t|</th>  <th>[0.025</th>    <th>0.975]</th>  \n",
       "</tr>\n",
       "<tr>\n",
       "  <th>Intercept</th> <td>   -0.0168</td> <td>    0.088</td> <td>   -0.192</td> <td> 0.848</td> <td>   -0.188</td> <td>    0.155</td>\n",
       "</tr>\n",
       "<tr>\n",
       "  <th>school</th>    <td>    0.1234</td> <td>    0.006</td> <td>   19.802</td> <td> 0.000</td> <td>    0.111</td> <td>    0.136</td>\n",
       "</tr>\n",
       "<tr>\n",
       "  <th>exper</th>     <td>    0.0354</td> <td>    0.005</td> <td>    7.845</td> <td> 0.000</td> <td>    0.027</td> <td>    0.044</td>\n",
       "</tr>\n",
       "<tr>\n",
       "  <th>female</th>    <td>   -0.2426</td> <td>    0.020</td> <td>  -11.860</td> <td> 0.000</td> <td>   -0.283</td> <td>   -0.202</td>\n",
       "</tr>\n",
       "</table><br/><br/>Notes:<br/>[1] Standard Errors assume that the covariance matrix of the errors is correctly specified."
      ],
      "text/latex": [
       "\\begin{center}\n",
       "\\begin{tabular}{lclc}\n",
       "\\toprule\n",
       "\\textbf{Dep. Variable:}    &   log(wage)   & \\textbf{  R-squared:         } &     0.137   \\\\\n",
       "\\textbf{Model:}            &      OLS      & \\textbf{  Adj. R-squared:    } &     0.137   \\\\\n",
       "\\textbf{No. Observations:} &       3294    & \\textbf{  F-statistic:       } &     174.7   \\\\\n",
       "\\textbf{Covariance Type:}  &   nonrobust   & \\textbf{  Prob (F-statistic):} & 4.04e-105   \\\\\n",
       "\\bottomrule\n",
       "\\end{tabular}\n",
       "\\begin{tabular}{lcccccc}\n",
       "                   & \\textbf{coef} & \\textbf{std err} & \\textbf{t} & \\textbf{P$> |$t$|$} & \\textbf{[0.025} & \\textbf{0.975]}  \\\\\n",
       "\\midrule\n",
       "\\textbf{Intercept} &      -0.0168  &        0.088     &    -0.192  &         0.848        &       -0.188    &        0.155     \\\\\n",
       "\\textbf{school}    &       0.1234  &        0.006     &    19.802  &         0.000        &        0.111    &        0.136     \\\\\n",
       "\\textbf{exper}     &       0.0354  &        0.005     &     7.845  &         0.000        &        0.027    &        0.044     \\\\\n",
       "\\textbf{female}    &      -0.2426  &        0.020     &   -11.860  &         0.000        &       -0.283    &       -0.202     \\\\\n",
       "\\bottomrule\n",
       "\\end{tabular}\n",
       "%\\caption{OLS Regression Results}\n",
       "\\end{center}\n",
       "\n",
       "Notes: \\newline\n",
       " [1] Standard Errors assume that the covariance matrix of the errors is correctly specified."
      ],
      "text/plain": [
       "<class 'statsmodels.iolib.summary.Summary'>\n",
       "\"\"\"\n",
       "                            OLS Regression Results                            \n",
       "==============================================================================\n",
       "Dep. Variable:              log(wage)   R-squared:                       0.137\n",
       "Model:                            OLS   Adj. R-squared:                  0.137\n",
       "No. Observations:                3294   F-statistic:                     174.7\n",
       "Covariance Type:            nonrobust   Prob (F-statistic):          4.04e-105\n",
       "==============================================================================\n",
       "                 coef    std err          t      P>|t|      [0.025      0.975]\n",
       "------------------------------------------------------------------------------\n",
       "Intercept     -0.0168      0.088     -0.192      0.848      -0.188       0.155\n",
       "school         0.1234      0.006     19.802      0.000       0.111       0.136\n",
       "exper          0.0354      0.005      7.845      0.000       0.027       0.044\n",
       "female        -0.2426      0.020    -11.860      0.000      -0.283      -0.202\n",
       "==============================================================================\n",
       "\n",
       "Notes:\n",
       "[1] Standard Errors assume that the covariance matrix of the errors is correctly specified.\n",
       "\"\"\""
      ]
     },
     "execution_count": 1,
     "metadata": {},
     "output_type": "execute_result"
    }
   ],
   "source": [
    "import pandas as pd\n",
    "from numpy import log\n",
    "import statsmodels.formula.api as smf\n",
    "\n",
    "Wages1 = pd.read_csv('csv/Ecdat/Wages1.csv')\n",
    "Wages1['female'] = [int(x=='female') for x in Wages1.sex]\n",
    "ols = smf.ols('log(wage)~school+exper+female', data=Wages1).fit()\n",
    "ols.summary(slim=True)"
   ]
  },
  {
   "cell_type": "markdown",
   "id": "808be818",
   "metadata": {},
   "source": [
    "## 상호작용항"
   ]
  },
  {
   "cell_type": "code",
   "execution_count": 2,
   "id": "687cec98",
   "metadata": {},
   "outputs": [
    {
     "data": {
      "text/html": [
       "<table class=\"simpletable\">\n",
       "<caption>OLS Regression Results</caption>\n",
       "<tr>\n",
       "  <th>Dep. Variable:</th>    <td>log(wage)</td> <th>  R-squared:         </th> <td>   0.137</td> \n",
       "</tr>\n",
       "<tr>\n",
       "  <th>Model:</th>               <td>OLS</td>    <th>  Adj. R-squared:    </th> <td>   0.136</td> \n",
       "</tr>\n",
       "<tr>\n",
       "  <th>No. Observations:</th>  <td>  3294</td>   <th>  F-statistic:       </th> <td>   131.0</td> \n",
       "</tr>\n",
       "<tr>\n",
       "  <th>Covariance Type:</th>  <td>nonrobust</td> <th>  Prob (F-statistic):</th> <td>5.79e-104</td>\n",
       "</tr>\n",
       "</table>\n",
       "<table class=\"simpletable\">\n",
       "<tr>\n",
       "        <td></td>           <th>coef</th>     <th>std err</th>      <th>t</th>      <th>P>|t|</th>  <th>[0.025</th>    <th>0.975]</th>  \n",
       "</tr>\n",
       "<tr>\n",
       "  <th>Intercept</th>     <td>   -0.0122</td> <td>    0.109</td> <td>   -0.112</td> <td> 0.911</td> <td>   -0.226</td> <td>    0.201</td>\n",
       "</tr>\n",
       "<tr>\n",
       "  <th>female</th>        <td>   -0.2529</td> <td>    0.148</td> <td>   -1.714</td> <td> 0.087</td> <td>   -0.542</td> <td>    0.036</td>\n",
       "</tr>\n",
       "<tr>\n",
       "  <th>school</th>        <td>    0.1230</td> <td>    0.008</td> <td>   15.003</td> <td> 0.000</td> <td>    0.107</td> <td>    0.139</td>\n",
       "</tr>\n",
       "<tr>\n",
       "  <th>female:school</th> <td>    0.0009</td> <td>    0.012</td> <td>    0.071</td> <td> 0.944</td> <td>   -0.024</td> <td>    0.025</td>\n",
       "</tr>\n",
       "<tr>\n",
       "  <th>exper</th>         <td>    0.0354</td> <td>    0.005</td> <td>    7.793</td> <td> 0.000</td> <td>    0.026</td> <td>    0.044</td>\n",
       "</tr>\n",
       "</table><br/><br/>Notes:<br/>[1] Standard Errors assume that the covariance matrix of the errors is correctly specified."
      ],
      "text/latex": [
       "\\begin{center}\n",
       "\\begin{tabular}{lclc}\n",
       "\\toprule\n",
       "\\textbf{Dep. Variable:}    &   log(wage)   & \\textbf{  R-squared:         } &     0.137   \\\\\n",
       "\\textbf{Model:}            &      OLS      & \\textbf{  Adj. R-squared:    } &     0.136   \\\\\n",
       "\\textbf{No. Observations:} &       3294    & \\textbf{  F-statistic:       } &     131.0   \\\\\n",
       "\\textbf{Covariance Type:}  &   nonrobust   & \\textbf{  Prob (F-statistic):} & 5.79e-104   \\\\\n",
       "\\bottomrule\n",
       "\\end{tabular}\n",
       "\\begin{tabular}{lcccccc}\n",
       "                       & \\textbf{coef} & \\textbf{std err} & \\textbf{t} & \\textbf{P$> |$t$|$} & \\textbf{[0.025} & \\textbf{0.975]}  \\\\\n",
       "\\midrule\n",
       "\\textbf{Intercept}     &      -0.0122  &        0.109     &    -0.112  &         0.911        &       -0.226    &        0.201     \\\\\n",
       "\\textbf{female}        &      -0.2529  &        0.148     &    -1.714  &         0.087        &       -0.542    &        0.036     \\\\\n",
       "\\textbf{school}        &       0.1230  &        0.008     &    15.003  &         0.000        &        0.107    &        0.139     \\\\\n",
       "\\textbf{female:school} &       0.0009  &        0.012     &     0.071  &         0.944        &       -0.024    &        0.025     \\\\\n",
       "\\textbf{exper}         &       0.0354  &        0.005     &     7.793  &         0.000        &        0.026    &        0.044     \\\\\n",
       "\\bottomrule\n",
       "\\end{tabular}\n",
       "%\\caption{OLS Regression Results}\n",
       "\\end{center}\n",
       "\n",
       "Notes: \\newline\n",
       " [1] Standard Errors assume that the covariance matrix of the errors is correctly specified."
      ],
      "text/plain": [
       "<class 'statsmodels.iolib.summary.Summary'>\n",
       "\"\"\"\n",
       "                            OLS Regression Results                            \n",
       "==============================================================================\n",
       "Dep. Variable:              log(wage)   R-squared:                       0.137\n",
       "Model:                            OLS   Adj. R-squared:                  0.136\n",
       "No. Observations:                3294   F-statistic:                     131.0\n",
       "Covariance Type:            nonrobust   Prob (F-statistic):          5.79e-104\n",
       "=================================================================================\n",
       "                    coef    std err          t      P>|t|      [0.025      0.975]\n",
       "---------------------------------------------------------------------------------\n",
       "Intercept        -0.0122      0.109     -0.112      0.911      -0.226       0.201\n",
       "female           -0.2529      0.148     -1.714      0.087      -0.542       0.036\n",
       "school            0.1230      0.008     15.003      0.000       0.107       0.139\n",
       "female:school     0.0009      0.012      0.071      0.944      -0.024       0.025\n",
       "exper             0.0354      0.005      7.793      0.000       0.026       0.044\n",
       "=================================================================================\n",
       "\n",
       "Notes:\n",
       "[1] Standard Errors assume that the covariance matrix of the errors is correctly specified.\n",
       "\"\"\""
      ]
     },
     "execution_count": 2,
     "metadata": {},
     "output_type": "execute_result"
    }
   ],
   "source": [
    "# Continue\n",
    "ols = smf.ols('log(wage)~female*school+exper', data=Wages1).fit()\n",
    "ols.summary(slim=True)"
   ]
  },
  {
   "cell_type": "markdown",
   "id": "527fd0e4",
   "metadata": {},
   "source": [
    "## 집단별 회귀와 전체 회귀"
   ]
  },
  {
   "cell_type": "code",
   "execution_count": 3,
   "id": "4469206e",
   "metadata": {},
   "outputs": [],
   "source": [
    "# Continue\n",
    "eqa = smf.ols('log(wage)~school', data=Wages1).fit()\n",
    "eqb = smf.ols('log(wage)~school+female', data=Wages1).fit()\n",
    "eqc = smf.ols('log(wage)~school*female', data=Wages1).fit()\n",
    "eqd = smf.ols('log(wage)~school', data=Wages1[Wages1.female==0]).fit()\n",
    "eqe = smf.ols('log(wage)~school', data=Wages1[Wages1.female==1]).fit()"
   ]
  },
  {
   "cell_type": "code",
   "execution_count": 4,
   "id": "519bd897",
   "metadata": {},
   "outputs": [
    {
     "data": {
      "text/html": [
       "<table class=\"simpletable\">\n",
       "<tr>\n",
       "         <td></td>        <th>log(wage) I</th> <th>log(wage) II</th> <th>log(wage) III</th> <th>log(wage) IIII</th> <th>log(wage) IIIII</th>\n",
       "</tr>\n",
       "<tr>\n",
       "  <th>Intercept</th>       <td>0.3639***</td>    <td>0.3793***</td>    <td>0.4326***</td>      <td>0.4326***</td>       <td>0.0419</td>     \n",
       "</tr>\n",
       "<tr>\n",
       "  <th></th>                <td>(0.0738)</td>     <td>(0.0721)</td>     <td>(0.0937)</td>       <td>(0.0908)</td>       <td>(0.1181)</td>    \n",
       "</tr>\n",
       "<tr>\n",
       "  <th>school</th>          <td>0.1052***</td>    <td>0.1145***</td>    <td>0.1099***</td>      <td>0.1099***</td>      <td>0.1210***</td>   \n",
       "</tr>\n",
       "<tr>\n",
       "  <th></th>                <td>(0.0063)</td>     <td>(0.0062)</td>     <td>(0.0081)</td>       <td>(0.0078)</td>       <td>(0.0099)</td>    \n",
       "</tr>\n",
       "<tr>\n",
       "  <th>female</th>              <td></td>        <td>-0.2601***</td>   <td>-0.3907***</td>          <td></td>               <td></td>        \n",
       "</tr>\n",
       "<tr>\n",
       "  <th></th>                    <td></td>         <td>(0.0205)</td>     <td>(0.1478)</td>           <td></td>               <td></td>        \n",
       "</tr>\n",
       "<tr>\n",
       "  <th>school:female</th>       <td></td>             <td></td>          <td>0.0112</td>            <td></td>               <td></td>        \n",
       "</tr>\n",
       "<tr>\n",
       "  <th></th>                    <td></td>             <td></td>         <td>(0.0125)</td>           <td></td>               <td></td>        \n",
       "</tr>\n",
       "<tr>\n",
       "  <th>R-squared</th>        <td>0.0784</td>       <td>0.1213</td>       <td>0.1215</td>         <td>0.1021</td>         <td>0.0873</td>     \n",
       "</tr>\n",
       "<tr>\n",
       "  <th>R-squared Adj.</th>   <td>0.0781</td>       <td>0.1208</td>       <td>0.1207</td>         <td>0.1016</td>         <td>0.0867</td>     \n",
       "</tr>\n",
       "</table><br/>\n",
       "Standard errors in parentheses.<br/>\n",
       "* p<.1, ** p<.05, ***p<.01"
      ],
      "text/latex": [
       "\\begin{table}\n",
       "\\caption{}\n",
       "\\label{}\n",
       "\\begin{center}\n",
       "\\begin{tabular}{llllll}\n",
       "\\hline\n",
       "               & log(wage) I & log(wage) II & log(wage) III & log(wage) IIII & log(wage) IIIII  \\\\\n",
       "\\hline\n",
       "Intercept      & 0.3639***   & 0.3793***    & 0.4326***     & 0.4326***      & 0.0419           \\\\\n",
       "               & (0.0738)    & (0.0721)     & (0.0937)      & (0.0908)       & (0.1181)         \\\\\n",
       "school         & 0.1052***   & 0.1145***    & 0.1099***     & 0.1099***      & 0.1210***        \\\\\n",
       "               & (0.0063)    & (0.0062)     & (0.0081)      & (0.0078)       & (0.0099)         \\\\\n",
       "female         &             & -0.2601***   & -0.3907***    &                &                  \\\\\n",
       "               &             & (0.0205)     & (0.1478)      &                &                  \\\\\n",
       "school:female  &             &              & 0.0112        &                &                  \\\\\n",
       "               &             &              & (0.0125)      &                &                  \\\\\n",
       "R-squared      & 0.0784      & 0.1213       & 0.1215        & 0.1021         & 0.0873           \\\\\n",
       "R-squared Adj. & 0.0781      & 0.1208       & 0.1207        & 0.1016         & 0.0867           \\\\\n",
       "\\hline\n",
       "\\end{tabular}\n",
       "\\end{center}\n",
       "\\end{table}\n",
       "\\bigskip\n",
       "Standard errors in parentheses. \\newline \n",
       "* p<.1, ** p<.05, ***p<.01"
      ],
      "text/plain": [
       "<class 'statsmodels.iolib.summary2.Summary'>\n",
       "\"\"\"\n",
       "\n",
       "====================================================================================\n",
       "               log(wage) I log(wage) II log(wage) III log(wage) IIII log(wage) IIIII\n",
       "------------------------------------------------------------------------------------\n",
       "Intercept      0.3639***   0.3793***    0.4326***     0.4326***      0.0419         \n",
       "               (0.0738)    (0.0721)     (0.0937)      (0.0908)       (0.1181)       \n",
       "school         0.1052***   0.1145***    0.1099***     0.1099***      0.1210***      \n",
       "               (0.0063)    (0.0062)     (0.0081)      (0.0078)       (0.0099)       \n",
       "female                     -0.2601***   -0.3907***                                  \n",
       "                           (0.0205)     (0.1478)                                    \n",
       "school:female                           0.0112                                      \n",
       "                                        (0.0125)                                    \n",
       "R-squared      0.0784      0.1213       0.1215        0.1021         0.0873         \n",
       "R-squared Adj. 0.0781      0.1208       0.1207        0.1016         0.0867         \n",
       "====================================================================================\n",
       "Standard errors in parentheses.\n",
       "* p<.1, ** p<.05, ***p<.01\n",
       "\"\"\""
      ]
     },
     "execution_count": 4,
     "metadata": {},
     "output_type": "execute_result"
    }
   ],
   "source": [
    "#https://economics.stackexchange.com/questions/11774/outputting-regressions-as-table-in-python-similar-to-outreg-in-stata\n",
    "from statsmodels.iolib.summary2 import summary_col\n",
    "\n",
    "outreg = summary_col([eqa,eqb,eqc,eqd,eqe], stars=True)\n",
    "outreg # Why do I have R-squared and R-squared Adj.?"
   ]
  },
  {
   "cell_type": "markdown",
   "id": "cb78f5e5",
   "metadata": {},
   "source": [
    "## 예제 11.1 Card and Krueger (1994)"
   ]
  },
  {
   "cell_type": "code",
   "execution_count": 5,
   "id": "194e14b4",
   "metadata": {},
   "outputs": [
    {
     "data": {
      "text/html": [
       "<table class=\"simpletable\">\n",
       "<caption>OLS Regression Results</caption>\n",
       "<tr>\n",
       "  <th>Dep. Variable:</th>       <td>fte</td>    <th>  R-squared:         </th> <td>   0.001</td>\n",
       "</tr>\n",
       "<tr>\n",
       "  <th>Model:</th>               <td>OLS</td>    <th>  Adj. R-squared:    </th> <td>  -0.001</td>\n",
       "</tr>\n",
       "<tr>\n",
       "  <th>No. Observations:</th>  <td>   640</td>   <th>  F-statistic:       </th> <td>  0.6536</td>\n",
       "</tr>\n",
       "<tr>\n",
       "  <th>Covariance Type:</th>  <td>nonrobust</td> <th>  Prob (F-statistic):</th>  <td> 0.419</td> \n",
       "</tr>\n",
       "</table>\n",
       "<table class=\"simpletable\">\n",
       "<tr>\n",
       "      <td></td>         <th>coef</th>     <th>std err</th>      <th>t</th>      <th>P>|t|</th>  <th>[0.025</th>    <th>0.975]</th>  \n",
       "</tr>\n",
       "<tr>\n",
       "  <th>Intercept</th> <td>   20.4394</td> <td>    0.513</td> <td>   39.805</td> <td> 0.000</td> <td>   19.431</td> <td>   21.448</td>\n",
       "</tr>\n",
       "<tr>\n",
       "  <th>after</th>     <td>    0.5880</td> <td>    0.727</td> <td>    0.808</td> <td> 0.419</td> <td>   -0.840</td> <td>    2.016</td>\n",
       "</tr>\n",
       "</table><br/><br/>Notes:<br/>[1] Standard Errors assume that the covariance matrix of the errors is correctly specified."
      ],
      "text/latex": [
       "\\begin{center}\n",
       "\\begin{tabular}{lclc}\n",
       "\\toprule\n",
       "\\textbf{Dep. Variable:}    &      fte      & \\textbf{  R-squared:         } &     0.001   \\\\\n",
       "\\textbf{Model:}            &      OLS      & \\textbf{  Adj. R-squared:    } &    -0.001   \\\\\n",
       "\\textbf{No. Observations:} &        640    & \\textbf{  F-statistic:       } &    0.6536   \\\\\n",
       "\\textbf{Covariance Type:}  &   nonrobust   & \\textbf{  Prob (F-statistic):} &    0.419    \\\\\n",
       "\\bottomrule\n",
       "\\end{tabular}\n",
       "\\begin{tabular}{lcccccc}\n",
       "                   & \\textbf{coef} & \\textbf{std err} & \\textbf{t} & \\textbf{P$> |$t$|$} & \\textbf{[0.025} & \\textbf{0.975]}  \\\\\n",
       "\\midrule\n",
       "\\textbf{Intercept} &      20.4394  &        0.513     &    39.805  &         0.000        &       19.431    &       21.448     \\\\\n",
       "\\textbf{after}     &       0.5880  &        0.727     &     0.808  &         0.419        &       -0.840    &        2.016     \\\\\n",
       "\\bottomrule\n",
       "\\end{tabular}\n",
       "%\\caption{OLS Regression Results}\n",
       "\\end{center}\n",
       "\n",
       "Notes: \\newline\n",
       " [1] Standard Errors assume that the covariance matrix of the errors is correctly specified."
      ],
      "text/plain": [
       "<class 'statsmodels.iolib.summary.Summary'>\n",
       "\"\"\"\n",
       "                            OLS Regression Results                            \n",
       "==============================================================================\n",
       "Dep. Variable:                    fte   R-squared:                       0.001\n",
       "Model:                            OLS   Adj. R-squared:                 -0.001\n",
       "No. Observations:                 640   F-statistic:                    0.6536\n",
       "Covariance Type:            nonrobust   Prob (F-statistic):              0.419\n",
       "==============================================================================\n",
       "                 coef    std err          t      P>|t|      [0.025      0.975]\n",
       "------------------------------------------------------------------------------\n",
       "Intercept     20.4394      0.513     39.805      0.000      19.431      21.448\n",
       "after          0.5880      0.727      0.808      0.419      -0.840       2.016\n",
       "==============================================================================\n",
       "\n",
       "Notes:\n",
       "[1] Standard Errors assume that the covariance matrix of the errors is correctly specified.\n",
       "\"\"\""
      ]
     },
     "execution_count": 5,
     "metadata": {},
     "output_type": "execute_result"
    }
   ],
   "source": [
    "import pandas as pd\n",
    "import statsmodels.formula.api as smf\n",
    "\n",
    "Fastfood = pd.read_csv('csv/loedata/Fastfood.csv')\n",
    "ols = smf.ols('fte~after', data=Fastfood[Fastfood.nj==1]).fit()\n",
    "ols.summary(slim=True)"
   ]
  },
  {
   "cell_type": "code",
   "execution_count": 6,
   "id": "a2e738f1",
   "metadata": {},
   "outputs": [
    {
     "data": {
      "text/html": [
       "<table class=\"simpletable\">\n",
       "<caption>OLS Regression Results</caption>\n",
       "<tr>\n",
       "  <th>Dep. Variable:</th>       <td>fte</td>    <th>  R-squared:         </th> <td>   0.011</td>\n",
       "</tr>\n",
       "<tr>\n",
       "  <th>Model:</th>               <td>OLS</td>    <th>  Adj. R-squared:    </th> <td>   0.005</td>\n",
       "</tr>\n",
       "<tr>\n",
       "  <th>No. Observations:</th>  <td>   154</td>   <th>  F-statistic:       </th> <td>   1.727</td>\n",
       "</tr>\n",
       "<tr>\n",
       "  <th>Covariance Type:</th>  <td>nonrobust</td> <th>  Prob (F-statistic):</th>  <td> 0.191</td> \n",
       "</tr>\n",
       "</table>\n",
       "<table class=\"simpletable\">\n",
       "<tr>\n",
       "      <td></td>         <th>coef</th>     <th>std err</th>      <th>t</th>      <th>P>|t|</th>  <th>[0.025</th>    <th>0.975]</th>  \n",
       "</tr>\n",
       "<tr>\n",
       "  <th>Intercept</th> <td>   23.3312</td> <td>    1.165</td> <td>   20.024</td> <td> 0.000</td> <td>   21.029</td> <td>   25.633</td>\n",
       "</tr>\n",
       "<tr>\n",
       "  <th>after</th>     <td>   -2.1656</td> <td>    1.648</td> <td>   -1.314</td> <td> 0.191</td> <td>   -5.421</td> <td>    1.090</td>\n",
       "</tr>\n",
       "</table><br/><br/>Notes:<br/>[1] Standard Errors assume that the covariance matrix of the errors is correctly specified."
      ],
      "text/latex": [
       "\\begin{center}\n",
       "\\begin{tabular}{lclc}\n",
       "\\toprule\n",
       "\\textbf{Dep. Variable:}    &      fte      & \\textbf{  R-squared:         } &     0.011   \\\\\n",
       "\\textbf{Model:}            &      OLS      & \\textbf{  Adj. R-squared:    } &     0.005   \\\\\n",
       "\\textbf{No. Observations:} &        154    & \\textbf{  F-statistic:       } &     1.727   \\\\\n",
       "\\textbf{Covariance Type:}  &   nonrobust   & \\textbf{  Prob (F-statistic):} &    0.191    \\\\\n",
       "\\bottomrule\n",
       "\\end{tabular}\n",
       "\\begin{tabular}{lcccccc}\n",
       "                   & \\textbf{coef} & \\textbf{std err} & \\textbf{t} & \\textbf{P$> |$t$|$} & \\textbf{[0.025} & \\textbf{0.975]}  \\\\\n",
       "\\midrule\n",
       "\\textbf{Intercept} &      23.3312  &        1.165     &    20.024  &         0.000        &       21.029    &       25.633     \\\\\n",
       "\\textbf{after}     &      -2.1656  &        1.648     &    -1.314  &         0.191        &       -5.421    &        1.090     \\\\\n",
       "\\bottomrule\n",
       "\\end{tabular}\n",
       "%\\caption{OLS Regression Results}\n",
       "\\end{center}\n",
       "\n",
       "Notes: \\newline\n",
       " [1] Standard Errors assume that the covariance matrix of the errors is correctly specified."
      ],
      "text/plain": [
       "<class 'statsmodels.iolib.summary.Summary'>\n",
       "\"\"\"\n",
       "                            OLS Regression Results                            \n",
       "==============================================================================\n",
       "Dep. Variable:                    fte   R-squared:                       0.011\n",
       "Model:                            OLS   Adj. R-squared:                  0.005\n",
       "No. Observations:                 154   F-statistic:                     1.727\n",
       "Covariance Type:            nonrobust   Prob (F-statistic):              0.191\n",
       "==============================================================================\n",
       "                 coef    std err          t      P>|t|      [0.025      0.975]\n",
       "------------------------------------------------------------------------------\n",
       "Intercept     23.3312      1.165     20.024      0.000      21.029      25.633\n",
       "after         -2.1656      1.648     -1.314      0.191      -5.421       1.090\n",
       "==============================================================================\n",
       "\n",
       "Notes:\n",
       "[1] Standard Errors assume that the covariance matrix of the errors is correctly specified.\n",
       "\"\"\""
      ]
     },
     "execution_count": 6,
     "metadata": {},
     "output_type": "execute_result"
    }
   ],
   "source": [
    "smf.ols('fte~after', data=Fastfood[Fastfood.nj==0]).fit().summary(slim=True)"
   ]
  },
  {
   "cell_type": "code",
   "execution_count": 7,
   "id": "ecada749",
   "metadata": {},
   "outputs": [
    {
     "data": {
      "text/html": [
       "<table class=\"simpletable\">\n",
       "<caption>OLS Regression Results</caption>\n",
       "<tr>\n",
       "  <th>Dep. Variable:</th>       <td>fte</td>    <th>  R-squared:         </th> <td>   0.014</td>\n",
       "</tr>\n",
       "<tr>\n",
       "  <th>Model:</th>               <td>OLS</td>    <th>  Adj. R-squared:    </th> <td>   0.011</td>\n",
       "</tr>\n",
       "<tr>\n",
       "  <th>No. Observations:</th>  <td>   398</td>   <th>  F-statistic:       </th> <td>   5.525</td>\n",
       "</tr>\n",
       "<tr>\n",
       "  <th>Covariance Type:</th>  <td>nonrobust</td> <th>  Prob (F-statistic):</th>  <td>0.0192</td> \n",
       "</tr>\n",
       "</table>\n",
       "<table class=\"simpletable\">\n",
       "<tr>\n",
       "      <td></td>         <th>coef</th>     <th>std err</th>      <th>t</th>      <th>P>|t|</th>  <th>[0.025</th>    <th>0.975]</th>  \n",
       "</tr>\n",
       "<tr>\n",
       "  <th>Intercept</th> <td>   23.3312</td> <td>    1.105</td> <td>   21.118</td> <td> 0.000</td> <td>   21.159</td> <td>   25.503</td>\n",
       "</tr>\n",
       "<tr>\n",
       "  <th>nj</th>        <td>   -2.8918</td> <td>    1.230</td> <td>   -2.351</td> <td> 0.019</td> <td>   -5.310</td> <td>   -0.473</td>\n",
       "</tr>\n",
       "</table><br/><br/>Notes:<br/>[1] Standard Errors assume that the covariance matrix of the errors is correctly specified."
      ],
      "text/latex": [
       "\\begin{center}\n",
       "\\begin{tabular}{lclc}\n",
       "\\toprule\n",
       "\\textbf{Dep. Variable:}    &      fte      & \\textbf{  R-squared:         } &     0.014   \\\\\n",
       "\\textbf{Model:}            &      OLS      & \\textbf{  Adj. R-squared:    } &     0.011   \\\\\n",
       "\\textbf{No. Observations:} &        398    & \\textbf{  F-statistic:       } &     5.525   \\\\\n",
       "\\textbf{Covariance Type:}  &   nonrobust   & \\textbf{  Prob (F-statistic):} &   0.0192    \\\\\n",
       "\\bottomrule\n",
       "\\end{tabular}\n",
       "\\begin{tabular}{lcccccc}\n",
       "                   & \\textbf{coef} & \\textbf{std err} & \\textbf{t} & \\textbf{P$> |$t$|$} & \\textbf{[0.025} & \\textbf{0.975]}  \\\\\n",
       "\\midrule\n",
       "\\textbf{Intercept} &      23.3312  &        1.105     &    21.118  &         0.000        &       21.159    &       25.503     \\\\\n",
       "\\textbf{nj}        &      -2.8918  &        1.230     &    -2.351  &         0.019        &       -5.310    &       -0.473     \\\\\n",
       "\\bottomrule\n",
       "\\end{tabular}\n",
       "%\\caption{OLS Regression Results}\n",
       "\\end{center}\n",
       "\n",
       "Notes: \\newline\n",
       " [1] Standard Errors assume that the covariance matrix of the errors is correctly specified."
      ],
      "text/plain": [
       "<class 'statsmodels.iolib.summary.Summary'>\n",
       "\"\"\"\n",
       "                            OLS Regression Results                            \n",
       "==============================================================================\n",
       "Dep. Variable:                    fte   R-squared:                       0.014\n",
       "Model:                            OLS   Adj. R-squared:                  0.011\n",
       "No. Observations:                 398   F-statistic:                     5.525\n",
       "Covariance Type:            nonrobust   Prob (F-statistic):             0.0192\n",
       "==============================================================================\n",
       "                 coef    std err          t      P>|t|      [0.025      0.975]\n",
       "------------------------------------------------------------------------------\n",
       "Intercept     23.3312      1.105     21.118      0.000      21.159      25.503\n",
       "nj            -2.8918      1.230     -2.351      0.019      -5.310      -0.473\n",
       "==============================================================================\n",
       "\n",
       "Notes:\n",
       "[1] Standard Errors assume that the covariance matrix of the errors is correctly specified.\n",
       "\"\"\""
      ]
     },
     "execution_count": 7,
     "metadata": {},
     "output_type": "execute_result"
    }
   ],
   "source": [
    "smf.ols('fte~nj', data=Fastfood[Fastfood.after==0]).fit().summary(slim=True)"
   ]
  },
  {
   "cell_type": "code",
   "execution_count": 8,
   "id": "cba97a73",
   "metadata": {},
   "outputs": [
    {
     "data": {
      "text/html": [
       "<table class=\"simpletable\">\n",
       "<caption>OLS Regression Results</caption>\n",
       "<tr>\n",
       "  <th>Dep. Variable:</th>       <td>fte</td>    <th>  R-squared:         </th> <td>   0.000</td>\n",
       "</tr>\n",
       "<tr>\n",
       "  <th>Model:</th>               <td>OLS</td>    <th>  Adj. R-squared:    </th> <td>  -0.003</td>\n",
       "</tr>\n",
       "<tr>\n",
       "  <th>No. Observations:</th>  <td>   396</td>   <th>  F-statistic:       </th> <td> 0.01428</td>\n",
       "</tr>\n",
       "<tr>\n",
       "  <th>Covariance Type:</th>  <td>nonrobust</td> <th>  Prob (F-statistic):</th>  <td> 0.905</td> \n",
       "</tr>\n",
       "</table>\n",
       "<table class=\"simpletable\">\n",
       "<tr>\n",
       "      <td></td>         <th>coef</th>     <th>std err</th>      <th>t</th>      <th>P>|t|</th>  <th>[0.025</th>    <th>0.975]</th>  \n",
       "</tr>\n",
       "<tr>\n",
       "  <th>Intercept</th> <td>   21.1656</td> <td>    1.038</td> <td>   20.397</td> <td> 0.000</td> <td>   19.125</td> <td>   23.206</td>\n",
       "</tr>\n",
       "<tr>\n",
       "  <th>nj</th>        <td>   -0.1382</td> <td>    1.156</td> <td>   -0.119</td> <td> 0.905</td> <td>   -2.411</td> <td>    2.135</td>\n",
       "</tr>\n",
       "</table><br/><br/>Notes:<br/>[1] Standard Errors assume that the covariance matrix of the errors is correctly specified."
      ],
      "text/latex": [
       "\\begin{center}\n",
       "\\begin{tabular}{lclc}\n",
       "\\toprule\n",
       "\\textbf{Dep. Variable:}    &      fte      & \\textbf{  R-squared:         } &     0.000   \\\\\n",
       "\\textbf{Model:}            &      OLS      & \\textbf{  Adj. R-squared:    } &    -0.003   \\\\\n",
       "\\textbf{No. Observations:} &        396    & \\textbf{  F-statistic:       } &   0.01428   \\\\\n",
       "\\textbf{Covariance Type:}  &   nonrobust   & \\textbf{  Prob (F-statistic):} &    0.905    \\\\\n",
       "\\bottomrule\n",
       "\\end{tabular}\n",
       "\\begin{tabular}{lcccccc}\n",
       "                   & \\textbf{coef} & \\textbf{std err} & \\textbf{t} & \\textbf{P$> |$t$|$} & \\textbf{[0.025} & \\textbf{0.975]}  \\\\\n",
       "\\midrule\n",
       "\\textbf{Intercept} &      21.1656  &        1.038     &    20.397  &         0.000        &       19.125    &       23.206     \\\\\n",
       "\\textbf{nj}        &      -0.1382  &        1.156     &    -0.119  &         0.905        &       -2.411    &        2.135     \\\\\n",
       "\\bottomrule\n",
       "\\end{tabular}\n",
       "%\\caption{OLS Regression Results}\n",
       "\\end{center}\n",
       "\n",
       "Notes: \\newline\n",
       " [1] Standard Errors assume that the covariance matrix of the errors is correctly specified."
      ],
      "text/plain": [
       "<class 'statsmodels.iolib.summary.Summary'>\n",
       "\"\"\"\n",
       "                            OLS Regression Results                            \n",
       "==============================================================================\n",
       "Dep. Variable:                    fte   R-squared:                       0.000\n",
       "Model:                            OLS   Adj. R-squared:                 -0.003\n",
       "No. Observations:                 396   F-statistic:                   0.01428\n",
       "Covariance Type:            nonrobust   Prob (F-statistic):              0.905\n",
       "==============================================================================\n",
       "                 coef    std err          t      P>|t|      [0.025      0.975]\n",
       "------------------------------------------------------------------------------\n",
       "Intercept     21.1656      1.038     20.397      0.000      19.125      23.206\n",
       "nj            -0.1382      1.156     -0.119      0.905      -2.411       2.135\n",
       "==============================================================================\n",
       "\n",
       "Notes:\n",
       "[1] Standard Errors assume that the covariance matrix of the errors is correctly specified.\n",
       "\"\"\""
      ]
     },
     "execution_count": 8,
     "metadata": {},
     "output_type": "execute_result"
    }
   ],
   "source": [
    "smf.ols('fte~nj', data=Fastfood[Fastfood.after==1]).fit().summary(slim=True)"
   ]
  },
  {
   "cell_type": "code",
   "execution_count": 9,
   "id": "00cdbd94",
   "metadata": {},
   "outputs": [
    {
     "data": {
      "text/html": [
       "<table class=\"simpletable\">\n",
       "<caption>OLS Regression Results</caption>\n",
       "<tr>\n",
       "  <th>Dep. Variable:</th>       <td>fte</td>    <th>  R-squared:         </th> <td>   0.007</td>\n",
       "</tr>\n",
       "<tr>\n",
       "  <th>Model:</th>               <td>OLS</td>    <th>  Adj. R-squared:    </th> <td>   0.004</td>\n",
       "</tr>\n",
       "<tr>\n",
       "  <th>No. Observations:</th>  <td>   794</td>   <th>  F-statistic:       </th> <td>   1.964</td>\n",
       "</tr>\n",
       "<tr>\n",
       "  <th>Covariance Type:</th>  <td>nonrobust</td> <th>  Prob (F-statistic):</th>  <td> 0.118</td> \n",
       "</tr>\n",
       "</table>\n",
       "<table class=\"simpletable\">\n",
       "<tr>\n",
       "      <td></td>         <th>coef</th>     <th>std err</th>      <th>t</th>      <th>P>|t|</th>  <th>[0.025</th>    <th>0.975]</th>  \n",
       "</tr>\n",
       "<tr>\n",
       "  <th>Intercept</th> <td>   23.3312</td> <td>    1.072</td> <td>   21.767</td> <td> 0.000</td> <td>   21.227</td> <td>   25.435</td>\n",
       "</tr>\n",
       "<tr>\n",
       "  <th>nj</th>        <td>   -2.8918</td> <td>    1.194</td> <td>   -2.423</td> <td> 0.016</td> <td>   -5.235</td> <td>   -0.549</td>\n",
       "</tr>\n",
       "<tr>\n",
       "  <th>after</th>     <td>   -2.1656</td> <td>    1.516</td> <td>   -1.429</td> <td> 0.154</td> <td>   -5.141</td> <td>    0.810</td>\n",
       "</tr>\n",
       "<tr>\n",
       "  <th>nj:after</th>  <td>    2.7536</td> <td>    1.688</td> <td>    1.631</td> <td> 0.103</td> <td>   -0.561</td> <td>    6.068</td>\n",
       "</tr>\n",
       "</table><br/><br/>Notes:<br/>[1] Standard Errors assume that the covariance matrix of the errors is correctly specified."
      ],
      "text/latex": [
       "\\begin{center}\n",
       "\\begin{tabular}{lclc}\n",
       "\\toprule\n",
       "\\textbf{Dep. Variable:}    &      fte      & \\textbf{  R-squared:         } &     0.007   \\\\\n",
       "\\textbf{Model:}            &      OLS      & \\textbf{  Adj. R-squared:    } &     0.004   \\\\\n",
       "\\textbf{No. Observations:} &        794    & \\textbf{  F-statistic:       } &     1.964   \\\\\n",
       "\\textbf{Covariance Type:}  &   nonrobust   & \\textbf{  Prob (F-statistic):} &    0.118    \\\\\n",
       "\\bottomrule\n",
       "\\end{tabular}\n",
       "\\begin{tabular}{lcccccc}\n",
       "                   & \\textbf{coef} & \\textbf{std err} & \\textbf{t} & \\textbf{P$> |$t$|$} & \\textbf{[0.025} & \\textbf{0.975]}  \\\\\n",
       "\\midrule\n",
       "\\textbf{Intercept} &      23.3312  &        1.072     &    21.767  &         0.000        &       21.227    &       25.435     \\\\\n",
       "\\textbf{nj}        &      -2.8918  &        1.194     &    -2.423  &         0.016        &       -5.235    &       -0.549     \\\\\n",
       "\\textbf{after}     &      -2.1656  &        1.516     &    -1.429  &         0.154        &       -5.141    &        0.810     \\\\\n",
       "\\textbf{nj:after}  &       2.7536  &        1.688     &     1.631  &         0.103        &       -0.561    &        6.068     \\\\\n",
       "\\bottomrule\n",
       "\\end{tabular}\n",
       "%\\caption{OLS Regression Results}\n",
       "\\end{center}\n",
       "\n",
       "Notes: \\newline\n",
       " [1] Standard Errors assume that the covariance matrix of the errors is correctly specified."
      ],
      "text/plain": [
       "<class 'statsmodels.iolib.summary.Summary'>\n",
       "\"\"\"\n",
       "                            OLS Regression Results                            \n",
       "==============================================================================\n",
       "Dep. Variable:                    fte   R-squared:                       0.007\n",
       "Model:                            OLS   Adj. R-squared:                  0.004\n",
       "No. Observations:                 794   F-statistic:                     1.964\n",
       "Covariance Type:            nonrobust   Prob (F-statistic):              0.118\n",
       "==============================================================================\n",
       "                 coef    std err          t      P>|t|      [0.025      0.975]\n",
       "------------------------------------------------------------------------------\n",
       "Intercept     23.3312      1.072     21.767      0.000      21.227      25.435\n",
       "nj            -2.8918      1.194     -2.423      0.016      -5.235      -0.549\n",
       "after         -2.1656      1.516     -1.429      0.154      -5.141       0.810\n",
       "nj:after       2.7536      1.688      1.631      0.103      -0.561       6.068\n",
       "==============================================================================\n",
       "\n",
       "Notes:\n",
       "[1] Standard Errors assume that the covariance matrix of the errors is correctly specified.\n",
       "\"\"\""
      ]
     },
     "execution_count": 9,
     "metadata": {},
     "output_type": "execute_result"
    }
   ],
   "source": [
    "smf.ols('fte~nj*after', data=Fastfood).fit().summary(slim=True)"
   ]
  },
  {
   "cell_type": "code",
   "execution_count": 10,
   "id": "9da343f4",
   "metadata": {},
   "outputs": [
    {
     "name": "stdout",
     "output_type": "stream",
     "text": [
      "Original: (820, 35)\n",
      "Cleaned : (794, 35)\n"
     ]
    }
   ],
   "source": [
    "#https://stackoverflow.com/questions/13413590/how-to-drop-rows-of-pandas-dataframe-whose-value-in-a-certain-column-is-nan\n",
    "Fastfood = pd.read_csv('csv/loedata/Fastfood.csv')\n",
    "print('Original:', Fastfood.shape)\n",
    "Fastfood = Fastfood.dropna(subset = ['id','fte','nj','after'])\n",
    "print('Cleaned :', Fastfood.shape)\n",
    "mod = smf.ols('fte~nj*after', data=Fastfood)"
   ]
  },
  {
   "cell_type": "code",
   "execution_count": 11,
   "id": "837e11bd",
   "metadata": {},
   "outputs": [
    {
     "data": {
      "text/html": [
       "<table class=\"simpletable\">\n",
       "<caption>OLS Regression Results</caption>\n",
       "<tr>\n",
       "  <th>Dep. Variable:</th>      <td>fte</td>   <th>  R-squared:         </th> <td>   0.007</td>\n",
       "</tr>\n",
       "<tr>\n",
       "  <th>Model:</th>              <td>OLS</td>   <th>  Adj. R-squared:    </th> <td>   0.004</td>\n",
       "</tr>\n",
       "<tr>\n",
       "  <th>No. Observations:</th> <td>   794</td>  <th>  F-statistic:       </th> <td>   1.802</td>\n",
       "</tr>\n",
       "<tr>\n",
       "  <th>Covariance Type:</th>  <td>cluster</td> <th>  Prob (F-statistic):</th>  <td> 0.146</td> \n",
       "</tr>\n",
       "</table>\n",
       "<table class=\"simpletable\">\n",
       "<tr>\n",
       "      <td></td>         <th>coef</th>     <th>std err</th>      <th>z</th>      <th>P>|z|</th>  <th>[0.025</th>    <th>0.975]</th>  \n",
       "</tr>\n",
       "<tr>\n",
       "  <th>Intercept</th> <td>   23.3312</td> <td>    1.347</td> <td>   17.327</td> <td> 0.000</td> <td>   20.692</td> <td>   25.970</td>\n",
       "</tr>\n",
       "<tr>\n",
       "  <th>nj</th>        <td>   -2.8918</td> <td>    1.440</td> <td>   -2.009</td> <td> 0.045</td> <td>   -5.713</td> <td>   -0.070</td>\n",
       "</tr>\n",
       "<tr>\n",
       "  <th>after</th>     <td>   -2.1656</td> <td>    1.218</td> <td>   -1.778</td> <td> 0.075</td> <td>   -4.553</td> <td>    0.222</td>\n",
       "</tr>\n",
       "<tr>\n",
       "  <th>nj:after</th>  <td>    2.7536</td> <td>    1.307</td> <td>    2.107</td> <td> 0.035</td> <td>    0.193</td> <td>    5.315</td>\n",
       "</tr>\n",
       "</table><br/><br/>Notes:<br/>[1] Standard Errors are robust to cluster correlation (cluster)"
      ],
      "text/latex": [
       "\\begin{center}\n",
       "\\begin{tabular}{lclc}\n",
       "\\toprule\n",
       "\\textbf{Dep. Variable:}    &      fte      & \\textbf{  R-squared:         } &     0.007   \\\\\n",
       "\\textbf{Model:}            &      OLS      & \\textbf{  Adj. R-squared:    } &     0.004   \\\\\n",
       "\\textbf{No. Observations:} &        794    & \\textbf{  F-statistic:       } &     1.802   \\\\\n",
       "\\textbf{Covariance Type:}  &    cluster    & \\textbf{  Prob (F-statistic):} &    0.146    \\\\\n",
       "\\bottomrule\n",
       "\\end{tabular}\n",
       "\\begin{tabular}{lcccccc}\n",
       "                   & \\textbf{coef} & \\textbf{std err} & \\textbf{z} & \\textbf{P$> |$z$|$} & \\textbf{[0.025} & \\textbf{0.975]}  \\\\\n",
       "\\midrule\n",
       "\\textbf{Intercept} &      23.3312  &        1.347     &    17.327  &         0.000        &       20.692    &       25.970     \\\\\n",
       "\\textbf{nj}        &      -2.8918  &        1.440     &    -2.009  &         0.045        &       -5.713    &       -0.070     \\\\\n",
       "\\textbf{after}     &      -2.1656  &        1.218     &    -1.778  &         0.075        &       -4.553    &        0.222     \\\\\n",
       "\\textbf{nj:after}  &       2.7536  &        1.307     &     2.107  &         0.035        &        0.193    &        5.315     \\\\\n",
       "\\bottomrule\n",
       "\\end{tabular}\n",
       "%\\caption{OLS Regression Results}\n",
       "\\end{center}\n",
       "\n",
       "Notes: \\newline\n",
       " [1] Standard Errors are robust to cluster correlation (cluster)"
      ],
      "text/plain": [
       "<class 'statsmodels.iolib.summary.Summary'>\n",
       "\"\"\"\n",
       "                            OLS Regression Results                            \n",
       "==============================================================================\n",
       "Dep. Variable:                    fte   R-squared:                       0.007\n",
       "Model:                            OLS   Adj. R-squared:                  0.004\n",
       "No. Observations:                 794   F-statistic:                     1.802\n",
       "Covariance Type:              cluster   Prob (F-statistic):              0.146\n",
       "==============================================================================\n",
       "                 coef    std err          z      P>|z|      [0.025      0.975]\n",
       "------------------------------------------------------------------------------\n",
       "Intercept     23.3312      1.347     17.327      0.000      20.692      25.970\n",
       "nj            -2.8918      1.440     -2.009      0.045      -5.713      -0.070\n",
       "after         -2.1656      1.218     -1.778      0.075      -4.553       0.222\n",
       "nj:after       2.7536      1.307      2.107      0.035       0.193       5.315\n",
       "==============================================================================\n",
       "\n",
       "Notes:\n",
       "[1] Standard Errors are robust to cluster correlation (cluster)\n",
       "\"\"\""
      ]
     },
     "execution_count": 11,
     "metadata": {},
     "output_type": "execute_result"
    }
   ],
   "source": [
    "mod.fit(cov_type='cluster', cov_kwds={'groups': Fastfood['id']}).summary(slim=True)"
   ]
  },
  {
   "cell_type": "markdown",
   "id": "0796477b",
   "metadata": {},
   "source": [
    "## 제곱항 자료 생성"
   ]
  },
  {
   "cell_type": "code",
   "execution_count": 12,
   "id": "2144f52e",
   "metadata": {},
   "outputs": [],
   "source": [
    "import numpy as np\n",
    "import matplotlib.pyplot as plt\n",
    "%config InlineBackend.figure_format = \"retina\"\n",
    "\n",
    "np.random.seed(101)\n",
    "n = 100\n",
    "x = np.random.normal(loc=3.2, scale=1, size=n)\n",
    "u = np.random.normal(scale=.75, size=n)\n",
    "y = 3+7*x-x**2+u"
   ]
  },
  {
   "cell_type": "code",
   "execution_count": 13,
   "id": "50d67197",
   "metadata": {},
   "outputs": [
    {
     "data": {
      "image/png": "[encoded data removed]",
      "text/plain": [
       "<Figure size 500x300 with 1 Axes>"
      ]
     },
     "metadata": {
      "image/png": {
       "height": 274,
       "width": 434
      }
     },
     "output_type": "display_data"
    }
   ],
   "source": [
    "plt.figure(figsize=(5,3))\n",
    "plt.scatter(x,y)\n",
    "plt.show()"
   ]
  },
  {
   "cell_type": "markdown",
   "id": "d3ef233c",
   "metadata": {},
   "source": [
    "## 예제 11.2 나이의 2차 함수로서의 흡연량"
   ]
  },
  {
   "cell_type": "code",
   "execution_count": 14,
   "id": "da32f752",
   "metadata": {},
   "outputs": [
    {
     "data": {
      "text/html": [
       "<table class=\"simpletable\">\n",
       "<caption>OLS Regression Results</caption>\n",
       "<tr>\n",
       "  <th>Dep. Variable:</th>      <td>cigs</td>    <th>  R-squared:         </th> <td>   0.045</td>\n",
       "</tr>\n",
       "<tr>\n",
       "  <th>Model:</th>               <td>OLS</td>    <th>  Adj. R-squared:    </th> <td>   0.039</td>\n",
       "</tr>\n",
       "<tr>\n",
       "  <th>No. Observations:</th>  <td>   807</td>   <th>  F-statistic:       </th> <td>   7.565</td>\n",
       "</tr>\n",
       "<tr>\n",
       "  <th>Covariance Type:</th>  <td>nonrobust</td> <th>  Prob (F-statistic):</th> <td>5.92e-07</td>\n",
       "</tr>\n",
       "</table>\n",
       "<table class=\"simpletable\">\n",
       "<tr>\n",
       "        <td></td>          <th>coef</th>     <th>std err</th>      <th>t</th>      <th>P>|t|</th>  <th>[0.025</th>    <th>0.975]</th>  \n",
       "</tr>\n",
       "<tr>\n",
       "  <th>Intercept</th>    <td>    5.3688</td> <td>   23.897</td> <td>    0.225</td> <td> 0.822</td> <td>  -41.540</td> <td>   52.277</td>\n",
       "</tr>\n",
       "<tr>\n",
       "  <th>log(income)</th>  <td>    0.7583</td> <td>    0.729</td> <td>    1.041</td> <td> 0.298</td> <td>   -0.672</td> <td>    2.189</td>\n",
       "</tr>\n",
       "<tr>\n",
       "  <th>log(cigpric)</th> <td>   -2.8532</td> <td>    5.733</td> <td>   -0.498</td> <td> 0.619</td> <td>  -14.107</td> <td>    8.401</td>\n",
       "</tr>\n",
       "<tr>\n",
       "  <th>educ</th>         <td>   -0.5141</td> <td>    0.168</td> <td>   -3.068</td> <td> 0.002</td> <td>   -0.843</td> <td>   -0.185</td>\n",
       "</tr>\n",
       "<tr>\n",
       "  <th>age</th>          <td>    0.7806</td> <td>    0.161</td> <td>    4.860</td> <td> 0.000</td> <td>    0.465</td> <td>    1.096</td>\n",
       "</tr>\n",
       "<tr>\n",
       "  <th>agesq</th>        <td>   -0.0091</td> <td>    0.002</td> <td>   -5.207</td> <td> 0.000</td> <td>   -0.013</td> <td>   -0.006</td>\n",
       "</tr>\n",
       "</table><br/><br/>Notes:<br/>[1] Standard Errors assume that the covariance matrix of the errors is correctly specified.<br/>[2] The condition number is large, 1.32e+05. This might indicate that there are<br/>strong multicollinearity or other numerical problems."
      ],
      "text/latex": [
       "\\begin{center}\n",
       "\\begin{tabular}{lclc}\n",
       "\\toprule\n",
       "\\textbf{Dep. Variable:}    &      cigs     & \\textbf{  R-squared:         } &     0.045   \\\\\n",
       "\\textbf{Model:}            &      OLS      & \\textbf{  Adj. R-squared:    } &     0.039   \\\\\n",
       "\\textbf{No. Observations:} &        807    & \\textbf{  F-statistic:       } &     7.565   \\\\\n",
       "\\textbf{Covariance Type:}  &   nonrobust   & \\textbf{  Prob (F-statistic):} &  5.92e-07   \\\\\n",
       "\\bottomrule\n",
       "\\end{tabular}\n",
       "\\begin{tabular}{lcccccc}\n",
       "                      & \\textbf{coef} & \\textbf{std err} & \\textbf{t} & \\textbf{P$> |$t$|$} & \\textbf{[0.025} & \\textbf{0.975]}  \\\\\n",
       "\\midrule\n",
       "\\textbf{Intercept}    &       5.3688  &       23.897     &     0.225  &         0.822        &      -41.540    &       52.277     \\\\\n",
       "\\textbf{log(income)}  &       0.7583  &        0.729     &     1.041  &         0.298        &       -0.672    &        2.189     \\\\\n",
       "\\textbf{log(cigpric)} &      -2.8532  &        5.733     &    -0.498  &         0.619        &      -14.107    &        8.401     \\\\\n",
       "\\textbf{educ}         &      -0.5141  &        0.168     &    -3.068  &         0.002        &       -0.843    &       -0.185     \\\\\n",
       "\\textbf{age}          &       0.7806  &        0.161     &     4.860  &         0.000        &        0.465    &        1.096     \\\\\n",
       "\\textbf{agesq}        &      -0.0091  &        0.002     &    -5.207  &         0.000        &       -0.013    &       -0.006     \\\\\n",
       "\\bottomrule\n",
       "\\end{tabular}\n",
       "%\\caption{OLS Regression Results}\n",
       "\\end{center}\n",
       "\n",
       "Notes: \\newline\n",
       " [1] Standard Errors assume that the covariance matrix of the errors is correctly specified. \\newline\n",
       " [2] The condition number is large, 1.32e+05. This might indicate that there are \\newline\n",
       " strong multicollinearity or other numerical problems."
      ],
      "text/plain": [
       "<class 'statsmodels.iolib.summary.Summary'>\n",
       "\"\"\"\n",
       "                            OLS Regression Results                            \n",
       "==============================================================================\n",
       "Dep. Variable:                   cigs   R-squared:                       0.045\n",
       "Model:                            OLS   Adj. R-squared:                  0.039\n",
       "No. Observations:                 807   F-statistic:                     7.565\n",
       "Covariance Type:            nonrobust   Prob (F-statistic):           5.92e-07\n",
       "================================================================================\n",
       "                   coef    std err          t      P>|t|      [0.025      0.975]\n",
       "--------------------------------------------------------------------------------\n",
       "Intercept        5.3688     23.897      0.225      0.822     -41.540      52.277\n",
       "log(income)      0.7583      0.729      1.041      0.298      -0.672       2.189\n",
       "log(cigpric)    -2.8532      5.733     -0.498      0.619     -14.107       8.401\n",
       "educ            -0.5141      0.168     -3.068      0.002      -0.843      -0.185\n",
       "age              0.7806      0.161      4.860      0.000       0.465       1.096\n",
       "agesq           -0.0091      0.002     -5.207      0.000      -0.013      -0.006\n",
       "================================================================================\n",
       "\n",
       "Notes:\n",
       "[1] Standard Errors assume that the covariance matrix of the errors is correctly specified.\n",
       "[2] The condition number is large, 1.32e+05. This might indicate that there are\n",
       "strong multicollinearity or other numerical problems.\n",
       "\"\"\""
      ]
     },
     "execution_count": 14,
     "metadata": {},
     "output_type": "execute_result"
    }
   ],
   "source": [
    "import pandas as pd\n",
    "from numpy import log\n",
    "import statsmodels.formula.api as smf\n",
    "\n",
    "smoke = pd.read_csv('csv/wooldridge/smoke.csv')\n",
    "ols = smf.ols('cigs~log(income)+log(cigpric)+educ+age+agesq', data=smoke).fit()\n",
    "ols.summary(slim=True)"
   ]
  },
  {
   "cell_type": "code",
   "execution_count": 15,
   "id": "8f2247a5",
   "metadata": {},
   "outputs": [
    {
     "data": {
      "text/plain": [
       "42.86552149669145"
      ]
     },
     "execution_count": 15,
     "metadata": {},
     "output_type": "execute_result"
    }
   ],
   "source": [
    "-ols.params.age/(2*ols.params.agesq)"
   ]
  },
  {
   "cell_type": "code",
   "execution_count": 16,
   "id": "2f254552",
   "metadata": {},
   "outputs": [
    {
     "data": {
      "text/plain": [
       "count    807.000000\n",
       "mean      41.237918\n",
       "std       17.027285\n",
       "min       17.000000\n",
       "25%       28.000000\n",
       "50%       38.000000\n",
       "75%       54.000000\n",
       "max       88.000000\n",
       "Name: age, dtype: float64"
      ]
     },
     "execution_count": 16,
     "metadata": {},
     "output_type": "execute_result"
    }
   ],
   "source": [
    "#https://pandas.pydata.org/docs/getting_started/intro_tutorials/06_calculate_statistics.html\n",
    "smoke.age.describe()"
   ]
  },
  {
   "cell_type": "code",
   "execution_count": 17,
   "id": "f145e6d2",
   "metadata": {},
   "outputs": [],
   "source": [
    "#https://stackoverflow.com/questions/33768122/python-pandas-dataframe-how-to-multiply-entire-column-with-a-scalar\n",
    "#https://stackoverflow.com/questions/53162/how-can-i-do-a-line-break-line-continuation-in-python\n",
    "smoke['pred0'] = ols.params.Intercept \\\n",
    "               + log(smoke.income)*ols.params['log(income)'] \\\n",
    "               + log(smoke.cigpric)*ols.params['log(cigpric)'] \\\n",
    "               + smoke.educ*ols.params.educ"
   ]
  },
  {
   "cell_type": "code",
   "execution_count": 18,
   "id": "66eaa9b6",
   "metadata": {},
   "outputs": [
    {
     "data": {
      "image/png": "[encoded data removed]",
      "text/plain": [
       "<Figure size 500x300 with 1 Axes>"
      ]
     },
     "metadata": {
      "image/png": {
       "height": 274,
       "width": 436
      }
     },
     "output_type": "display_data"
    }
   ],
   "source": [
    "import numpy as np\n",
    "import matplotlib.pyplot as plt\n",
    "%config InlineBackend.figure_format = \"retina\"\n",
    "\n",
    "plt.figure(figsize=(5,3))\n",
    "plt.scatter(smoke.age, smoke.cigs-smoke.pred0, color='w', edgecolors='k')\n",
    "plt.xlim(plt.gca().get_xlim()) # fix x limits\n",
    "plt.ylim(plt.gca().get_ylim()) # fix y limits\n",
    "x = np.arange(100)\n",
    "plt.plot(x, x*ols.params.age+(x**2)*ols.params.agesq)\n",
    "plt.show()"
   ]
  },
  {
   "cell_type": "markdown",
   "id": "4cb0a812",
   "metadata": {},
   "source": [
    "## 예제 11.3 건평과 주택가격"
   ]
  },
  {
   "cell_type": "code",
   "execution_count": 19,
   "id": "41faa22f",
   "metadata": {},
   "outputs": [
    {
     "data": {
      "text/html": [
       "<table class=\"simpletable\">\n",
       "<caption>OLS Regression Results</caption>\n",
       "<tr>\n",
       "  <th>Dep. Variable:</th>    <td>log(price)</td> <th>  R-squared:         </th> <td>   0.348</td>\n",
       "</tr>\n",
       "<tr>\n",
       "  <th>Model:</th>                <td>OLS</td>    <th>  Adj. R-squared:    </th> <td>   0.343</td>\n",
       "</tr>\n",
       "<tr>\n",
       "  <th>No. Observations:</th>   <td>   301</td>   <th>  F-statistic:       </th> <td>   79.39</td>\n",
       "</tr>\n",
       "<tr>\n",
       "  <th>Covariance Type:</th>   <td>nonrobust</td> <th>  Prob (F-statistic):</th> <td>2.30e-28</td>\n",
       "</tr>\n",
       "</table>\n",
       "<table class=\"simpletable\">\n",
       "<tr>\n",
       "            <td></td>              <th>coef</th>     <th>std err</th>      <th>t</th>      <th>P>|t|</th>  <th>[0.025</th>    <th>0.975]</th>  \n",
       "</tr>\n",
       "<tr>\n",
       "  <th>Intercept</th>            <td>   -4.8947</td> <td>    5.384</td> <td>   -0.909</td> <td> 0.364</td> <td>  -15.491</td> <td>    5.702</td>\n",
       "</tr>\n",
       "<tr>\n",
       "  <th>log(lotsize)</th>         <td>    3.2905</td> <td>    1.273</td> <td>    2.585</td> <td> 0.010</td> <td>    0.785</td> <td>    5.796</td>\n",
       "</tr>\n",
       "<tr>\n",
       "  <th>I(log(lotsize) ** 2)</th> <td>   -0.1651</td> <td>    0.075</td> <td>   -2.197</td> <td> 0.029</td> <td>   -0.313</td> <td>   -0.017</td>\n",
       "</tr>\n",
       "</table><br/><br/>Notes:<br/>[1] Standard Errors assume that the covariance matrix of the errors is correctly specified.<br/>[2] The condition number is large, 2.46e+04. This might indicate that there are<br/>strong multicollinearity or other numerical problems."
      ],
      "text/latex": [
       "\\begin{center}\n",
       "\\begin{tabular}{lclc}\n",
       "\\toprule\n",
       "\\textbf{Dep. Variable:}       &   log(price)  & \\textbf{  R-squared:         } &     0.348   \\\\\n",
       "\\textbf{Model:}               &      OLS      & \\textbf{  Adj. R-squared:    } &     0.343   \\\\\n",
       "\\textbf{No. Observations:}    &        301    & \\textbf{  F-statistic:       } &     79.39   \\\\\n",
       "\\textbf{Covariance Type:}     &   nonrobust   & \\textbf{  Prob (F-statistic):} &  2.30e-28   \\\\\n",
       "\\bottomrule\n",
       "\\end{tabular}\n",
       "\\begin{tabular}{lcccccc}\n",
       "                              & \\textbf{coef} & \\textbf{std err} & \\textbf{t} & \\textbf{P$> |$t$|$} & \\textbf{[0.025} & \\textbf{0.975]}  \\\\\n",
       "\\midrule\n",
       "\\textbf{Intercept}            &      -4.8947  &        5.384     &    -0.909  &         0.364        &      -15.491    &        5.702     \\\\\n",
       "\\textbf{log(lotsize)}         &       3.2905  &        1.273     &     2.585  &         0.010        &        0.785    &        5.796     \\\\\n",
       "\\textbf{I(log(lotsize) ** 2)} &      -0.1651  &        0.075     &    -2.197  &         0.029        &       -0.313    &       -0.017     \\\\\n",
       "\\bottomrule\n",
       "\\end{tabular}\n",
       "%\\caption{OLS Regression Results}\n",
       "\\end{center}\n",
       "\n",
       "Notes: \\newline\n",
       " [1] Standard Errors assume that the covariance matrix of the errors is correctly specified. \\newline\n",
       " [2] The condition number is large, 2.46e+04. This might indicate that there are \\newline\n",
       " strong multicollinearity or other numerical problems."
      ],
      "text/plain": [
       "<class 'statsmodels.iolib.summary.Summary'>\n",
       "\"\"\"\n",
       "                            OLS Regression Results                            \n",
       "==============================================================================\n",
       "Dep. Variable:             log(price)   R-squared:                       0.348\n",
       "Model:                            OLS   Adj. R-squared:                  0.343\n",
       "No. Observations:                 301   F-statistic:                     79.39\n",
       "Covariance Type:            nonrobust   Prob (F-statistic):           2.30e-28\n",
       "========================================================================================\n",
       "                           coef    std err          t      P>|t|      [0.025      0.975]\n",
       "----------------------------------------------------------------------------------------\n",
       "Intercept               -4.8947      5.384     -0.909      0.364     -15.491       5.702\n",
       "log(lotsize)             3.2905      1.273      2.585      0.010       0.785       5.796\n",
       "I(log(lotsize) ** 2)    -0.1651      0.075     -2.197      0.029      -0.313      -0.017\n",
       "========================================================================================\n",
       "\n",
       "Notes:\n",
       "[1] Standard Errors assume that the covariance matrix of the errors is correctly specified.\n",
       "[2] The condition number is large, 2.46e+04. This might indicate that there are\n",
       "strong multicollinearity or other numerical problems.\n",
       "\"\"\""
      ]
     },
     "execution_count": 19,
     "metadata": {},
     "output_type": "execute_result"
    }
   ],
   "source": [
    "import pandas as pd\n",
    "from numpy import log\n",
    "import statsmodels.formula.api as smf\n",
    "\n",
    "Housing = pd.read_csv('csv/Ecdat/Housing.csv')\n",
    "H3 = Housing[Housing.bedrooms==3].copy()\n",
    "ols2 = smf.ols('log(price)~log(lotsize)+I(log(lotsize)**2)', data=H3).fit()\n",
    "ols2.summary(slim=True)"
   ]
  },
  {
   "cell_type": "code",
   "execution_count": 20,
   "id": "a648488e",
   "metadata": {},
   "outputs": [
    {
     "data": {
      "text/plain": [
       "9.965110082016484"
      ]
     },
     "execution_count": 20,
     "metadata": {},
     "output_type": "execute_result"
    }
   ],
   "source": [
    "-ols2.params['log(lotsize)']/(2*ols2.params['I(log(lotsize) ** 2)'])"
   ]
  },
  {
   "cell_type": "code",
   "execution_count": 21,
   "id": "b20b8efe",
   "metadata": {},
   "outputs": [
    {
     "data": {
      "text/plain": [
       "count    301.000000\n",
       "mean       8.477732\n",
       "std        0.412099\n",
       "min        7.408531\n",
       "25%        8.188689\n",
       "50%        8.484670\n",
       "75%        8.779557\n",
       "max        9.655026\n",
       "Name: lotsize, dtype: float64"
      ]
     },
     "execution_count": 21,
     "metadata": {},
     "output_type": "execute_result"
    }
   ],
   "source": [
    "log(H3.lotsize).describe()"
   ]
  },
  {
   "cell_type": "code",
   "execution_count": 22,
   "id": "8be6ea98",
   "metadata": {},
   "outputs": [
    {
     "data": {
      "text/html": [
       "<table class=\"simpletable\">\n",
       "<caption>OLS Regression Results</caption>\n",
       "<tr>\n",
       "  <th>Dep. Variable:</th>    <td>log(price)</td> <th>  R-squared:         </th> <td>   0.337</td>\n",
       "</tr>\n",
       "<tr>\n",
       "  <th>Model:</th>                <td>OLS</td>    <th>  Adj. R-squared:    </th> <td>   0.335</td>\n",
       "</tr>\n",
       "<tr>\n",
       "  <th>No. Observations:</th>   <td>   301</td>   <th>  F-statistic:       </th> <td>   152.0</td>\n",
       "</tr>\n",
       "<tr>\n",
       "  <th>Covariance Type:</th>   <td>nonrobust</td> <th>  Prob (F-statistic):</th> <td>1.62e-28</td>\n",
       "</tr>\n",
       "</table>\n",
       "<table class=\"simpletable\">\n",
       "<tr>\n",
       "        <td></td>          <th>coef</th>     <th>std err</th>      <th>t</th>      <th>P>|t|</th>  <th>[0.025</th>    <th>0.975]</th>  \n",
       "</tr>\n",
       "<tr>\n",
       "  <th>Intercept</th>    <td>    6.9115</td> <td>    0.341</td> <td>   20.285</td> <td> 0.000</td> <td>    6.241</td> <td>    7.582</td>\n",
       "</tr>\n",
       "<tr>\n",
       "  <th>log(lotsize)</th> <td>    0.4949</td> <td>    0.040</td> <td>   12.329</td> <td> 0.000</td> <td>    0.416</td> <td>    0.574</td>\n",
       "</tr>\n",
       "</table><br/><br/>Notes:<br/>[1] Standard Errors assume that the covariance matrix of the errors is correctly specified."
      ],
      "text/latex": [
       "\\begin{center}\n",
       "\\begin{tabular}{lclc}\n",
       "\\toprule\n",
       "\\textbf{Dep. Variable:}    &   log(price)  & \\textbf{  R-squared:         } &     0.337   \\\\\n",
       "\\textbf{Model:}            &      OLS      & \\textbf{  Adj. R-squared:    } &     0.335   \\\\\n",
       "\\textbf{No. Observations:} &        301    & \\textbf{  F-statistic:       } &     152.0   \\\\\n",
       "\\textbf{Covariance Type:}  &   nonrobust   & \\textbf{  Prob (F-statistic):} &  1.62e-28   \\\\\n",
       "\\bottomrule\n",
       "\\end{tabular}\n",
       "\\begin{tabular}{lcccccc}\n",
       "                      & \\textbf{coef} & \\textbf{std err} & \\textbf{t} & \\textbf{P$> |$t$|$} & \\textbf{[0.025} & \\textbf{0.975]}  \\\\\n",
       "\\midrule\n",
       "\\textbf{Intercept}    &       6.9115  &        0.341     &    20.285  &         0.000        &        6.241    &        7.582     \\\\\n",
       "\\textbf{log(lotsize)} &       0.4949  &        0.040     &    12.329  &         0.000        &        0.416    &        0.574     \\\\\n",
       "\\bottomrule\n",
       "\\end{tabular}\n",
       "%\\caption{OLS Regression Results}\n",
       "\\end{center}\n",
       "\n",
       "Notes: \\newline\n",
       " [1] Standard Errors assume that the covariance matrix of the errors is correctly specified."
      ],
      "text/plain": [
       "<class 'statsmodels.iolib.summary.Summary'>\n",
       "\"\"\"\n",
       "                            OLS Regression Results                            \n",
       "==============================================================================\n",
       "Dep. Variable:             log(price)   R-squared:                       0.337\n",
       "Model:                            OLS   Adj. R-squared:                  0.335\n",
       "No. Observations:                 301   F-statistic:                     152.0\n",
       "Covariance Type:            nonrobust   Prob (F-statistic):           1.62e-28\n",
       "================================================================================\n",
       "                   coef    std err          t      P>|t|      [0.025      0.975]\n",
       "--------------------------------------------------------------------------------\n",
       "Intercept        6.9115      0.341     20.285      0.000       6.241       7.582\n",
       "log(lotsize)     0.4949      0.040     12.329      0.000       0.416       0.574\n",
       "================================================================================\n",
       "\n",
       "Notes:\n",
       "[1] Standard Errors assume that the covariance matrix of the errors is correctly specified.\n",
       "\"\"\""
      ]
     },
     "execution_count": 22,
     "metadata": {},
     "output_type": "execute_result"
    }
   ],
   "source": [
    "ols1 = smf.ols('log(price)~log(lotsize)', data=H3).fit()\n",
    "ols1.summary(slim=True)"
   ]
  },
  {
   "cell_type": "code",
   "execution_count": 23,
   "id": "c4327a09",
   "metadata": {},
   "outputs": [
    {
     "data": {
      "image/png": "[encoded data removed]",
      "text/plain": [
       "<Figure size 500x300 with 1 Axes>"
      ]
     },
     "metadata": {
      "image/png": {
       "height": 274,
       "width": 448
      }
     },
     "output_type": "display_data"
    }
   ],
   "source": [
    "import matplotlib.pyplot as plt\n",
    "%config InlineBackend.figure_format = \"retina\"\n",
    "import numpy as np\n",
    "import warnings\n",
    "warnings.simplefilter(action='ignore', category=FutureWarning)\n",
    "\n",
    "plt.figure(figsize=(5,3))\n",
    "plt.scatter(np.log(H3.lotsize), np.log(H3.price), color='w', edgecolors='k')\n",
    "plt.xlim(plt.gca().get_xlim()) # fix x limits\n",
    "plt.ylim(plt.gca().get_ylim()) # fix y limits\n",
    "x = np.log(H3.lotsize.sort_values())\n",
    "b2 = ols2.params\n",
    "b1 = ols1.params\n",
    "plt.plot(x, b2[0]+b2[1]*x+b2[2]*x**2)\n",
    "plt.plot(x, b1[0]+b1[1]*x, '--')\n",
    "plt.show()"
   ]
  },
  {
   "cell_type": "markdown",
   "id": "5bcfab41",
   "metadata": {},
   "source": [
    "## 예제 11.4 가구소득과 소비의 관계"
   ]
  },
  {
   "cell_type": "code",
   "execution_count": 24,
   "id": "1da30ca7",
   "metadata": {},
   "outputs": [
    {
     "data": {
      "text/plain": [
       "1368"
      ]
     },
     "execution_count": 24,
     "metadata": {},
     "output_type": "execute_result"
    }
   ],
   "source": [
    "import pandas as pd\n",
    "import numpy as np\n",
    "from statsmodels.formula.api import ols as OLS\n",
    "\n",
    "Hies = pd.read_csv('csv/loedata/Hies.csv')\n",
    "len(Hies)"
   ]
  },
  {
   "cell_type": "code",
   "execution_count": 25,
   "id": "c83965fd",
   "metadata": {},
   "outputs": [
    {
     "data": {
      "text/plain": [
       "count    1.368000e+03\n",
       "mean     2.422611e+06\n",
       "std      1.199659e+06\n",
       "min      2.546630e+05\n",
       "25%      1.686188e+06\n",
       "50%      2.239735e+06\n",
       "75%      2.865792e+06\n",
       "max      1.532575e+07\n",
       "Name: cons, dtype: float64"
      ]
     },
     "execution_count": 25,
     "metadata": {},
     "output_type": "execute_result"
    }
   ],
   "source": [
    "Hies.cons.describe()"
   ]
  },
  {
   "cell_type": "code",
   "execution_count": 26,
   "id": "8e8418bf",
   "metadata": {},
   "outputs": [
    {
     "data": {
      "text/plain": [
       "count    1.368000e+03\n",
       "mean     4.221342e+06\n",
       "std      2.160279e+06\n",
       "min      0.000000e+00\n",
       "25%      2.855448e+06\n",
       "50%      3.914338e+06\n",
       "75%      5.193994e+06\n",
       "max      1.899592e+07\n",
       "Name: inc, dtype: float64"
      ]
     },
     "execution_count": 26,
     "metadata": {},
     "output_type": "execute_result"
    }
   ],
   "source": [
    "Hies.inc.describe()"
   ]
  },
  {
   "cell_type": "code",
   "execution_count": 27,
   "id": "c257a1eb",
   "metadata": {},
   "outputs": [
    {
     "data": {
      "text/plain": [
       "8"
      ]
     },
     "execution_count": 27,
     "metadata": {},
     "output_type": "execute_result"
    }
   ],
   "source": [
    "np.sum(Hies.inc==0)"
   ]
  },
  {
   "cell_type": "code",
   "execution_count": 28,
   "id": "cf6a98c9",
   "metadata": {},
   "outputs": [
    {
     "data": {
      "text/plain": [
       "count    1.360000e+03\n",
       "mean     4.246173e+06\n",
       "std      2.142139e+06\n",
       "min      6.997000e+03\n",
       "25%      2.879314e+06\n",
       "50%      3.928140e+06\n",
       "75%      5.212878e+06\n",
       "max      1.899592e+07\n",
       "Name: inc, dtype: float64"
      ]
     },
     "execution_count": 28,
     "metadata": {},
     "output_type": "execute_result"
    }
   ],
   "source": [
    "Hies[Hies.inc>0].inc.describe()"
   ]
  },
  {
   "cell_type": "code",
   "execution_count": 29,
   "id": "b0297c7f",
   "metadata": {},
   "outputs": [],
   "source": [
    "Hies['inca'] = [x if x>0 else 1 for x in Hies.inc]\n",
    "Hies['incmil'] = Hies.inc/1e6"
   ]
  },
  {
   "cell_type": "code",
   "execution_count": 30,
   "id": "ce6dc41a",
   "metadata": {},
   "outputs": [],
   "source": [
    "fm = 'np.log(cons)~np.log(famsize)+emp+age+I(age**2)+ownhouse+female+educ'\n",
    "fm1 = fm+'+np.log(inc)'\n",
    "fm2 = fm+'+np.log(inca)'\n",
    "fm3 = fm+'+np.log(inc+1)'\n",
    "fm4 = fm+'+np.log(inca)+I(inc==0)'\n",
    "fm5 = fm+'+incmil+I(incmil**2)'"
   ]
  },
  {
   "cell_type": "code",
   "execution_count": 31,
   "id": "5bde1201",
   "metadata": {},
   "outputs": [],
   "source": [
    "OLS = smf.ols\n",
    "ols1 = OLS(fm1, data=Hies[Hies.inc>0]).fit()\n",
    "ols2 = OLS(fm2, data=Hies).fit()\n",
    "ols3 = OLS(fm3, data=Hies).fit()\n",
    "ols4 = OLS(fm4, data=Hies).fit()\n",
    "ols5 = OLS(fm5, data=Hies).fit()"
   ]
  },
  {
   "cell_type": "code",
   "execution_count": 32,
   "id": "f476849b",
   "metadata": {},
   "outputs": [
    {
     "data": {
      "text/html": [
       "<table class=\"simpletable\">\n",
       "<tr>\n",
       "           <td></td>           <th>np.log(cons) I</th> <th>np.log(cons) II</th> <th>np.log(cons) III</th> <th>np.log(cons) IIII</th> <th>np.log(cons) IIIII</th>\n",
       "</tr>\n",
       "<tr>\n",
       "  <th>Intercept</th>             <td>11.7484***</td>     <td>14.8247***</td>       <td>14.8247***</td>       <td>11.8755***</td>         <td>17.1542***</td>    \n",
       "</tr>\n",
       "<tr>\n",
       "  <th></th>                       <td>(1.6693)</td>       <td>(1.8555)</td>         <td>(1.8555)</td>         <td>(1.6587)</td>           <td>(1.6592)</td>     \n",
       "</tr>\n",
       "<tr>\n",
       "  <th>np.log(famsize)</th>        <td>0.2948***</td>      <td>0.3976***</td>        <td>0.3976***</td>        <td>0.2971***</td>          <td>0.3045***</td>    \n",
       "</tr>\n",
       "<tr>\n",
       "  <th></th>                       <td>(0.0220)</td>       <td>(0.0238)</td>         <td>(0.0238)</td>         <td>(0.0219)</td>           <td>(0.0219)</td>     \n",
       "</tr>\n",
       "<tr>\n",
       "  <th>emp</th>                     <td>-0.0647</td>       <td>0.1140**</td>         <td>0.1140**</td>          <td>-0.0572</td>            <td>-0.0088</td>     \n",
       "</tr>\n",
       "<tr>\n",
       "  <th></th>                       <td>(0.0411)</td>       <td>(0.0445)</td>         <td>(0.0445)</td>         <td>(0.0406)</td>           <td>(0.0396)</td>     \n",
       "</tr>\n",
       "<tr>\n",
       "  <th>age</th>                    <td>-0.2065**</td>       <td>-0.1128</td>          <td>-0.1128</td>         <td>-0.2129**</td>          <td>-0.2033**</td>    \n",
       "</tr>\n",
       "<tr>\n",
       "  <th></th>                       <td>(0.0960)</td>       <td>(0.1071)</td>         <td>(0.1071)</td>         <td>(0.0955)</td>           <td>(0.0955)</td>     \n",
       "</tr>\n",
       "<tr>\n",
       "  <th>I(age ** 2)</th>            <td>0.0030**</td>        <td>0.0017</td>           <td>0.0017</td>          <td>0.0031**</td>           <td>0.0030**</td>     \n",
       "</tr>\n",
       "<tr>\n",
       "  <th></th>                       <td>(0.0014)</td>       <td>(0.0015)</td>         <td>(0.0015)</td>         <td>(0.0014)</td>           <td>(0.0014)</td>     \n",
       "</tr>\n",
       "<tr>\n",
       "  <th>ownhouse</th>              <td>-0.0648***</td>       <td>-0.0259</td>          <td>-0.0259</td>        <td>-0.0644***</td>         <td>-0.0666***</td>    \n",
       "</tr>\n",
       "<tr>\n",
       "  <th></th>                       <td>(0.0192)</td>       <td>(0.0214)</td>         <td>(0.0214)</td>         <td>(0.0192)</td>           <td>(0.0192)</td>     \n",
       "</tr>\n",
       "<tr>\n",
       "  <th>female</th>                  <td>-0.0330</td>       <td>-0.0638**</td>        <td>-0.0638**</td>         <td>-0.0303</td>            <td>-0.0188</td>     \n",
       "</tr>\n",
       "<tr>\n",
       "  <th></th>                       <td>(0.0266)</td>       <td>(0.0296)</td>         <td>(0.0296)</td>         <td>(0.0264)</td>           <td>(0.0265)</td>     \n",
       "</tr>\n",
       "<tr>\n",
       "  <th>educ</th>                    <td>0.0046</td>        <td>0.0231***</td>        <td>0.0231***</td>         <td>0.0049</td>             <td>0.0037</td>      \n",
       "</tr>\n",
       "<tr>\n",
       "  <th></th>                       <td>(0.0046)</td>       <td>(0.0050)</td>         <td>(0.0050)</td>         <td>(0.0046)</td>           <td>(0.0046)</td>     \n",
       "</tr>\n",
       "<tr>\n",
       "  <th>np.log(inc)</th>            <td>0.4010***</td>          <td></td>                 <td></td>                 <td></td>                   <td></td>         \n",
       "</tr>\n",
       "<tr>\n",
       "  <th></th>                       <td>(0.0200)</td>           <td></td>                 <td></td>                 <td></td>                   <td></td>         \n",
       "</tr>\n",
       "<tr>\n",
       "  <th>np.log(inca)</th>               <td></td>           <td>0.0533***</td>            <td></td>             <td>0.3996***</td>              <td></td>         \n",
       "</tr>\n",
       "<tr>\n",
       "  <th></th>                           <td></td>           <td>(0.0089)</td>             <td></td>             <td>(0.0199)</td>               <td></td>         \n",
       "</tr>\n",
       "<tr>\n",
       "  <th>np.log(inc + 1)</th>            <td></td>               <td></td>             <td>0.0533***</td>            <td></td>                   <td></td>         \n",
       "</tr>\n",
       "<tr>\n",
       "  <th></th>                           <td></td>               <td></td>             <td>(0.0089)</td>             <td></td>                   <td></td>         \n",
       "</tr>\n",
       "<tr>\n",
       "  <th>I(inc == 0)[T.True]</th>        <td></td>               <td></td>                 <td></td>             <td>5.9065***</td>              <td></td>         \n",
       "</tr>\n",
       "<tr>\n",
       "  <th></th>                           <td></td>               <td></td>                 <td></td>             <td>(0.3123)</td>               <td></td>         \n",
       "</tr>\n",
       "<tr>\n",
       "  <th>incmil</th>                     <td></td>               <td></td>                 <td></td>                 <td></td>               <td>0.1692***</td>    \n",
       "</tr>\n",
       "<tr>\n",
       "  <th></th>                           <td></td>               <td></td>                 <td></td>                 <td></td>               <td>(0.0128)</td>     \n",
       "</tr>\n",
       "<tr>\n",
       "  <th>I(incmil ** 2)</th>             <td></td>               <td></td>                 <td></td>                 <td></td>              <td>-0.0062***</td>    \n",
       "</tr>\n",
       "<tr>\n",
       "  <th></th>                           <td></td>               <td></td>                 <td></td>                 <td></td>               <td>(0.0009)</td>     \n",
       "</tr>\n",
       "<tr>\n",
       "  <th>R-squared</th>               <td>0.4370</td>         <td>0.2900</td>           <td>0.2900</td>           <td>0.4380</td>             <td>0.4358</td>      \n",
       "</tr>\n",
       "<tr>\n",
       "  <th>R-squared Adj.</th>          <td>0.4336</td>         <td>0.2858</td>           <td>0.2858</td>           <td>0.4343</td>             <td>0.4320</td>      \n",
       "</tr>\n",
       "</table><br/>\n",
       "Standard errors in parentheses.<br/>\n",
       "* p<.1, ** p<.05, ***p<.01"
      ],
      "text/latex": [
       "\\begin{table}\n",
       "\\caption{}\n",
       "\\label{}\n",
       "\\begin{center}\n",
       "\\begin{tabular}{llllll}\n",
       "\\hline\n",
       "                    & np.log(cons) I & np.log(cons) II & np.log(cons) III & np.log(cons) IIII & np.log(cons) IIIII  \\\\\n",
       "\\hline\n",
       "Intercept           & 11.7484***     & 14.8247***      & 14.8247***       & 11.8755***        & 17.1542***          \\\\\n",
       "                    & (1.6693)       & (1.8555)        & (1.8555)         & (1.6587)          & (1.6592)            \\\\\n",
       "np.log(famsize)     & 0.2948***      & 0.3976***       & 0.3976***        & 0.2971***         & 0.3045***           \\\\\n",
       "                    & (0.0220)       & (0.0238)        & (0.0238)         & (0.0219)          & (0.0219)            \\\\\n",
       "emp                 & -0.0647        & 0.1140**        & 0.1140**         & -0.0572           & -0.0088             \\\\\n",
       "                    & (0.0411)       & (0.0445)        & (0.0445)         & (0.0406)          & (0.0396)            \\\\\n",
       "age                 & -0.2065**      & -0.1128         & -0.1128          & -0.2129**         & -0.2033**           \\\\\n",
       "                    & (0.0960)       & (0.1071)        & (0.1071)         & (0.0955)          & (0.0955)            \\\\\n",
       "I(age ** 2)         & 0.0030**       & 0.0017          & 0.0017           & 0.0031**          & 0.0030**            \\\\\n",
       "                    & (0.0014)       & (0.0015)        & (0.0015)         & (0.0014)          & (0.0014)            \\\\\n",
       "ownhouse            & -0.0648***     & -0.0259         & -0.0259          & -0.0644***        & -0.0666***          \\\\\n",
       "                    & (0.0192)       & (0.0214)        & (0.0214)         & (0.0192)          & (0.0192)            \\\\\n",
       "female              & -0.0330        & -0.0638**       & -0.0638**        & -0.0303           & -0.0188             \\\\\n",
       "                    & (0.0266)       & (0.0296)        & (0.0296)         & (0.0264)          & (0.0265)            \\\\\n",
       "educ                & 0.0046         & 0.0231***       & 0.0231***        & 0.0049            & 0.0037              \\\\\n",
       "                    & (0.0046)       & (0.0050)        & (0.0050)         & (0.0046)          & (0.0046)            \\\\\n",
       "np.log(inc)         & 0.4010***      &                 &                  &                   &                     \\\\\n",
       "                    & (0.0200)       &                 &                  &                   &                     \\\\\n",
       "np.log(inca)        &                & 0.0533***       &                  & 0.3996***         &                     \\\\\n",
       "                    &                & (0.0089)        &                  & (0.0199)          &                     \\\\\n",
       "np.log(inc + 1)     &                &                 & 0.0533***        &                   &                     \\\\\n",
       "                    &                &                 & (0.0089)         &                   &                     \\\\\n",
       "I(inc == 0)[T.True] &                &                 &                  & 5.9065***         &                     \\\\\n",
       "                    &                &                 &                  & (0.3123)          &                     \\\\\n",
       "incmil              &                &                 &                  &                   & 0.1692***           \\\\\n",
       "                    &                &                 &                  &                   & (0.0128)            \\\\\n",
       "I(incmil ** 2)      &                &                 &                  &                   & -0.0062***          \\\\\n",
       "                    &                &                 &                  &                   & (0.0009)            \\\\\n",
       "R-squared           & 0.4370         & 0.2900          & 0.2900           & 0.4380            & 0.4358              \\\\\n",
       "R-squared Adj.      & 0.4336         & 0.2858          & 0.2858           & 0.4343            & 0.4320              \\\\\n",
       "\\hline\n",
       "\\end{tabular}\n",
       "\\end{center}\n",
       "\\end{table}\n",
       "\\bigskip\n",
       "Standard errors in parentheses. \\newline \n",
       "* p<.1, ** p<.05, ***p<.01"
      ],
      "text/plain": [
       "<class 'statsmodels.iolib.summary2.Summary'>\n",
       "\"\"\"\n",
       "\n",
       "========================================================================================================\n",
       "                    np.log(cons) I np.log(cons) II np.log(cons) III np.log(cons) IIII np.log(cons) IIIII\n",
       "--------------------------------------------------------------------------------------------------------\n",
       "Intercept           11.7484***     14.8247***      14.8247***       11.8755***        17.1542***        \n",
       "                    (1.6693)       (1.8555)        (1.8555)         (1.6587)          (1.6592)          \n",
       "np.log(famsize)     0.2948***      0.3976***       0.3976***        0.2971***         0.3045***         \n",
       "                    (0.0220)       (0.0238)        (0.0238)         (0.0219)          (0.0219)          \n",
       "emp                 -0.0647        0.1140**        0.1140**         -0.0572           -0.0088           \n",
       "                    (0.0411)       (0.0445)        (0.0445)         (0.0406)          (0.0396)          \n",
       "age                 -0.2065**      -0.1128         -0.1128          -0.2129**         -0.2033**         \n",
       "                    (0.0960)       (0.1071)        (0.1071)         (0.0955)          (0.0955)          \n",
       "I(age ** 2)         0.0030**       0.0017          0.0017           0.0031**          0.0030**          \n",
       "                    (0.0014)       (0.0015)        (0.0015)         (0.0014)          (0.0014)          \n",
       "ownhouse            -0.0648***     -0.0259         -0.0259          -0.0644***        -0.0666***        \n",
       "                    (0.0192)       (0.0214)        (0.0214)         (0.0192)          (0.0192)          \n",
       "female              -0.0330        -0.0638**       -0.0638**        -0.0303           -0.0188           \n",
       "                    (0.0266)       (0.0296)        (0.0296)         (0.0264)          (0.0265)          \n",
       "educ                0.0046         0.0231***       0.0231***        0.0049            0.0037            \n",
       "                    (0.0046)       (0.0050)        (0.0050)         (0.0046)          (0.0046)          \n",
       "np.log(inc)         0.4010***                                                                           \n",
       "                    (0.0200)                                                                            \n",
       "np.log(inca)                       0.0533***                        0.3996***                           \n",
       "                                   (0.0089)                         (0.0199)                            \n",
       "np.log(inc + 1)                                    0.0533***                                            \n",
       "                                                   (0.0089)                                             \n",
       "I(inc == 0)[T.True]                                                 5.9065***                           \n",
       "                                                                    (0.3123)                            \n",
       "incmil                                                                                0.1692***         \n",
       "                                                                                      (0.0128)          \n",
       "I(incmil ** 2)                                                                        -0.0062***        \n",
       "                                                                                      (0.0009)          \n",
       "R-squared           0.4370         0.2900          0.2900           0.4380            0.4358            \n",
       "R-squared Adj.      0.4336         0.2858          0.2858           0.4343            0.4320            \n",
       "========================================================================================================\n",
       "Standard errors in parentheses.\n",
       "* p<.1, ** p<.05, ***p<.01\n",
       "\"\"\""
      ]
     },
     "execution_count": 32,
     "metadata": {},
     "output_type": "execute_result"
    }
   ],
   "source": [
    "from statsmodels.iolib.summary2 import summary_col\n",
    "\n",
    "outreg = summary_col([ols1,ols2,ols3,ols4,ols5], stars=True)\n",
    "outreg"
   ]
  },
  {
   "cell_type": "markdown",
   "id": "7706525d",
   "metadata": {},
   "source": [
    "## 예제 11.5 종속변수 값의 구간예측"
   ]
  },
  {
   "cell_type": "code",
   "execution_count": 33,
   "id": "36c2f94a",
   "metadata": {},
   "outputs": [
    {
     "data": {
      "text/plain": [
       "[11.08939418636319, 0.28454444951618413]"
      ]
     },
     "execution_count": 33,
     "metadata": {},
     "output_type": "execute_result"
    }
   ],
   "source": [
    "import pandas as pd\n",
    "import numpy as np\n",
    "import statsmodels.formula.api as smf\n",
    "\n",
    "Housing = pd.read_csv('csv/Ecdat/Housing.csv')\n",
    "ols = smf.ols('np.log(price)~np.log(lotsize/5000)+I(bedrooms-3)', data=Housing).fit()\n",
    "theta = ols.params.Intercept\n",
    "se = np.sqrt(ols.scale + ols.bse.Intercept**2)\n",
    "[theta, se]"
   ]
  },
  {
   "cell_type": "code",
   "execution_count": 34,
   "id": "c6aa76fe",
   "metadata": {},
   "outputs": [
    {
     "data": {
      "text/plain": [
       "[10.530451460392339, 11.648336912334042]"
      ]
     },
     "execution_count": 34,
     "metadata": {},
     "output_type": "execute_result"
    }
   ],
   "source": [
    "from scipy.stats import t\n",
    "\n",
    "c = t.ppf(.975, ols.df_resid)*se\n",
    "[theta-c, theta+c]"
   ]
  },
  {
   "cell_type": "markdown",
   "id": "2389fe4d",
   "metadata": {},
   "source": [
    "## 예제 11.6 종속변수가 로그 형태일 때 수준값의 예측"
   ]
  },
  {
   "cell_type": "code",
   "execution_count": 35,
   "id": "ef1ac945",
   "metadata": {},
   "outputs": [
    {
     "name": "stdout",
     "output_type": "stream",
     "text": [
      "1.0412349999323829\n",
      "68172.8516498904\n"
     ]
    }
   ],
   "source": [
    "# Continue\n",
    "alpha1 = np.exp(ols.scale/2)\n",
    "print(alpha1)\n",
    "print(np.exp(theta)*alpha1)"
   ]
  },
  {
   "cell_type": "code",
   "execution_count": 36,
   "id": "136610e2",
   "metadata": {},
   "outputs": [
    {
     "name": "stdout",
     "output_type": "stream",
     "text": [
      "1.0403223271241229\n",
      "68113.09615956743\n"
     ]
    }
   ],
   "source": [
    "alpha2 = np.exp(ols.resid).mean()\n",
    "print(alpha2)\n",
    "print(np.exp(theta)*alpha2)"
   ]
  },
  {
   "cell_type": "markdown",
   "id": "51282b56",
   "metadata": {},
   "source": [
    "## 예제 11.7 RESET 검정"
   ]
  },
  {
   "cell_type": "code",
   "execution_count": 37,
   "id": "4582ab54",
   "metadata": {},
   "outputs": [
    {
     "data": {
      "text/html": [
       "<div>\n",
       "<style scoped>\n",
       "    .dataframe tbody tr th:only-of-type {\n",
       "        vertical-align: middle;\n",
       "    }\n",
       "\n",
       "    .dataframe tbody tr th {\n",
       "        vertical-align: top;\n",
       "    }\n",
       "\n",
       "    .dataframe thead th {\n",
       "        text-align: right;\n",
       "    }\n",
       "</style>\n",
       "<table border=\"1\" class=\"dataframe\">\n",
       "  <thead>\n",
       "    <tr style=\"text-align: right;\">\n",
       "      <th></th>\n",
       "      <th>y</th>\n",
       "      <th>x1</th>\n",
       "      <th>x2</th>\n",
       "    </tr>\n",
       "  </thead>\n",
       "  <tbody>\n",
       "    <tr>\n",
       "      <th>0</th>\n",
       "      <td>-1.729282</td>\n",
       "      <td>-0.416758</td>\n",
       "      <td>3.194790</td>\n",
       "    </tr>\n",
       "    <tr>\n",
       "      <th>1</th>\n",
       "      <td>0.131133</td>\n",
       "      <td>-0.056267</td>\n",
       "      <td>1.471199</td>\n",
       "    </tr>\n",
       "    <tr>\n",
       "      <th>2</th>\n",
       "      <td>-0.151210</td>\n",
       "      <td>-2.136196</td>\n",
       "      <td>0.322023</td>\n",
       "    </tr>\n",
       "    <tr>\n",
       "      <th>3</th>\n",
       "      <td>3.708615</td>\n",
       "      <td>1.640271</td>\n",
       "      <td>1.542019</td>\n",
       "    </tr>\n",
       "    <tr>\n",
       "      <th>4</th>\n",
       "      <td>0.380249</td>\n",
       "      <td>-1.793436</td>\n",
       "      <td>0.737797</td>\n",
       "    </tr>\n",
       "  </tbody>\n",
       "</table>\n",
       "</div>"
      ],
      "text/plain": [
       "          y        x1        x2\n",
       "0 -1.729282 -0.416758  3.194790\n",
       "1  0.131133 -0.056267  1.471199\n",
       "2 -0.151210 -2.136196  0.322023\n",
       "3  3.708615  1.640271  1.542019\n",
       "4  0.380249 -1.793436  0.737797"
      ]
     },
     "execution_count": 37,
     "metadata": {},
     "output_type": "execute_result"
    }
   ],
   "source": [
    "import numpy as np\n",
    "\n",
    "np.random.seed(2)\n",
    "n = 100\n",
    "x1 = np.random.normal(size=n)\n",
    "x2 = np.exp(np.random.normal(size=n))\n",
    "y = 1+x1-np.log(x2)+np.random.normal(size=n)\n",
    "#https://stackoverflow.com/questions/44118416/pandas-using-variables-to-create-dataframe-with-one-row-and-column-names-from-v\n",
    "DF = pd.DataFrame({\"y\": np.array(y), \"x1\": np.array(x1), \"x2\": np.array(x2)})\n",
    "DF.head()\n",
    "# Data set is different from what is generated by R"
   ]
  },
  {
   "cell_type": "code",
   "execution_count": 38,
   "id": "a78185be",
   "metadata": {},
   "outputs": [],
   "source": [
    "ols = smf.ols('y~x1+x2', data=DF).fit()"
   ]
  },
  {
   "cell_type": "code",
   "execution_count": 39,
   "id": "c95e4820",
   "metadata": {},
   "outputs": [
    {
     "data": {
      "text/plain": [
       "<class 'statsmodels.stats.contrast.ContrastResults'>\n",
       "<F test: F=9.286693843009292, p=0.00020712555845992816, df_denom=95, df_num=2>"
      ]
     },
     "execution_count": 39,
     "metadata": {},
     "output_type": "execute_result"
    }
   ],
   "source": [
    "#https://stackoverflow.com/questions/73501475/how-to-perform-linearity-tests-on-ols-regression-statmodels\n",
    "from statsmodels.stats.diagnostic import linear_reset\n",
    "\n",
    "linear_reset(ols, power = [2,3], test_type = \"fitted\", use_f = True) # Doesn't work. Version mismatch."
   ]
  },
  {
   "cell_type": "code",
   "execution_count": 40,
   "id": "290d9b49",
   "metadata": {},
   "outputs": [
    {
     "data": {
      "text/html": [
       "<table class=\"simpletable\">\n",
       "<caption>OLS Regression Results</caption>\n",
       "<tr>\n",
       "  <th>Dep. Variable:</th>        <td>y</td>     <th>  R-squared:         </th> <td>   0.543</td>\n",
       "</tr>\n",
       "<tr>\n",
       "  <th>Model:</th>               <td>OLS</td>    <th>  Adj. R-squared:    </th> <td>   0.524</td>\n",
       "</tr>\n",
       "<tr>\n",
       "  <th>No. Observations:</th>  <td>   100</td>   <th>  F-statistic:       </th> <td>   28.20</td>\n",
       "</tr>\n",
       "<tr>\n",
       "  <th>Covariance Type:</th>  <td>nonrobust</td> <th>  Prob (F-statistic):</th> <td>1.92e-15</td>\n",
       "</tr>\n",
       "</table>\n",
       "<table class=\"simpletable\">\n",
       "<tr>\n",
       "        <td></td>          <th>coef</th>     <th>std err</th>      <th>t</th>      <th>P>|t|</th>  <th>[0.025</th>    <th>0.975]</th>  \n",
       "</tr>\n",
       "<tr>\n",
       "  <th>Intercept</th>    <td>    0.7255</td> <td>    0.197</td> <td>    3.690</td> <td> 0.000</td> <td>    0.335</td> <td>    1.116</td>\n",
       "</tr>\n",
       "<tr>\n",
       "  <th>x1</th>           <td>    0.6947</td> <td>    0.164</td> <td>    4.248</td> <td> 0.000</td> <td>    0.370</td> <td>    1.019</td>\n",
       "</tr>\n",
       "<tr>\n",
       "  <th>x2</th>           <td>   -0.1860</td> <td>    0.038</td> <td>   -4.857</td> <td> 0.000</td> <td>   -0.262</td> <td>   -0.110</td>\n",
       "</tr>\n",
       "<tr>\n",
       "  <th>I(yhat ** 2)</th> <td>    0.2578</td> <td>    0.065</td> <td>    3.949</td> <td> 0.000</td> <td>    0.128</td> <td>    0.387</td>\n",
       "</tr>\n",
       "<tr>\n",
       "  <th>I(yhat ** 3)</th> <td>   -0.0108</td> <td>    0.022</td> <td>   -0.498</td> <td> 0.619</td> <td>   -0.054</td> <td>    0.032</td>\n",
       "</tr>\n",
       "</table><br/><br/>Notes:<br/>[1] Standard Errors assume that the covariance matrix of the errors is correctly specified."
      ],
      "text/latex": [
       "\\begin{center}\n",
       "\\begin{tabular}{lclc}\n",
       "\\toprule\n",
       "\\textbf{Dep. Variable:}    &       y       & \\textbf{  R-squared:         } &     0.543   \\\\\n",
       "\\textbf{Model:}            &      OLS      & \\textbf{  Adj. R-squared:    } &     0.524   \\\\\n",
       "\\textbf{No. Observations:} &        100    & \\textbf{  F-statistic:       } &     28.20   \\\\\n",
       "\\textbf{Covariance Type:}  &   nonrobust   & \\textbf{  Prob (F-statistic):} &  1.92e-15   \\\\\n",
       "\\bottomrule\n",
       "\\end{tabular}\n",
       "\\begin{tabular}{lcccccc}\n",
       "                      & \\textbf{coef} & \\textbf{std err} & \\textbf{t} & \\textbf{P$> |$t$|$} & \\textbf{[0.025} & \\textbf{0.975]}  \\\\\n",
       "\\midrule\n",
       "\\textbf{Intercept}    &       0.7255  &        0.197     &     3.690  &         0.000        &        0.335    &        1.116     \\\\\n",
       "\\textbf{x1}           &       0.6947  &        0.164     &     4.248  &         0.000        &        0.370    &        1.019     \\\\\n",
       "\\textbf{x2}           &      -0.1860  &        0.038     &    -4.857  &         0.000        &       -0.262    &       -0.110     \\\\\n",
       "\\textbf{I(yhat ** 2)} &       0.2578  &        0.065     &     3.949  &         0.000        &        0.128    &        0.387     \\\\\n",
       "\\textbf{I(yhat ** 3)} &      -0.0108  &        0.022     &    -0.498  &         0.619        &       -0.054    &        0.032     \\\\\n",
       "\\bottomrule\n",
       "\\end{tabular}\n",
       "%\\caption{OLS Regression Results}\n",
       "\\end{center}\n",
       "\n",
       "Notes: \\newline\n",
       " [1] Standard Errors assume that the covariance matrix of the errors is correctly specified."
      ],
      "text/plain": [
       "<class 'statsmodels.iolib.summary.Summary'>\n",
       "\"\"\"\n",
       "                            OLS Regression Results                            \n",
       "==============================================================================\n",
       "Dep. Variable:                      y   R-squared:                       0.543\n",
       "Model:                            OLS   Adj. R-squared:                  0.524\n",
       "No. Observations:                 100   F-statistic:                     28.20\n",
       "Covariance Type:            nonrobust   Prob (F-statistic):           1.92e-15\n",
       "================================================================================\n",
       "                   coef    std err          t      P>|t|      [0.025      0.975]\n",
       "--------------------------------------------------------------------------------\n",
       "Intercept        0.7255      0.197      3.690      0.000       0.335       1.116\n",
       "x1               0.6947      0.164      4.248      0.000       0.370       1.019\n",
       "x2              -0.1860      0.038     -4.857      0.000      -0.262      -0.110\n",
       "I(yhat ** 2)     0.2578      0.065      3.949      0.000       0.128       0.387\n",
       "I(yhat ** 3)    -0.0108      0.022     -0.498      0.619      -0.054       0.032\n",
       "================================================================================\n",
       "\n",
       "Notes:\n",
       "[1] Standard Errors assume that the covariance matrix of the errors is correctly specified.\n",
       "\"\"\""
      ]
     },
     "execution_count": 40,
     "metadata": {},
     "output_type": "execute_result"
    }
   ],
   "source": [
    "DF['yhat'] = ols.fittedvalues\n",
    "aux = smf.ols('y~x1+x2+I(yhat**2)+I(yhat**3)', data=DF).fit()\n",
    "aux.summary(slim=True)"
   ]
  },
  {
   "cell_type": "code",
   "execution_count": 41,
   "id": "15471a28",
   "metadata": {},
   "outputs": [
    {
     "data": {
      "text/plain": [
       "<class 'statsmodels.stats.contrast.ContrastResults'>\n",
       "<F test: F=9.286693843009292, p=0.00020712555845992816, df_denom=95, df_num=2>"
      ]
     },
     "execution_count": 41,
     "metadata": {},
     "output_type": "execute_result"
    }
   ],
   "source": [
    "aux.f_test([[0,0,0,1,0], [0,0,0,0,1]])"
   ]
  },
  {
   "cell_type": "code",
   "execution_count": 42,
   "id": "dcdb1444-f5a9-4c70-8221-a4c57f08fe93",
   "metadata": {},
   "outputs": [
    {
     "data": {
      "text/plain": [
       "<class 'statsmodels.stats.contrast.ContrastResults'>\n",
       "<F test: F=0.8485970120597683, p=0.4312333489202228, df_denom=95, df_num=2>"
      ]
     },
     "execution_count": 42,
     "metadata": {},
     "output_type": "execute_result"
    }
   ],
   "source": [
    "ols2 = smf.ols('y~x1+np.log(x2)', data=DF).fit()\n",
    "\n",
    "linear_reset(ols2, power=[2,3], test_type = 'fitted', use_f = True) # Doesn't work. Version mismatch."
   ]
  }
 ],
 "metadata": {
  "kernelspec": {
   "display_name": "Python 3 (ipykernel)",
   "language": "python",
   "name": "python3"
  },
  "language_info": {
   "codemirror_mode": {
    "name": "ipython",
    "version": 3
   },
   "file_extension": ".py",
   "mimetype": "text/x-python",
   "name": "python",
   "nbconvert_exporter": "python",
   "pygments_lexer": "ipython3",
   "version": "3.12.2"
  }
 },
 "nbformat": 4,
 "nbformat_minor": 5
}
