{
 "cells": [
  {
   "cell_type": "markdown",
   "id": "49ab1180",
   "metadata": {},
   "source": [
    "# 12장 정규분포 문제\n",
    "\n",
    "## 예제 12.4 지수분포 가정하의 최우추정(예제 12.1 계속)"
   ]
  },
  {
   "cell_type": "code",
   "execution_count": 1,
   "id": "398b9ead",
   "metadata": {},
   "outputs": [
    {
     "data": {
      "text/plain": [
       "  message: Optimization terminated successfully.\n",
       "  success: True\n",
       "   status: 0\n",
       "      fun: 7.38635235865695\n",
       "        x: [ 1.299e+00]\n",
       "      nit: 6\n",
       "      jac: [ 3.576e-06]\n",
       " hess_inv: [[ 1.680e-01]]\n",
       "     nfev: 14\n",
       "     njev: 7"
      ]
     },
     "execution_count": 1,
     "metadata": {},
     "output_type": "execute_result"
    }
   ],
   "source": [
    "import numpy as np\n",
    "from scipy import optimize\n",
    "\n",
    "def logL(a):\n",
    "    return -(10*np.log(a)-7.7*a) # for minimization\n",
    "\n",
    "optimize.minimize(logL, 2)"
   ]
  },
  {
   "cell_type": "code",
   "execution_count": null,
   "id": "ea5e4332-70c0-4069-86d9-ded460d4600b",
   "metadata": {},
   "outputs": [],
   "source": []
  }
 ],
 "metadata": {
  "kernelspec": {
   "display_name": "Python 3 (ipykernel)",
   "language": "python",
   "name": "python3"
  },
  "language_info": {
   "codemirror_mode": {
    "name": "ipython",
    "version": 3
   },
   "file_extension": ".py",
   "mimetype": "text/x-python",
   "name": "python",
   "nbconvert_exporter": "python",
   "pygments_lexer": "ipython3",
   "version": "3.12.2"
  }
 },
 "nbformat": 4,
 "nbformat_minor": 5
}
