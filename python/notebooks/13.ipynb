{
 "cells": [
  {
   "cell_type": "markdown",
   "id": "f38fe8d2",
   "metadata": {},
   "source": [
    "# 13장 이분산\n",
    "\n",
    "## 예제 13.3 이분산에 견고한 표준오차"
   ]
  },
  {
   "cell_type": "code",
   "execution_count": 1,
   "id": "a67467e4",
   "metadata": {},
   "outputs": [
    {
     "data": {
      "text/html": [
       "<table class=\"simpletable\">\n",
       "<caption>OLS Regression Results</caption>\n",
       "<tr>\n",
       "  <th>Dep. Variable:</th>    <td>log(price)</td> <th>  R-squared:         </th> <td>   0.504</td>\n",
       "</tr>\n",
       "<tr>\n",
       "  <th>Model:</th>                <td>OLS</td>    <th>  Adj. R-squared:    </th> <td>   0.501</td>\n",
       "</tr>\n",
       "<tr>\n",
       "  <th>No. Observations:</th>   <td>   546</td>   <th>  F-statistic:       </th> <td>   181.4</td>\n",
       "</tr>\n",
       "<tr>\n",
       "  <th>Covariance Type:</th>      <td>HC0</td>    <th>  Prob (F-statistic):</th> <td>2.00e-81</td>\n",
       "</tr>\n",
       "</table>\n",
       "<table class=\"simpletable\">\n",
       "<tr>\n",
       "        <td></td>          <th>coef</th>     <th>std err</th>      <th>z</th>      <th>P>|z|</th>  <th>[0.025</th>    <th>0.975]</th>  \n",
       "</tr>\n",
       "<tr>\n",
       "  <th>Intercept</th>    <td>    6.6222</td> <td>    0.248</td> <td>   26.708</td> <td> 0.000</td> <td>    6.136</td> <td>    7.108</td>\n",
       "</tr>\n",
       "<tr>\n",
       "  <th>log(lotsize)</th> <td>    0.4568</td> <td>    0.030</td> <td>   15.172</td> <td> 0.000</td> <td>    0.398</td> <td>    0.516</td>\n",
       "</tr>\n",
       "<tr>\n",
       "  <th>bedrooms</th>     <td>    0.0892</td> <td>    0.018</td> <td>    4.999</td> <td> 0.000</td> <td>    0.054</td> <td>    0.124</td>\n",
       "</tr>\n",
       "<tr>\n",
       "  <th>bathrms</th>      <td>    0.2368</td> <td>    0.026</td> <td>    8.971</td> <td> 0.000</td> <td>    0.185</td> <td>    0.288</td>\n",
       "</tr>\n",
       "</table><br/><br/>Notes:<br/>[1] Standard Errors are heteroscedasticity robust (HC0)"
      ],
      "text/latex": [
       "\\begin{center}\n",
       "\\begin{tabular}{lclc}\n",
       "\\toprule\n",
       "\\textbf{Dep. Variable:}    &   log(price)  & \\textbf{  R-squared:         } &     0.504   \\\\\n",
       "\\textbf{Model:}            &      OLS      & \\textbf{  Adj. R-squared:    } &     0.501   \\\\\n",
       "\\textbf{No. Observations:} &        546    & \\textbf{  F-statistic:       } &     181.4   \\\\\n",
       "\\textbf{Covariance Type:}  &      HC0      & \\textbf{  Prob (F-statistic):} &  2.00e-81   \\\\\n",
       "\\bottomrule\n",
       "\\end{tabular}\n",
       "\\begin{tabular}{lcccccc}\n",
       "                      & \\textbf{coef} & \\textbf{std err} & \\textbf{z} & \\textbf{P$> |$z$|$} & \\textbf{[0.025} & \\textbf{0.975]}  \\\\\n",
       "\\midrule\n",
       "\\textbf{Intercept}    &       6.6222  &        0.248     &    26.708  &         0.000        &        6.136    &        7.108     \\\\\n",
       "\\textbf{log(lotsize)} &       0.4568  &        0.030     &    15.172  &         0.000        &        0.398    &        0.516     \\\\\n",
       "\\textbf{bedrooms}     &       0.0892  &        0.018     &     4.999  &         0.000        &        0.054    &        0.124     \\\\\n",
       "\\textbf{bathrms}      &       0.2368  &        0.026     &     8.971  &         0.000        &        0.185    &        0.288     \\\\\n",
       "\\bottomrule\n",
       "\\end{tabular}\n",
       "%\\caption{OLS Regression Results}\n",
       "\\end{center}\n",
       "\n",
       "Notes: \\newline\n",
       " [1] Standard Errors are heteroscedasticity robust (HC0)"
      ],
      "text/plain": [
       "<class 'statsmodels.iolib.summary.Summary'>\n",
       "\"\"\"\n",
       "                            OLS Regression Results                            \n",
       "==============================================================================\n",
       "Dep. Variable:             log(price)   R-squared:                       0.504\n",
       "Model:                            OLS   Adj. R-squared:                  0.501\n",
       "No. Observations:                 546   F-statistic:                     181.4\n",
       "Covariance Type:                  HC0   Prob (F-statistic):           2.00e-81\n",
       "================================================================================\n",
       "                   coef    std err          z      P>|z|      [0.025      0.975]\n",
       "--------------------------------------------------------------------------------\n",
       "Intercept        6.6222      0.248     26.708      0.000       6.136       7.108\n",
       "log(lotsize)     0.4568      0.030     15.172      0.000       0.398       0.516\n",
       "bedrooms         0.0892      0.018      4.999      0.000       0.054       0.124\n",
       "bathrms          0.2368      0.026      8.971      0.000       0.185       0.288\n",
       "================================================================================\n",
       "\n",
       "Notes:\n",
       "[1] Standard Errors are heteroscedasticity robust (HC0)\n",
       "\"\"\""
      ]
     },
     "execution_count": 1,
     "metadata": {},
     "output_type": "execute_result"
    }
   ],
   "source": [
    "import pandas as pd\n",
    "from numpy import log\n",
    "import statsmodels.formula.api as smf\n",
    "\n",
    "Housing = pd.read_csv('csv/Ecdat/Housing.csv')\n",
    "#https://stackoverflow.com/questions/30553838/getting-statsmodels-to-use-heteroskedasticity-corrected-standard-errors-in-coeff\n",
    "model = smf.ols('log(price)~log(lotsize)+bedrooms+bathrms', data=Housing)\n",
    "ols = model.fit(cov_type = 'HC0')\n",
    "ols.summary(slim=True)"
   ]
  },
  {
   "cell_type": "markdown",
   "id": "22693d68",
   "metadata": {},
   "source": [
    "## 예제 13.4 통상적인 표준오차와 여러 견고한 표준오차들의 비교"
   ]
  },
  {
   "cell_type": "code",
   "execution_count": 2,
   "id": "bba34ef4",
   "metadata": {},
   "outputs": [
    {
     "data": {
      "text/html": [
       "<div>\n",
       "<style scoped>\n",
       "    .dataframe tbody tr th:only-of-type {\n",
       "        vertical-align: middle;\n",
       "    }\n",
       "\n",
       "    .dataframe tbody tr th {\n",
       "        vertical-align: top;\n",
       "    }\n",
       "\n",
       "    .dataframe thead th {\n",
       "        text-align: right;\n",
       "    }\n",
       "</style>\n",
       "<table border=\"1\" class=\"dataframe\">\n",
       "  <thead>\n",
       "    <tr style=\"text-align: right;\">\n",
       "      <th></th>\n",
       "      <th>ord</th>\n",
       "      <th>hc0</th>\n",
       "      <th>hc1</th>\n",
       "      <th>hc2</th>\n",
       "      <th>hc3</th>\n",
       "    </tr>\n",
       "  </thead>\n",
       "  <tbody>\n",
       "    <tr>\n",
       "      <th>Intercept</th>\n",
       "      <td>0.241234</td>\n",
       "      <td>0.247946</td>\n",
       "      <td>0.248859</td>\n",
       "      <td>0.249356</td>\n",
       "      <td>0.250780</td>\n",
       "    </tr>\n",
       "    <tr>\n",
       "      <th>log(lotsize)</th>\n",
       "      <td>0.028983</td>\n",
       "      <td>0.030110</td>\n",
       "      <td>0.030221</td>\n",
       "      <td>0.030286</td>\n",
       "      <td>0.030464</td>\n",
       "    </tr>\n",
       "    <tr>\n",
       "      <th>bedrooms</th>\n",
       "      <td>0.016513</td>\n",
       "      <td>0.017850</td>\n",
       "      <td>0.017916</td>\n",
       "      <td>0.017985</td>\n",
       "      <td>0.018122</td>\n",
       "    </tr>\n",
       "    <tr>\n",
       "      <th>bathrms</th>\n",
       "      <td>0.024479</td>\n",
       "      <td>0.026392</td>\n",
       "      <td>0.026490</td>\n",
       "      <td>0.026611</td>\n",
       "      <td>0.026834</td>\n",
       "    </tr>\n",
       "  </tbody>\n",
       "</table>\n",
       "</div>"
      ],
      "text/plain": [
       "                   ord       hc0       hc1       hc2       hc3\n",
       "Intercept     0.241234  0.247946  0.248859  0.249356  0.250780\n",
       "log(lotsize)  0.028983  0.030110  0.030221  0.030286  0.030464\n",
       "bedrooms      0.016513  0.017850  0.017916  0.017985  0.018122\n",
       "bathrms       0.024479  0.026392  0.026490  0.026611  0.026834"
      ]
     },
     "execution_count": 2,
     "metadata": {},
     "output_type": "execute_result"
    }
   ],
   "source": [
    "ols = model.fit() # fit again (ordinary se)\n",
    "pd.DataFrame({'ord': ols.bse, 'hc0': ols.HC0_se, 'hc1': ols.HC1_se, 'hc2': ols.HC2_se, 'hc3': ols.HC3_se})"
   ]
  },
  {
   "cell_type": "markdown",
   "id": "1288fdbb",
   "metadata": {},
   "source": [
    "## 예제 13.5 지역별 사망률"
   ]
  },
  {
   "cell_type": "code",
   "execution_count": 3,
   "id": "6805d3dd",
   "metadata": {},
   "outputs": [
    {
     "data": {
      "text/html": [
       "<table class=\"simpletable\">\n",
       "<caption>OLS Regression Results</caption>\n",
       "<tr>\n",
       "  <th>Dep. Variable:</th>    <td>deathrate</td> <th>  R-squared:         </th> <td>   0.921</td> \n",
       "</tr>\n",
       "<tr>\n",
       "  <th>Model:</th>               <td>OLS</td>    <th>  Adj. R-squared:    </th> <td>   0.919</td> \n",
       "</tr>\n",
       "<tr>\n",
       "  <th>No. Observations:</th>  <td>   258</td>   <th>  F-statistic:       </th> <td>   487.3</td> \n",
       "</tr>\n",
       "<tr>\n",
       "  <th>Covariance Type:</th>  <td>nonrobust</td> <th>  Prob (F-statistic):</th> <td>3.42e-135</td>\n",
       "</tr>\n",
       "</table>\n",
       "<table class=\"simpletable\">\n",
       "<tr>\n",
       "         <td></td>            <th>coef</th>     <th>std err</th>      <th>t</th>      <th>P>|t|</th>  <th>[0.025</th>    <th>0.975]</th>  \n",
       "</tr>\n",
       "<tr>\n",
       "  <th>Intercept</th>       <td>   -0.2241</td> <td>    0.769</td> <td>   -0.291</td> <td> 0.771</td> <td>   -1.739</td> <td>    1.291</td>\n",
       "</tr>\n",
       "<tr>\n",
       "  <th>C(year)[T.2009]</th> <td>   -0.3788</td> <td>    0.098</td> <td>   -3.867</td> <td> 0.000</td> <td>   -0.572</td> <td>   -0.186</td>\n",
       "</tr>\n",
       "<tr>\n",
       "  <th>C(year)[T.2010]</th> <td>   -0.3510</td> <td>    0.102</td> <td>   -3.457</td> <td> 0.001</td> <td>   -0.551</td> <td>   -0.151</td>\n",
       "</tr>\n",
       "<tr>\n",
       "  <th>drink</th>           <td>    0.0064</td> <td>    0.011</td> <td>    0.594</td> <td> 0.553</td> <td>   -0.015</td> <td>    0.028</td>\n",
       "</tr>\n",
       "<tr>\n",
       "  <th>smoke</th>           <td>    0.0333</td> <td>    0.018</td> <td>    1.873</td> <td> 0.062</td> <td>   -0.002</td> <td>    0.068</td>\n",
       "</tr>\n",
       "<tr>\n",
       "  <th>aged</th>            <td>    0.4027</td> <td>    0.010</td> <td>   38.401</td> <td> 0.000</td> <td>    0.382</td> <td>    0.423</td>\n",
       "</tr>\n",
       "<tr>\n",
       "  <th>vehipc</th>          <td>    1.4079</td> <td>    1.163</td> <td>    1.211</td> <td> 0.227</td> <td>   -0.882</td> <td>    3.698</td>\n",
       "</tr>\n",
       "</table><br/><br/>Notes:<br/>[1] Standard Errors assume that the covariance matrix of the errors is correctly specified.<br/>[2] The condition number is large, 1.91e+03. This might indicate that there are<br/>strong multicollinearity or other numerical problems."
      ],
      "text/latex": [
       "\\begin{center}\n",
       "\\begin{tabular}{lclc}\n",
       "\\toprule\n",
       "\\textbf{Dep. Variable:}    &   deathrate   & \\textbf{  R-squared:         } &     0.921   \\\\\n",
       "\\textbf{Model:}            &      OLS      & \\textbf{  Adj. R-squared:    } &     0.919   \\\\\n",
       "\\textbf{No. Observations:} &        258    & \\textbf{  F-statistic:       } &     487.3   \\\\\n",
       "\\textbf{Covariance Type:}  &   nonrobust   & \\textbf{  Prob (F-statistic):} & 3.42e-135   \\\\\n",
       "\\bottomrule\n",
       "\\end{tabular}\n",
       "\\begin{tabular}{lcccccc}\n",
       "                         & \\textbf{coef} & \\textbf{std err} & \\textbf{t} & \\textbf{P$> |$t$|$} & \\textbf{[0.025} & \\textbf{0.975]}  \\\\\n",
       "\\midrule\n",
       "\\textbf{Intercept}       &      -0.2241  &        0.769     &    -0.291  &         0.771        &       -1.739    &        1.291     \\\\\n",
       "\\textbf{C(year)[T.2009]} &      -0.3788  &        0.098     &    -3.867  &         0.000        &       -0.572    &       -0.186     \\\\\n",
       "\\textbf{C(year)[T.2010]} &      -0.3510  &        0.102     &    -3.457  &         0.001        &       -0.551    &       -0.151     \\\\\n",
       "\\textbf{drink}           &       0.0064  &        0.011     &     0.594  &         0.553        &       -0.015    &        0.028     \\\\\n",
       "\\textbf{smoke}           &       0.0333  &        0.018     &     1.873  &         0.062        &       -0.002    &        0.068     \\\\\n",
       "\\textbf{aged}            &       0.4027  &        0.010     &    38.401  &         0.000        &        0.382    &        0.423     \\\\\n",
       "\\textbf{vehipc}          &       1.4079  &        1.163     &     1.211  &         0.227        &       -0.882    &        3.698     \\\\\n",
       "\\bottomrule\n",
       "\\end{tabular}\n",
       "%\\caption{OLS Regression Results}\n",
       "\\end{center}\n",
       "\n",
       "Notes: \\newline\n",
       " [1] Standard Errors assume that the covariance matrix of the errors is correctly specified. \\newline\n",
       " [2] The condition number is large, 1.91e+03. This might indicate that there are \\newline\n",
       " strong multicollinearity or other numerical problems."
      ],
      "text/plain": [
       "<class 'statsmodels.iolib.summary.Summary'>\n",
       "\"\"\"\n",
       "                            OLS Regression Results                            \n",
       "==============================================================================\n",
       "Dep. Variable:              deathrate   R-squared:                       0.921\n",
       "Model:                            OLS   Adj. R-squared:                  0.919\n",
       "No. Observations:                 258   F-statistic:                     487.3\n",
       "Covariance Type:            nonrobust   Prob (F-statistic):          3.42e-135\n",
       "===================================================================================\n",
       "                      coef    std err          t      P>|t|      [0.025      0.975]\n",
       "-----------------------------------------------------------------------------------\n",
       "Intercept          -0.2241      0.769     -0.291      0.771      -1.739       1.291\n",
       "C(year)[T.2009]    -0.3788      0.098     -3.867      0.000      -0.572      -0.186\n",
       "C(year)[T.2010]    -0.3510      0.102     -3.457      0.001      -0.551      -0.151\n",
       "drink               0.0064      0.011      0.594      0.553      -0.015       0.028\n",
       "smoke               0.0333      0.018      1.873      0.062      -0.002       0.068\n",
       "aged                0.4027      0.010     38.401      0.000       0.382       0.423\n",
       "vehipc              1.4079      1.163      1.211      0.227      -0.882       3.698\n",
       "===================================================================================\n",
       "\n",
       "Notes:\n",
       "[1] Standard Errors assume that the covariance matrix of the errors is correctly specified.\n",
       "[2] The condition number is large, 1.91e+03. This might indicate that there are\n",
       "strong multicollinearity or other numerical problems.\n",
       "\"\"\""
      ]
     },
     "execution_count": 3,
     "metadata": {},
     "output_type": "execute_result"
    }
   ],
   "source": [
    "import pandas as pd\n",
    "import statsmodels.formula.api as smf\n",
    "\n",
    "Death = pd.read_csv('csv/loedata/Death.csv')\n",
    "model = smf.ols('deathrate~drink+smoke+aged+vehipc+C(year)', data=Death) # C=categorical\n",
    "model.fit().summary(slim=True)"
   ]
  },
  {
   "cell_type": "markdown",
   "id": "92d2c382-f9ee-43b1-a66d-ff88eed8c048",
   "metadata": {},
   "source": [
    "위의 주석 \\[2\\]는 [condition number](https://en.wikipedia.org/wiki/Condition_number)에 관한 것이다. 이 값은 $X'X$의 가장 큰 eigenvalue와 가장 작은 eigenvalue 간 비율에 제곱근을 취한 것과 동일하다. 근사적인 다중공선성의 지표가 되기도 하는데, 크게 신경 쓰지 않아도 된다."
   ]
  },
  {
   "cell_type": "code",
   "execution_count": 4,
   "id": "e5d7b7d0",
   "metadata": {},
   "outputs": [
    {
     "data": {
      "text/html": [
       "<table class=\"simpletable\">\n",
       "<caption>OLS Regression Results</caption>\n",
       "<tr>\n",
       "  <th>Dep. Variable:</th>    <td>deathrate</td> <th>  R-squared:         </th> <td>   0.921</td> \n",
       "</tr>\n",
       "<tr>\n",
       "  <th>Model:</th>               <td>OLS</td>    <th>  Adj. R-squared:    </th> <td>   0.919</td> \n",
       "</tr>\n",
       "<tr>\n",
       "  <th>No. Observations:</th>  <td>   258</td>   <th>  F-statistic:       </th> <td>   650.1</td> \n",
       "</tr>\n",
       "<tr>\n",
       "  <th>Covariance Type:</th>     <td>HC3</td>    <th>  Prob (F-statistic):</th> <td>8.45e-150</td>\n",
       "</tr>\n",
       "</table>\n",
       "<table class=\"simpletable\">\n",
       "<tr>\n",
       "         <td></td>            <th>coef</th>     <th>std err</th>      <th>z</th>      <th>P>|z|</th>  <th>[0.025</th>    <th>0.975]</th>  \n",
       "</tr>\n",
       "<tr>\n",
       "  <th>Intercept</th>       <td>   -0.2241</td> <td>    0.785</td> <td>   -0.285</td> <td> 0.775</td> <td>   -1.763</td> <td>    1.315</td>\n",
       "</tr>\n",
       "<tr>\n",
       "  <th>C(year)[T.2009]</th> <td>   -0.3788</td> <td>    0.095</td> <td>   -3.996</td> <td> 0.000</td> <td>   -0.565</td> <td>   -0.193</td>\n",
       "</tr>\n",
       "<tr>\n",
       "  <th>C(year)[T.2010]</th> <td>   -0.3510</td> <td>    0.104</td> <td>   -3.371</td> <td> 0.001</td> <td>   -0.555</td> <td>   -0.147</td>\n",
       "</tr>\n",
       "<tr>\n",
       "  <th>drink</th>           <td>    0.0064</td> <td>    0.011</td> <td>    0.565</td> <td> 0.572</td> <td>   -0.016</td> <td>    0.029</td>\n",
       "</tr>\n",
       "<tr>\n",
       "  <th>smoke</th>           <td>    0.0333</td> <td>    0.019</td> <td>    1.770</td> <td> 0.077</td> <td>   -0.004</td> <td>    0.070</td>\n",
       "</tr>\n",
       "<tr>\n",
       "  <th>aged</th>            <td>    0.4027</td> <td>    0.010</td> <td>   39.371</td> <td> 0.000</td> <td>    0.383</td> <td>    0.423</td>\n",
       "</tr>\n",
       "<tr>\n",
       "  <th>vehipc</th>          <td>    1.4079</td> <td>    1.295</td> <td>    1.087</td> <td> 0.277</td> <td>   -1.130</td> <td>    3.946</td>\n",
       "</tr>\n",
       "</table><br/><br/>Notes:<br/>[1] Standard Errors are heteroscedasticity robust (HC3)<br/>[2] The condition number is large, 1.91e+03. This might indicate that there are<br/>strong multicollinearity or other numerical problems."
      ],
      "text/latex": [
       "\\begin{center}\n",
       "\\begin{tabular}{lclc}\n",
       "\\toprule\n",
       "\\textbf{Dep. Variable:}    &   deathrate   & \\textbf{  R-squared:         } &     0.921   \\\\\n",
       "\\textbf{Model:}            &      OLS      & \\textbf{  Adj. R-squared:    } &     0.919   \\\\\n",
       "\\textbf{No. Observations:} &        258    & \\textbf{  F-statistic:       } &     650.1   \\\\\n",
       "\\textbf{Covariance Type:}  &      HC3      & \\textbf{  Prob (F-statistic):} & 8.45e-150   \\\\\n",
       "\\bottomrule\n",
       "\\end{tabular}\n",
       "\\begin{tabular}{lcccccc}\n",
       "                         & \\textbf{coef} & \\textbf{std err} & \\textbf{z} & \\textbf{P$> |$z$|$} & \\textbf{[0.025} & \\textbf{0.975]}  \\\\\n",
       "\\midrule\n",
       "\\textbf{Intercept}       &      -0.2241  &        0.785     &    -0.285  &         0.775        &       -1.763    &        1.315     \\\\\n",
       "\\textbf{C(year)[T.2009]} &      -0.3788  &        0.095     &    -3.996  &         0.000        &       -0.565    &       -0.193     \\\\\n",
       "\\textbf{C(year)[T.2010]} &      -0.3510  &        0.104     &    -3.371  &         0.001        &       -0.555    &       -0.147     \\\\\n",
       "\\textbf{drink}           &       0.0064  &        0.011     &     0.565  &         0.572        &       -0.016    &        0.029     \\\\\n",
       "\\textbf{smoke}           &       0.0333  &        0.019     &     1.770  &         0.077        &       -0.004    &        0.070     \\\\\n",
       "\\textbf{aged}            &       0.4027  &        0.010     &    39.371  &         0.000        &        0.383    &        0.423     \\\\\n",
       "\\textbf{vehipc}          &       1.4079  &        1.295     &     1.087  &         0.277        &       -1.130    &        3.946     \\\\\n",
       "\\bottomrule\n",
       "\\end{tabular}\n",
       "%\\caption{OLS Regression Results}\n",
       "\\end{center}\n",
       "\n",
       "Notes: \\newline\n",
       " [1] Standard Errors are heteroscedasticity robust (HC3) \\newline\n",
       " [2] The condition number is large, 1.91e+03. This might indicate that there are \\newline\n",
       " strong multicollinearity or other numerical problems."
      ],
      "text/plain": [
       "<class 'statsmodels.iolib.summary.Summary'>\n",
       "\"\"\"\n",
       "                            OLS Regression Results                            \n",
       "==============================================================================\n",
       "Dep. Variable:              deathrate   R-squared:                       0.921\n",
       "Model:                            OLS   Adj. R-squared:                  0.919\n",
       "No. Observations:                 258   F-statistic:                     650.1\n",
       "Covariance Type:                  HC3   Prob (F-statistic):          8.45e-150\n",
       "===================================================================================\n",
       "                      coef    std err          z      P>|z|      [0.025      0.975]\n",
       "-----------------------------------------------------------------------------------\n",
       "Intercept          -0.2241      0.785     -0.285      0.775      -1.763       1.315\n",
       "C(year)[T.2009]    -0.3788      0.095     -3.996      0.000      -0.565      -0.193\n",
       "C(year)[T.2010]    -0.3510      0.104     -3.371      0.001      -0.555      -0.147\n",
       "drink               0.0064      0.011      0.565      0.572      -0.016       0.029\n",
       "smoke               0.0333      0.019      1.770      0.077      -0.004       0.070\n",
       "aged                0.4027      0.010     39.371      0.000       0.383       0.423\n",
       "vehipc              1.4079      1.295      1.087      0.277      -1.130       3.946\n",
       "===================================================================================\n",
       "\n",
       "Notes:\n",
       "[1] Standard Errors are heteroscedasticity robust (HC3)\n",
       "[2] The condition number is large, 1.91e+03. This might indicate that there are\n",
       "strong multicollinearity or other numerical problems.\n",
       "\"\"\""
      ]
     },
     "execution_count": 4,
     "metadata": {},
     "output_type": "execute_result"
    }
   ],
   "source": [
    "model.fit(cov_type='HC3').summary(slim=True)"
   ]
  },
  {
   "cell_type": "markdown",
   "id": "5758c49c",
   "metadata": {},
   "source": [
    "## 예제 13.6 사망률 분석에서 F검정"
   ]
  },
  {
   "cell_type": "code",
   "execution_count": 5,
   "id": "51e8351c",
   "metadata": {},
   "outputs": [
    {
     "name": "stdout",
     "output_type": "stream",
     "text": [
      "<F test: F=3.2488401914796645, p=0.04045761180359891, df_denom=251, df_num=2>\n",
      "<F test: F=2.9862362091563925, p=0.052273714967270596, df_denom=251, df_num=2>\n"
     ]
    }
   ],
   "source": [
    "# Continue\n",
    "hypo = 'drink=0, smoke=0'\n",
    "rego = model.fit()\n",
    "print(rego.f_test(hypo))\n",
    "regh = model.fit(cov_type='HC3')\n",
    "print(regh.f_test(hypo))"
   ]
  },
  {
   "cell_type": "markdown",
   "id": "f0d801bb",
   "metadata": {},
   "source": [
    "## 예제 13.8 사망률 모형의 WLS 추정"
   ]
  },
  {
   "cell_type": "code",
   "execution_count": 6,
   "id": "407a9114",
   "metadata": {},
   "outputs": [
    {
     "data": {
      "text/html": [
       "<table class=\"simpletable\">\n",
       "<caption>WLS Regression Results</caption>\n",
       "<tr>\n",
       "  <th>Dep. Variable:</th>    <td>deathrate</td> <th>  R-squared:         </th> <td>   0.941</td> \n",
       "</tr>\n",
       "<tr>\n",
       "  <th>Model:</th>               <td>WLS</td>    <th>  Adj. R-squared:    </th> <td>   0.939</td> \n",
       "</tr>\n",
       "<tr>\n",
       "  <th>No. Observations:</th>  <td>   258</td>   <th>  F-statistic:       </th> <td>   663.9</td> \n",
       "</tr>\n",
       "<tr>\n",
       "  <th>Covariance Type:</th>  <td>nonrobust</td> <th>  Prob (F-statistic):</th> <td>7.08e-151</td>\n",
       "</tr>\n",
       "</table>\n",
       "<table class=\"simpletable\">\n",
       "<tr>\n",
       "         <td></td>            <th>coef</th>     <th>std err</th>      <th>t</th>      <th>P>|t|</th>  <th>[0.025</th>    <th>0.975]</th>  \n",
       "</tr>\n",
       "<tr>\n",
       "  <th>Intercept</th>       <td>   -0.5815</td> <td>    0.764</td> <td>   -0.761</td> <td> 0.448</td> <td>   -2.087</td> <td>    0.924</td>\n",
       "</tr>\n",
       "<tr>\n",
       "  <th>C(year)[T.2009]</th> <td>   -0.2963</td> <td>    0.096</td> <td>   -3.093</td> <td> 0.002</td> <td>   -0.485</td> <td>   -0.108</td>\n",
       "</tr>\n",
       "<tr>\n",
       "  <th>C(year)[T.2010]</th> <td>   -0.2977</td> <td>    0.099</td> <td>   -3.008</td> <td> 0.003</td> <td>   -0.493</td> <td>   -0.103</td>\n",
       "</tr>\n",
       "<tr>\n",
       "  <th>drink</th>           <td>    0.0166</td> <td>    0.011</td> <td>    1.575</td> <td> 0.117</td> <td>   -0.004</td> <td>    0.037</td>\n",
       "</tr>\n",
       "<tr>\n",
       "  <th>smoke</th>           <td>    0.0327</td> <td>    0.018</td> <td>    1.830</td> <td> 0.068</td> <td>   -0.002</td> <td>    0.068</td>\n",
       "</tr>\n",
       "<tr>\n",
       "  <th>aged</th>            <td>    0.4105</td> <td>    0.010</td> <td>   42.003</td> <td> 0.000</td> <td>    0.391</td> <td>    0.430</td>\n",
       "</tr>\n",
       "<tr>\n",
       "  <th>vehipc</th>          <td>    0.5491</td> <td>    1.185</td> <td>    0.464</td> <td> 0.643</td> <td>   -1.784</td> <td>    2.882</td>\n",
       "</tr>\n",
       "</table><br/><br/>Notes:<br/>[1] Standard Errors assume that the covariance matrix of the errors is correctly specified.<br/>[2] The condition number is large, 2.02e+03. This might indicate that there are<br/>strong multicollinearity or other numerical problems."
      ],
      "text/latex": [
       "\\begin{center}\n",
       "\\begin{tabular}{lclc}\n",
       "\\toprule\n",
       "\\textbf{Dep. Variable:}    &   deathrate   & \\textbf{  R-squared:         } &     0.941   \\\\\n",
       "\\textbf{Model:}            &      WLS      & \\textbf{  Adj. R-squared:    } &     0.939   \\\\\n",
       "\\textbf{No. Observations:} &        258    & \\textbf{  F-statistic:       } &     663.9   \\\\\n",
       "\\textbf{Covariance Type:}  &   nonrobust   & \\textbf{  Prob (F-statistic):} & 7.08e-151   \\\\\n",
       "\\bottomrule\n",
       "\\end{tabular}\n",
       "\\begin{tabular}{lcccccc}\n",
       "                         & \\textbf{coef} & \\textbf{std err} & \\textbf{t} & \\textbf{P$> |$t$|$} & \\textbf{[0.025} & \\textbf{0.975]}  \\\\\n",
       "\\midrule\n",
       "\\textbf{Intercept}       &      -0.5815  &        0.764     &    -0.761  &         0.448        &       -2.087    &        0.924     \\\\\n",
       "\\textbf{C(year)[T.2009]} &      -0.2963  &        0.096     &    -3.093  &         0.002        &       -0.485    &       -0.108     \\\\\n",
       "\\textbf{C(year)[T.2010]} &      -0.2977  &        0.099     &    -3.008  &         0.003        &       -0.493    &       -0.103     \\\\\n",
       "\\textbf{drink}           &       0.0166  &        0.011     &     1.575  &         0.117        &       -0.004    &        0.037     \\\\\n",
       "\\textbf{smoke}           &       0.0327  &        0.018     &     1.830  &         0.068        &       -0.002    &        0.068     \\\\\n",
       "\\textbf{aged}            &       0.4105  &        0.010     &    42.003  &         0.000        &        0.391    &        0.430     \\\\\n",
       "\\textbf{vehipc}          &       0.5491  &        1.185     &     0.464  &         0.643        &       -1.784    &        2.882     \\\\\n",
       "\\bottomrule\n",
       "\\end{tabular}\n",
       "%\\caption{WLS Regression Results}\n",
       "\\end{center}\n",
       "\n",
       "Notes: \\newline\n",
       " [1] Standard Errors assume that the covariance matrix of the errors is correctly specified. \\newline\n",
       " [2] The condition number is large, 2.02e+03. This might indicate that there are \\newline\n",
       " strong multicollinearity or other numerical problems."
      ],
      "text/plain": [
       "<class 'statsmodels.iolib.summary.Summary'>\n",
       "\"\"\"\n",
       "                            WLS Regression Results                            \n",
       "==============================================================================\n",
       "Dep. Variable:              deathrate   R-squared:                       0.941\n",
       "Model:                            WLS   Adj. R-squared:                  0.939\n",
       "No. Observations:                 258   F-statistic:                     663.9\n",
       "Covariance Type:            nonrobust   Prob (F-statistic):          7.08e-151\n",
       "===================================================================================\n",
       "                      coef    std err          t      P>|t|      [0.025      0.975]\n",
       "-----------------------------------------------------------------------------------\n",
       "Intercept          -0.5815      0.764     -0.761      0.448      -2.087       0.924\n",
       "C(year)[T.2009]    -0.2963      0.096     -3.093      0.002      -0.485      -0.108\n",
       "C(year)[T.2010]    -0.2977      0.099     -3.008      0.003      -0.493      -0.103\n",
       "drink               0.0166      0.011      1.575      0.117      -0.004       0.037\n",
       "smoke               0.0327      0.018      1.830      0.068      -0.002       0.068\n",
       "aged                0.4105      0.010     42.003      0.000       0.391       0.430\n",
       "vehipc              0.5491      1.185      0.464      0.643      -1.784       2.882\n",
       "===================================================================================\n",
       "\n",
       "Notes:\n",
       "[1] Standard Errors assume that the covariance matrix of the errors is correctly specified.\n",
       "[2] The condition number is large, 2.02e+03. This might indicate that there are\n",
       "strong multicollinearity or other numerical problems.\n",
       "\"\"\""
      ]
     },
     "execution_count": 6,
     "metadata": {},
     "output_type": "execute_result"
    }
   ],
   "source": [
    "import pandas as pd\n",
    "import statsmodels.formula.api as smf\n",
    "\n",
    "Death = pd.read_csv('csv/loedata/Death.csv')\n",
    "fm = 'deathrate~drink+smoke+aged+vehipc+C(year)'\n",
    "wls = smf.wls(fm, data=Death, weights=Death.regpop).fit()\n",
    "wls.summary(slim=True)"
   ]
  },
  {
   "cell_type": "markdown",
   "id": "048d465a",
   "metadata": {},
   "source": [
    "## 예제 13.9 FGLS의 예"
   ]
  },
  {
   "cell_type": "code",
   "execution_count": 7,
   "id": "b9eadeb5",
   "metadata": {},
   "outputs": [
    {
     "data": {
      "text/html": [
       "<table class=\"simpletable\">\n",
       "<caption>WLS Regression Results</caption>\n",
       "<tr>\n",
       "  <th>Dep. Variable:</th>    <td>deathrate</td> <th>  R-squared:         </th> <td>   0.936</td> \n",
       "</tr>\n",
       "<tr>\n",
       "  <th>Model:</th>               <td>WLS</td>    <th>  Adj. R-squared:    </th> <td>   0.934</td> \n",
       "</tr>\n",
       "<tr>\n",
       "  <th>No. Observations:</th>  <td>   258</td>   <th>  F-statistic:       </th> <td>   608.2</td> \n",
       "</tr>\n",
       "<tr>\n",
       "  <th>Covariance Type:</th>  <td>nonrobust</td> <th>  Prob (F-statistic):</th> <td>2.13e-146</td>\n",
       "</tr>\n",
       "</table>\n",
       "<table class=\"simpletable\">\n",
       "<tr>\n",
       "         <td></td>            <th>coef</th>     <th>std err</th>      <th>t</th>      <th>P>|t|</th>  <th>[0.025</th>    <th>0.975]</th>  \n",
       "</tr>\n",
       "<tr>\n",
       "  <th>Intercept</th>       <td>   -0.2457</td> <td>    0.773</td> <td>   -0.318</td> <td> 0.751</td> <td>   -1.769</td> <td>    1.278</td>\n",
       "</tr>\n",
       "<tr>\n",
       "  <th>C(year)[T.2009]</th> <td>   -0.3521</td> <td>    0.090</td> <td>   -3.914</td> <td> 0.000</td> <td>   -0.529</td> <td>   -0.175</td>\n",
       "</tr>\n",
       "<tr>\n",
       "  <th>C(year)[T.2010]</th> <td>   -0.2974</td> <td>    0.097</td> <td>   -3.056</td> <td> 0.002</td> <td>   -0.489</td> <td>   -0.106</td>\n",
       "</tr>\n",
       "<tr>\n",
       "  <th>drink</th>           <td>    0.0087</td> <td>    0.011</td> <td>    0.817</td> <td> 0.414</td> <td>   -0.012</td> <td>    0.030</td>\n",
       "</tr>\n",
       "<tr>\n",
       "  <th>smoke</th>           <td>    0.0363</td> <td>    0.017</td> <td>    2.187</td> <td> 0.030</td> <td>    0.004</td> <td>    0.069</td>\n",
       "</tr>\n",
       "<tr>\n",
       "  <th>aged</th>            <td>    0.4050</td> <td>    0.010</td> <td>   40.215</td> <td> 0.000</td> <td>    0.385</td> <td>    0.425</td>\n",
       "</tr>\n",
       "<tr>\n",
       "  <th>vehipc</th>          <td>    0.7946</td> <td>    1.113</td> <td>    0.714</td> <td> 0.476</td> <td>   -1.397</td> <td>    2.987</td>\n",
       "</tr>\n",
       "</table><br/><br/>Notes:<br/>[1] Standard Errors assume that the covariance matrix of the errors is correctly specified.<br/>[2] The condition number is large, 1.99e+03. This might indicate that there are<br/>strong multicollinearity or other numerical problems."
      ],
      "text/latex": [
       "\\begin{center}\n",
       "\\begin{tabular}{lclc}\n",
       "\\toprule\n",
       "\\textbf{Dep. Variable:}    &   deathrate   & \\textbf{  R-squared:         } &     0.936   \\\\\n",
       "\\textbf{Model:}            &      WLS      & \\textbf{  Adj. R-squared:    } &     0.934   \\\\\n",
       "\\textbf{No. Observations:} &        258    & \\textbf{  F-statistic:       } &     608.2   \\\\\n",
       "\\textbf{Covariance Type:}  &   nonrobust   & \\textbf{  Prob (F-statistic):} & 2.13e-146   \\\\\n",
       "\\bottomrule\n",
       "\\end{tabular}\n",
       "\\begin{tabular}{lcccccc}\n",
       "                         & \\textbf{coef} & \\textbf{std err} & \\textbf{t} & \\textbf{P$> |$t$|$} & \\textbf{[0.025} & \\textbf{0.975]}  \\\\\n",
       "\\midrule\n",
       "\\textbf{Intercept}       &      -0.2457  &        0.773     &    -0.318  &         0.751        &       -1.769    &        1.278     \\\\\n",
       "\\textbf{C(year)[T.2009]} &      -0.3521  &        0.090     &    -3.914  &         0.000        &       -0.529    &       -0.175     \\\\\n",
       "\\textbf{C(year)[T.2010]} &      -0.2974  &        0.097     &    -3.056  &         0.002        &       -0.489    &       -0.106     \\\\\n",
       "\\textbf{drink}           &       0.0087  &        0.011     &     0.817  &         0.414        &       -0.012    &        0.030     \\\\\n",
       "\\textbf{smoke}           &       0.0363  &        0.017     &     2.187  &         0.030        &        0.004    &        0.069     \\\\\n",
       "\\textbf{aged}            &       0.4050  &        0.010     &    40.215  &         0.000        &        0.385    &        0.425     \\\\\n",
       "\\textbf{vehipc}          &       0.7946  &        1.113     &     0.714  &         0.476        &       -1.397    &        2.987     \\\\\n",
       "\\bottomrule\n",
       "\\end{tabular}\n",
       "%\\caption{WLS Regression Results}\n",
       "\\end{center}\n",
       "\n",
       "Notes: \\newline\n",
       " [1] Standard Errors assume that the covariance matrix of the errors is correctly specified. \\newline\n",
       " [2] The condition number is large, 1.99e+03. This might indicate that there are \\newline\n",
       " strong multicollinearity or other numerical problems."
      ],
      "text/plain": [
       "<class 'statsmodels.iolib.summary.Summary'>\n",
       "\"\"\"\n",
       "                            WLS Regression Results                            \n",
       "==============================================================================\n",
       "Dep. Variable:              deathrate   R-squared:                       0.936\n",
       "Model:                            WLS   Adj. R-squared:                  0.934\n",
       "No. Observations:                 258   F-statistic:                     608.2\n",
       "Covariance Type:            nonrobust   Prob (F-statistic):          2.13e-146\n",
       "===================================================================================\n",
       "                      coef    std err          t      P>|t|      [0.025      0.975]\n",
       "-----------------------------------------------------------------------------------\n",
       "Intercept          -0.2457      0.773     -0.318      0.751      -1.769       1.278\n",
       "C(year)[T.2009]    -0.3521      0.090     -3.914      0.000      -0.529      -0.175\n",
       "C(year)[T.2010]    -0.2974      0.097     -3.056      0.002      -0.489      -0.106\n",
       "drink               0.0087      0.011      0.817      0.414      -0.012       0.030\n",
       "smoke               0.0363      0.017      2.187      0.030       0.004       0.069\n",
       "aged                0.4050      0.010     40.215      0.000       0.385       0.425\n",
       "vehipc              0.7946      1.113      0.714      0.476      -1.397       2.987\n",
       "===================================================================================\n",
       "\n",
       "Notes:\n",
       "[1] Standard Errors assume that the covariance matrix of the errors is correctly specified.\n",
       "[2] The condition number is large, 1.99e+03. This might indicate that there are\n",
       "strong multicollinearity or other numerical problems.\n",
       "\"\"\""
      ]
     },
     "execution_count": 7,
     "metadata": {},
     "output_type": "execute_result"
    }
   ],
   "source": [
    "import statsmodels.formula.api as smf\n",
    "from numpy import log, exp\n",
    "\n",
    "# Continue\n",
    "fm = 'deathrate~drink+smoke+aged+vehipc+C(year)'\n",
    "# Step 1\n",
    "ols = smf.ols(fm, data=Death).fit()\n",
    "Death['u'] = ols.resid\n",
    "# Step 2\n",
    "fm_aux = fm.replace('deathrate', 'log(u**2)')\n",
    "aux = smf.ols(fm_aux, data=Death).fit()\n",
    "# Step 3\n",
    "h = exp(aux.fittedvalues)\n",
    "# Step 4\n",
    "fgls = smf.wls(fm, data=Death, weights=1/h).fit()\n",
    "fgls.summary(slim=True)"
   ]
  },
  {
   "cell_type": "markdown",
   "id": "d54c34e5",
   "metadata": {},
   "source": [
    "## 이분산 존재 검정"
   ]
  },
  {
   "cell_type": "code",
   "execution_count": 8,
   "id": "2fd0450c",
   "metadata": {},
   "outputs": [],
   "source": [
    "import pandas as pd\n",
    "import numpy as np\n",
    "\n",
    "# Generate data\n",
    "np.random.seed(101)\n",
    "n = 50\n",
    "x1 = np.random.normal(size=n)\n",
    "x2 = np.random.normal(size=n)\n",
    "u = [a*b for a,b in zip(x1,np.random.normal(size=n))]\n",
    "y = 1+x1-x2+u\n",
    "DF = pd.DataFrame({'y': y, 'x1': x1, 'x2': x2})"
   ]
  },
  {
   "cell_type": "code",
   "execution_count": 9,
   "id": "766ef369",
   "metadata": {},
   "outputs": [
    {
     "data": {
      "text/plain": [
       "(25.43047687088538,\n",
       " 3.00498363642047e-06,\n",
       " 24.32347601234627,\n",
       " 5.604385363360125e-08)"
      ]
     },
     "execution_count": 9,
     "metadata": {},
     "output_type": "execute_result"
    }
   ],
   "source": [
    "import statsmodels.api as sm\n",
    "from statsmodels.stats.diagnostic import het_breuschpagan as bptest\n",
    "\n",
    "uhat = sm.OLS.from_formula('y~x1+x2', data=DF).fit().resid\n",
    "bp = bptest(uhat, sm.add_constant(pd.DataFrame({\"x1\":x1, \"x1sq\":x1**2})))\n",
    "bp # (lm, lm_pvalue, fvalue, f_pvalue)"
   ]
  },
  {
   "cell_type": "markdown",
   "id": "284c085c",
   "metadata": {},
   "source": [
    "맨 앞 숫자가 LM 검정통계, 그 다음이 p값이다. 세 번째 숫자는 F 검정통계, 네 번째 숫자는 이에 해당하는 p값이다."
   ]
  },
  {
   "cell_type": "code",
   "execution_count": 10,
   "id": "d84a384e",
   "metadata": {},
   "outputs": [
    {
     "data": {
      "text/plain": [
       "25.43047687088538"
      ]
     },
     "execution_count": 10,
     "metadata": {},
     "output_type": "execute_result"
    }
   ],
   "source": [
    "DF['u2'] = uhat**2\n",
    "aux = sm.OLS.from_formula('u2~x1+I(x1**2)', data=DF).fit()\n",
    "aux.nobs*aux.rsquared"
   ]
  },
  {
   "cell_type": "markdown",
   "id": "74c2be03",
   "metadata": {},
   "source": [
    "LM 검정통계는 앞에서 구한 값과 동일하다."
   ]
  }
 ],
 "metadata": {
  "kernelspec": {
   "display_name": "Python 3 (ipykernel)",
   "language": "python",
   "name": "python3"
  },
  "language_info": {
   "codemirror_mode": {
    "name": "ipython",
    "version": 3
   },
   "file_extension": ".py",
   "mimetype": "text/x-python",
   "name": "python",
   "nbconvert_exporter": "python",
   "pygments_lexer": "ipython3",
   "version": "3.12.2"
  }
 },
 "nbformat": 4,
 "nbformat_minor": 5
}
