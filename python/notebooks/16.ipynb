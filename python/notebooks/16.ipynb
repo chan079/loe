{
 "cells": [
  {
   "cell_type": "markdown",
   "id": "93211a54",
   "metadata": {},
   "source": [
    "# 16장 도구변수 추정\n",
    "\n",
    "`statsmodels` 패키지의 경우 도구변수 추정이 복잡하고, `linearmodels` 패키지가 도구변수 추정에 간편한 인터페이스를 제공하나 `statsmodels`와의 통일성이 없다. 특히 `linearmodels`의 formula에서는 모형이 절편을 포함하면 반드시 `1`을 써 주어야 한다. 대부분의 모형에 절편이 포함되고 많은 사용자들이 절편에 관심을 갖지 않음을 고려하면 이는 상당히 비효율적이고 코딩 오류를 불러일으키는 접근방식이다. 또한 `linearmodels`의 default 표준오차는 이분산에 견고한 표준오차라는 점에도 주의하여야 한다.\n",
    "\n",
    "인터페이스에 통일성이 없다는 것은 매우 불편하고 혼란을 야기한다. 공부할 목적이 아니면 도구변수 추정(또는 『계량경제학강의』의 다른 부분)에 파이썬(python)을 사용하는 것은 추천하지 않는다. (패키지 코드를 수정하는 것은 본 실습의 목적이 아니다.)\n",
    "\n",
    "## OLS"
   ]
  },
  {
   "cell_type": "code",
   "execution_count": 1,
   "id": "94ed15bd",
   "metadata": {},
   "outputs": [
    {
     "data": {
      "text/html": [
       "<table class=\"simpletable\">\n",
       "<caption>OLS Regression Results</caption>\n",
       "<tr>\n",
       "  <th>Dep. Variable:</th>        <td>y</td>     <th>  R-squared:         </th> <td>   0.708</td>\n",
       "</tr>\n",
       "<tr>\n",
       "  <th>Model:</th>               <td>OLS</td>    <th>  Adj. R-squared:    </th> <td>   0.702</td>\n",
       "</tr>\n",
       "<tr>\n",
       "  <th>No. Observations:</th>  <td>   100</td>   <th>  F-statistic:       </th> <td>   117.4</td>\n",
       "</tr>\n",
       "<tr>\n",
       "  <th>Covariance Type:</th>  <td>nonrobust</td> <th>  Prob (F-statistic):</th> <td>1.24e-26</td>\n",
       "</tr>\n",
       "</table>\n",
       "<table class=\"simpletable\">\n",
       "<tr>\n",
       "      <td></td>         <th>coef</th>     <th>std err</th>      <th>t</th>      <th>P>|t|</th>  <th>[0.025</th>    <th>0.975]</th>  \n",
       "</tr>\n",
       "<tr>\n",
       "  <th>Intercept</th> <td>   -0.3650</td> <td>    0.820</td> <td>   -0.445</td> <td> 0.657</td> <td>   -1.992</td> <td>    1.262</td>\n",
       "</tr>\n",
       "<tr>\n",
       "  <th>x1</th>        <td>    0.4831</td> <td>    0.057</td> <td>    8.458</td> <td> 0.000</td> <td>    0.370</td> <td>    0.597</td>\n",
       "</tr>\n",
       "<tr>\n",
       "  <th>x2</th>        <td>    0.9448</td> <td>    0.064</td> <td>   14.677</td> <td> 0.000</td> <td>    0.817</td> <td>    1.073</td>\n",
       "</tr>\n",
       "</table><br/><br/>Notes:<br/>[1] Standard Errors assume that the covariance matrix of the errors is correctly specified."
      ],
      "text/latex": [
       "\\begin{center}\n",
       "\\begin{tabular}{lclc}\n",
       "\\toprule\n",
       "\\textbf{Dep. Variable:}    &       y       & \\textbf{  R-squared:         } &     0.708   \\\\\n",
       "\\textbf{Model:}            &      OLS      & \\textbf{  Adj. R-squared:    } &     0.702   \\\\\n",
       "\\textbf{No. Observations:} &        100    & \\textbf{  F-statistic:       } &     117.4   \\\\\n",
       "\\textbf{Covariance Type:}  &   nonrobust   & \\textbf{  Prob (F-statistic):} &  1.24e-26   \\\\\n",
       "\\bottomrule\n",
       "\\end{tabular}\n",
       "\\begin{tabular}{lcccccc}\n",
       "                   & \\textbf{coef} & \\textbf{std err} & \\textbf{t} & \\textbf{P$> |$t$|$} & \\textbf{[0.025} & \\textbf{0.975]}  \\\\\n",
       "\\midrule\n",
       "\\textbf{Intercept} &      -0.3650  &        0.820     &    -0.445  &         0.657        &       -1.992    &        1.262     \\\\\n",
       "\\textbf{x1}        &       0.4831  &        0.057     &     8.458  &         0.000        &        0.370    &        0.597     \\\\\n",
       "\\textbf{x2}        &       0.9448  &        0.064     &    14.677  &         0.000        &        0.817    &        1.073     \\\\\n",
       "\\bottomrule\n",
       "\\end{tabular}\n",
       "%\\caption{OLS Regression Results}\n",
       "\\end{center}\n",
       "\n",
       "Notes: \\newline\n",
       " [1] Standard Errors assume that the covariance matrix of the errors is correctly specified."
      ],
      "text/plain": [
       "<class 'statsmodels.iolib.summary.Summary'>\n",
       "\"\"\"\n",
       "                            OLS Regression Results                            \n",
       "==============================================================================\n",
       "Dep. Variable:                      y   R-squared:                       0.708\n",
       "Model:                            OLS   Adj. R-squared:                  0.702\n",
       "No. Observations:                 100   F-statistic:                     117.4\n",
       "Covariance Type:            nonrobust   Prob (F-statistic):           1.24e-26\n",
       "==============================================================================\n",
       "                 coef    std err          t      P>|t|      [0.025      0.975]\n",
       "------------------------------------------------------------------------------\n",
       "Intercept     -0.3650      0.820     -0.445      0.657      -1.992       1.262\n",
       "x1             0.4831      0.057      8.458      0.000       0.370       0.597\n",
       "x2             0.9448      0.064     14.677      0.000       0.817       1.073\n",
       "==============================================================================\n",
       "\n",
       "Notes:\n",
       "[1] Standard Errors assume that the covariance matrix of the errors is correctly specified.\n",
       "\"\"\""
      ]
     },
     "execution_count": 1,
     "metadata": {},
     "output_type": "execute_result"
    }
   ],
   "source": [
    "import pandas as pd\n",
    "import statsmodels.formula.api as smf\n",
    "\n",
    "Ivdata = pd.read_csv('csv/loedata/Ivdata.csv')\n",
    "ols = smf.ols('y~x1+x2', data=Ivdata).fit()\n",
    "ols.summary(slim=True)"
   ]
  },
  {
   "cell_type": "markdown",
   "id": "894623fa",
   "metadata": {},
   "source": [
    "## First-stage regression"
   ]
  },
  {
   "cell_type": "code",
   "execution_count": 2,
   "id": "faf4b41f",
   "metadata": {},
   "outputs": [
    {
     "data": {
      "text/html": [
       "<table class=\"simpletable\">\n",
       "<caption>OLS Regression Results</caption>\n",
       "<tr>\n",
       "  <th>Dep. Variable:</th>       <td>x2</td>     <th>  R-squared:         </th> <td>   0.295</td>\n",
       "</tr>\n",
       "<tr>\n",
       "  <th>Model:</th>               <td>OLS</td>    <th>  Adj. R-squared:    </th> <td>   0.281</td>\n",
       "</tr>\n",
       "<tr>\n",
       "  <th>No. Observations:</th>  <td>   100</td>   <th>  F-statistic:       </th> <td>   20.33</td>\n",
       "</tr>\n",
       "<tr>\n",
       "  <th>Covariance Type:</th>  <td>nonrobust</td> <th>  Prob (F-statistic):</th> <td>4.22e-08</td>\n",
       "</tr>\n",
       "</table>\n",
       "<table class=\"simpletable\">\n",
       "<tr>\n",
       "      <td></td>         <th>coef</th>     <th>std err</th>      <th>t</th>      <th>P>|t|</th>  <th>[0.025</th>    <th>0.975]</th>  \n",
       "</tr>\n",
       "<tr>\n",
       "  <th>Intercept</th> <td>    6.3374</td> <td>    0.936</td> <td>    6.769</td> <td> 0.000</td> <td>    4.479</td> <td>    8.196</td>\n",
       "</tr>\n",
       "<tr>\n",
       "  <th>x1</th>        <td>   -0.1319</td> <td>    0.079</td> <td>   -1.669</td> <td> 0.098</td> <td>   -0.289</td> <td>    0.025</td>\n",
       "</tr>\n",
       "<tr>\n",
       "  <th>z2a</th>       <td>   21.8401</td> <td>    4.044</td> <td>    5.401</td> <td> 0.000</td> <td>   13.814</td> <td>   29.866</td>\n",
       "</tr>\n",
       "</table><br/><br/>Notes:<br/>[1] Standard Errors assume that the covariance matrix of the errors is correctly specified."
      ],
      "text/latex": [
       "\\begin{center}\n",
       "\\begin{tabular}{lclc}\n",
       "\\toprule\n",
       "\\textbf{Dep. Variable:}    &       x2      & \\textbf{  R-squared:         } &     0.295   \\\\\n",
       "\\textbf{Model:}            &      OLS      & \\textbf{  Adj. R-squared:    } &     0.281   \\\\\n",
       "\\textbf{No. Observations:} &        100    & \\textbf{  F-statistic:       } &     20.33   \\\\\n",
       "\\textbf{Covariance Type:}  &   nonrobust   & \\textbf{  Prob (F-statistic):} &  4.22e-08   \\\\\n",
       "\\bottomrule\n",
       "\\end{tabular}\n",
       "\\begin{tabular}{lcccccc}\n",
       "                   & \\textbf{coef} & \\textbf{std err} & \\textbf{t} & \\textbf{P$> |$t$|$} & \\textbf{[0.025} & \\textbf{0.975]}  \\\\\n",
       "\\midrule\n",
       "\\textbf{Intercept} &       6.3374  &        0.936     &     6.769  &         0.000        &        4.479    &        8.196     \\\\\n",
       "\\textbf{x1}        &      -0.1319  &        0.079     &    -1.669  &         0.098        &       -0.289    &        0.025     \\\\\n",
       "\\textbf{z2a}       &      21.8401  &        4.044     &     5.401  &         0.000        &       13.814    &       29.866     \\\\\n",
       "\\bottomrule\n",
       "\\end{tabular}\n",
       "%\\caption{OLS Regression Results}\n",
       "\\end{center}\n",
       "\n",
       "Notes: \\newline\n",
       " [1] Standard Errors assume that the covariance matrix of the errors is correctly specified."
      ],
      "text/plain": [
       "<class 'statsmodels.iolib.summary.Summary'>\n",
       "\"\"\"\n",
       "                            OLS Regression Results                            \n",
       "==============================================================================\n",
       "Dep. Variable:                     x2   R-squared:                       0.295\n",
       "Model:                            OLS   Adj. R-squared:                  0.281\n",
       "No. Observations:                 100   F-statistic:                     20.33\n",
       "Covariance Type:            nonrobust   Prob (F-statistic):           4.22e-08\n",
       "==============================================================================\n",
       "                 coef    std err          t      P>|t|      [0.025      0.975]\n",
       "------------------------------------------------------------------------------\n",
       "Intercept      6.3374      0.936      6.769      0.000       4.479       8.196\n",
       "x1            -0.1319      0.079     -1.669      0.098      -0.289       0.025\n",
       "z2a           21.8401      4.044      5.401      0.000      13.814      29.866\n",
       "==============================================================================\n",
       "\n",
       "Notes:\n",
       "[1] Standard Errors assume that the covariance matrix of the errors is correctly specified.\n",
       "\"\"\""
      ]
     },
     "execution_count": 2,
     "metadata": {},
     "output_type": "execute_result"
    }
   ],
   "source": [
    "stage1 = smf.ols('x2~x1+z2a', data=Ivdata).fit()\n",
    "stage1.summary(slim=True)"
   ]
  },
  {
   "cell_type": "markdown",
   "id": "0694a4e2",
   "metadata": {},
   "source": [
    "## Second-stage regression"
   ]
  },
  {
   "cell_type": "code",
   "execution_count": 3,
   "id": "dd6f6212",
   "metadata": {},
   "outputs": [
    {
     "data": {
      "text/html": [
       "<table class=\"simpletable\">\n",
       "<caption>OLS Regression Results</caption>\n",
       "<tr>\n",
       "  <th>Dep. Variable:</th>        <td>y</td>     <th>  R-squared:         </th> <td>   0.138</td>\n",
       "</tr>\n",
       "<tr>\n",
       "  <th>Model:</th>               <td>OLS</td>    <th>  Adj. R-squared:    </th> <td>   0.120</td>\n",
       "</tr>\n",
       "<tr>\n",
       "  <th>No. Observations:</th>  <td>   100</td>   <th>  F-statistic:       </th> <td>   7.748</td>\n",
       "</tr>\n",
       "<tr>\n",
       "  <th>Covariance Type:</th>  <td>nonrobust</td> <th>  Prob (F-statistic):</th> <td>0.000756</td>\n",
       "</tr>\n",
       "</table>\n",
       "<table class=\"simpletable\">\n",
       "<tr>\n",
       "      <td></td>         <th>coef</th>     <th>std err</th>      <th>t</th>      <th>P>|t|</th>  <th>[0.025</th>    <th>0.975]</th>  \n",
       "</tr>\n",
       "<tr>\n",
       "  <th>Intercept</th> <td>    1.8827</td> <td>    2.250</td> <td>    0.837</td> <td> 0.405</td> <td>   -2.583</td> <td>    6.348</td>\n",
       "</tr>\n",
       "<tr>\n",
       "  <th>x1</th>        <td>    0.4169</td> <td>    0.111</td> <td>    3.760</td> <td> 0.000</td> <td>    0.197</td> <td>    0.637</td>\n",
       "</tr>\n",
       "<tr>\n",
       "  <th>x2hat</th>     <td>    0.6867</td> <td>    0.230</td> <td>    2.986</td> <td> 0.004</td> <td>    0.230</td> <td>    1.143</td>\n",
       "</tr>\n",
       "</table><br/><br/>Notes:<br/>[1] Standard Errors assume that the covariance matrix of the errors is correctly specified."
      ],
      "text/latex": [
       "\\begin{center}\n",
       "\\begin{tabular}{lclc}\n",
       "\\toprule\n",
       "\\textbf{Dep. Variable:}    &       y       & \\textbf{  R-squared:         } &     0.138   \\\\\n",
       "\\textbf{Model:}            &      OLS      & \\textbf{  Adj. R-squared:    } &     0.120   \\\\\n",
       "\\textbf{No. Observations:} &        100    & \\textbf{  F-statistic:       } &     7.748   \\\\\n",
       "\\textbf{Covariance Type:}  &   nonrobust   & \\textbf{  Prob (F-statistic):} &  0.000756   \\\\\n",
       "\\bottomrule\n",
       "\\end{tabular}\n",
       "\\begin{tabular}{lcccccc}\n",
       "                   & \\textbf{coef} & \\textbf{std err} & \\textbf{t} & \\textbf{P$> |$t$|$} & \\textbf{[0.025} & \\textbf{0.975]}  \\\\\n",
       "\\midrule\n",
       "\\textbf{Intercept} &       1.8827  &        2.250     &     0.837  &         0.405        &       -2.583    &        6.348     \\\\\n",
       "\\textbf{x1}        &       0.4169  &        0.111     &     3.760  &         0.000        &        0.197    &        0.637     \\\\\n",
       "\\textbf{x2hat}     &       0.6867  &        0.230     &     2.986  &         0.004        &        0.230    &        1.143     \\\\\n",
       "\\bottomrule\n",
       "\\end{tabular}\n",
       "%\\caption{OLS Regression Results}\n",
       "\\end{center}\n",
       "\n",
       "Notes: \\newline\n",
       " [1] Standard Errors assume that the covariance matrix of the errors is correctly specified."
      ],
      "text/plain": [
       "<class 'statsmodels.iolib.summary.Summary'>\n",
       "\"\"\"\n",
       "                            OLS Regression Results                            \n",
       "==============================================================================\n",
       "Dep. Variable:                      y   R-squared:                       0.138\n",
       "Model:                            OLS   Adj. R-squared:                  0.120\n",
       "No. Observations:                 100   F-statistic:                     7.748\n",
       "Covariance Type:            nonrobust   Prob (F-statistic):           0.000756\n",
       "==============================================================================\n",
       "                 coef    std err          t      P>|t|      [0.025      0.975]\n",
       "------------------------------------------------------------------------------\n",
       "Intercept      1.8827      2.250      0.837      0.405      -2.583       6.348\n",
       "x1             0.4169      0.111      3.760      0.000       0.197       0.637\n",
       "x2hat          0.6867      0.230      2.986      0.004       0.230       1.143\n",
       "==============================================================================\n",
       "\n",
       "Notes:\n",
       "[1] Standard Errors assume that the covariance matrix of the errors is correctly specified.\n",
       "\"\"\""
      ]
     },
     "execution_count": 3,
     "metadata": {},
     "output_type": "execute_result"
    }
   ],
   "source": [
    "Ivdata['x2hat'] = stage1.fittedvalues\n",
    "stage2 = smf.ols('y~x1+x2hat', data=Ivdata).fit()\n",
    "stage2.summary(slim=True)"
   ]
  },
  {
   "cell_type": "markdown",
   "id": "7b943aae",
   "metadata": {},
   "source": [
    "위 Second-stage regression에 보고되는 표준오차들에는 오류가 있다. 이를 보정해야 하는데, 완전수동 분산 추정이나 반자동 분산 추정은 건너뛰고 완전자동 도구변수 추정으로 넘어간다.\n",
    "\n",
    "## 완전자동 도구변수 추정"
   ]
  },
  {
   "cell_type": "code",
   "execution_count": 4,
   "id": "2fc1b69b",
   "metadata": {},
   "outputs": [
    {
     "data": {
      "text/html": [
       "<table class=\"simpletable\">\n",
       "<caption>IV-2SLS Estimation Summary</caption>\n",
       "<tr>\n",
       "  <th>Dep. Variable:</th>            <td>y</td>        <th>  R-squared:         </th> <td>0.6592</td> \n",
       "</tr>\n",
       "<tr>\n",
       "  <th>Estimator:</th>             <td>IV-2SLS</td>     <th>  Adj. R-squared:    </th> <td>0.6522</td> \n",
       "</tr>\n",
       "<tr>\n",
       "  <th>No. Observations:</th>        <td>100</td>       <th>  F-statistic:       </th> <td>40.418</td> \n",
       "</tr>\n",
       "<tr>\n",
       "  <th>Date:</th>             <td>Mon, Jun 24 2024</td> <th>  P-value (F-stat)   </th> <td>0.0000</td> \n",
       "</tr>\n",
       "<tr>\n",
       "  <th>Time:</th>                 <td>08:43:16</td>     <th>  Distribution:      </th> <td>chi2(2)</td>\n",
       "</tr>\n",
       "<tr>\n",
       "  <th>Cov. Estimator:</th>      <td>unadjusted</td>    <th>                     </th>    <td></td>    \n",
       "</tr>\n",
       "<tr>\n",
       "  <th></th>                          <td></td>         <th>                     </th>    <td></td>    \n",
       "</tr>\n",
       "</table>\n",
       "<table class=\"simpletable\">\n",
       "<caption>Parameter Estimates</caption>\n",
       "<tr>\n",
       "      <td></td>      <th>Parameter</th> <th>Std. Err.</th> <th>T-stat</th> <th>P-value</th> <th>Lower CI</th> <th>Upper CI</th>\n",
       "</tr>\n",
       "<tr>\n",
       "  <th>Intercept</th>  <td>1.8827</td>    <td>1.3932</td>   <td>1.3513</td> <td>0.1766</td>   <td>-0.8479</td>  <td>4.6132</td> \n",
       "</tr>\n",
       "<tr>\n",
       "  <th>x1</th>         <td>0.4169</td>    <td>0.0687</td>   <td>6.0725</td> <td>0.0000</td>   <td>0.2824</td>   <td>0.5515</td> \n",
       "</tr>\n",
       "<tr>\n",
       "  <th>x2</th>         <td>0.6867</td>    <td>0.1424</td>   <td>4.8229</td> <td>0.0000</td>   <td>0.4076</td>   <td>0.9657</td> \n",
       "</tr>\n",
       "</table><br/><br/>Endogenous: x2<br/>Instruments: z2a<br/>Unadjusted Covariance (Homoskedastic)<br/>Debiased: False<br/>id: 0x12a633710"
      ],
      "text/plain": [
       "                          IV-2SLS Estimation Summary                          \n",
       "==============================================================================\n",
       "Dep. Variable:                      y   R-squared:                      0.6592\n",
       "Estimator:                    IV-2SLS   Adj. R-squared:                 0.6522\n",
       "No. Observations:                 100   F-statistic:                    40.418\n",
       "Date:                Mon, Jun 24 2024   P-value (F-stat)                0.0000\n",
       "Time:                        08:43:16   Distribution:                  chi2(2)\n",
       "Cov. Estimator:            unadjusted                                         \n",
       "                                                                              \n",
       "                             Parameter Estimates                              \n",
       "==============================================================================\n",
       "            Parameter  Std. Err.     T-stat    P-value    Lower CI    Upper CI\n",
       "------------------------------------------------------------------------------\n",
       "Intercept      1.8827     1.3932     1.3513     0.1766     -0.8479      4.6132\n",
       "x1             0.4169     0.0687     6.0725     0.0000      0.2824      0.5515\n",
       "x2             0.6867     0.1424     4.8229     0.0000      0.4076      0.9657\n",
       "==============================================================================\n",
       "\n",
       "Endogenous: x2\n",
       "Instruments: z2a\n",
       "Unadjusted Covariance (Homoskedastic)\n",
       "Debiased: False\n",
       "IVResults, id: 0x12a633710"
      ]
     },
     "execution_count": 4,
     "metadata": {},
     "output_type": "execute_result"
    }
   ],
   "source": [
    "# pip install linearmodels\n",
    "from linearmodels import IV2SLS\n",
    "\n",
    "ivfm = 'y~1+x1+[x2~z2a]' # need constant (1) explicitly\n",
    "ivmodel = IV2SLS.from_formula(ivfm, data=Ivdata)\n",
    "tsls = ivmodel.fit(cov_type='unadjusted')\n",
    "tsls"
   ]
  },
  {
   "cell_type": "markdown",
   "id": "726454a9",
   "metadata": {},
   "source": [
    "표준오차가 책과 약간 다른데, 오차분산을 추정할 때 $n-k-1$이 아니라 $n$으로 나누었기 때문이다. $n-k-1$로 나누는 옵션은 보이지 않는다(`help(IV2SLS.fit)` 참고). HC0 유형 표준오차는 다음과 같이 구한다."
   ]
  },
  {
   "cell_type": "code",
   "execution_count": 5,
   "id": "5e0b8f8e",
   "metadata": {},
   "outputs": [
    {
     "data": {
      "text/html": [
       "<table class=\"simpletable\">\n",
       "<caption>IV-2SLS Estimation Summary</caption>\n",
       "<tr>\n",
       "  <th>Dep. Variable:</th>            <td>y</td>        <th>  R-squared:         </th> <td>0.6592</td> \n",
       "</tr>\n",
       "<tr>\n",
       "  <th>Estimator:</th>             <td>IV-2SLS</td>     <th>  Adj. R-squared:    </th> <td>0.6522</td> \n",
       "</tr>\n",
       "<tr>\n",
       "  <th>No. Observations:</th>        <td>100</td>       <th>  F-statistic:       </th> <td>31.850</td> \n",
       "</tr>\n",
       "<tr>\n",
       "  <th>Date:</th>             <td>Mon, Jun 24 2024</td> <th>  P-value (F-stat)   </th> <td>0.0000</td> \n",
       "</tr>\n",
       "<tr>\n",
       "  <th>Time:</th>                 <td>08:43:16</td>     <th>  Distribution:      </th> <td>chi2(2)</td>\n",
       "</tr>\n",
       "<tr>\n",
       "  <th>Cov. Estimator:</th>        <td>robust</td>      <th>                     </th>    <td></td>    \n",
       "</tr>\n",
       "<tr>\n",
       "  <th></th>                          <td></td>         <th>                     </th>    <td></td>    \n",
       "</tr>\n",
       "</table>\n",
       "<table class=\"simpletable\">\n",
       "<caption>Parameter Estimates</caption>\n",
       "<tr>\n",
       "      <td></td>      <th>Parameter</th> <th>Std. Err.</th> <th>T-stat</th> <th>P-value</th> <th>Lower CI</th> <th>Upper CI</th>\n",
       "</tr>\n",
       "<tr>\n",
       "  <th>Intercept</th>  <td>1.8827</td>    <td>1.5194</td>   <td>1.2391</td> <td>0.2153</td>   <td>-1.0954</td>  <td>4.8607</td> \n",
       "</tr>\n",
       "<tr>\n",
       "  <th>x1</th>         <td>0.4169</td>    <td>0.0815</td>   <td>5.1142</td> <td>0.0000</td>   <td>0.2571</td>   <td>0.5767</td> \n",
       "</tr>\n",
       "<tr>\n",
       "  <th>x2</th>         <td>0.6867</td>    <td>0.1299</td>   <td>5.2860</td> <td>0.0000</td>   <td>0.4321</td>   <td>0.9413</td> \n",
       "</tr>\n",
       "</table><br/><br/>Endogenous: x2<br/>Instruments: z2a<br/>Robust Covariance (Heteroskedastic)<br/>Debiased: False<br/>id: 0x12a69c8f0"
      ],
      "text/plain": [
       "                          IV-2SLS Estimation Summary                          \n",
       "==============================================================================\n",
       "Dep. Variable:                      y   R-squared:                      0.6592\n",
       "Estimator:                    IV-2SLS   Adj. R-squared:                 0.6522\n",
       "No. Observations:                 100   F-statistic:                    31.850\n",
       "Date:                Mon, Jun 24 2024   P-value (F-stat)                0.0000\n",
       "Time:                        08:43:16   Distribution:                  chi2(2)\n",
       "Cov. Estimator:                robust                                         \n",
       "                                                                              \n",
       "                             Parameter Estimates                              \n",
       "==============================================================================\n",
       "            Parameter  Std. Err.     T-stat    P-value    Lower CI    Upper CI\n",
       "------------------------------------------------------------------------------\n",
       "Intercept      1.8827     1.5194     1.2391     0.2153     -1.0954      4.8607\n",
       "x1             0.4169     0.0815     5.1142     0.0000      0.2571      0.5767\n",
       "x2             0.6867     0.1299     5.2860     0.0000      0.4321      0.9413\n",
       "==============================================================================\n",
       "\n",
       "Endogenous: x2\n",
       "Instruments: z2a\n",
       "Robust Covariance (Heteroskedastic)\n",
       "Debiased: False\n",
       "IVResults, id: 0x12a69c8f0"
      ]
     },
     "execution_count": 5,
     "metadata": {},
     "output_type": "execute_result"
    }
   ],
   "source": [
    "tslsh = ivmodel.fit(cov_type='robust')\n",
    "tslsh"
   ]
  },
  {
   "cell_type": "markdown",
   "id": "8fb2213f",
   "metadata": {},
   "source": [
    "## First-stage test"
   ]
  },
  {
   "cell_type": "code",
   "execution_count": 6,
   "id": "8ddacb0d",
   "metadata": {},
   "outputs": [
    {
     "data": {
      "text/html": [
       "<table class=\"simpletable\">\n",
       "<caption>OLS Regression Results</caption>\n",
       "<tr>\n",
       "  <th>Dep. Variable:</th>       <td>x2</td>     <th>  R-squared:         </th> <td>   0.295</td>\n",
       "</tr>\n",
       "<tr>\n",
       "  <th>Model:</th>               <td>OLS</td>    <th>  Adj. R-squared:    </th> <td>   0.281</td>\n",
       "</tr>\n",
       "<tr>\n",
       "  <th>No. Observations:</th>  <td>   100</td>   <th>  F-statistic:       </th> <td>   20.33</td>\n",
       "</tr>\n",
       "<tr>\n",
       "  <th>Covariance Type:</th>  <td>nonrobust</td> <th>  Prob (F-statistic):</th> <td>4.22e-08</td>\n",
       "</tr>\n",
       "</table>\n",
       "<table class=\"simpletable\">\n",
       "<tr>\n",
       "      <td></td>         <th>coef</th>     <th>std err</th>      <th>t</th>      <th>P>|t|</th>  <th>[0.025</th>    <th>0.975]</th>  \n",
       "</tr>\n",
       "<tr>\n",
       "  <th>Intercept</th> <td>    6.3374</td> <td>    0.936</td> <td>    6.769</td> <td> 0.000</td> <td>    4.479</td> <td>    8.196</td>\n",
       "</tr>\n",
       "<tr>\n",
       "  <th>x1</th>        <td>   -0.1319</td> <td>    0.079</td> <td>   -1.669</td> <td> 0.098</td> <td>   -0.289</td> <td>    0.025</td>\n",
       "</tr>\n",
       "<tr>\n",
       "  <th>z2a</th>       <td>   21.8401</td> <td>    4.044</td> <td>    5.401</td> <td> 0.000</td> <td>   13.814</td> <td>   29.866</td>\n",
       "</tr>\n",
       "</table><br/><br/>Notes:<br/>[1] Standard Errors assume that the covariance matrix of the errors is correctly specified."
      ],
      "text/latex": [
       "\\begin{center}\n",
       "\\begin{tabular}{lclc}\n",
       "\\toprule\n",
       "\\textbf{Dep. Variable:}    &       x2      & \\textbf{  R-squared:         } &     0.295   \\\\\n",
       "\\textbf{Model:}            &      OLS      & \\textbf{  Adj. R-squared:    } &     0.281   \\\\\n",
       "\\textbf{No. Observations:} &        100    & \\textbf{  F-statistic:       } &     20.33   \\\\\n",
       "\\textbf{Covariance Type:}  &   nonrobust   & \\textbf{  Prob (F-statistic):} &  4.22e-08   \\\\\n",
       "\\bottomrule\n",
       "\\end{tabular}\n",
       "\\begin{tabular}{lcccccc}\n",
       "                   & \\textbf{coef} & \\textbf{std err} & \\textbf{t} & \\textbf{P$> |$t$|$} & \\textbf{[0.025} & \\textbf{0.975]}  \\\\\n",
       "\\midrule\n",
       "\\textbf{Intercept} &       6.3374  &        0.936     &     6.769  &         0.000        &        4.479    &        8.196     \\\\\n",
       "\\textbf{x1}        &      -0.1319  &        0.079     &    -1.669  &         0.098        &       -0.289    &        0.025     \\\\\n",
       "\\textbf{z2a}       &      21.8401  &        4.044     &     5.401  &         0.000        &       13.814    &       29.866     \\\\\n",
       "\\bottomrule\n",
       "\\end{tabular}\n",
       "%\\caption{OLS Regression Results}\n",
       "\\end{center}\n",
       "\n",
       "Notes: \\newline\n",
       " [1] Standard Errors assume that the covariance matrix of the errors is correctly specified."
      ],
      "text/plain": [
       "<class 'statsmodels.iolib.summary.Summary'>\n",
       "\"\"\"\n",
       "                            OLS Regression Results                            \n",
       "==============================================================================\n",
       "Dep. Variable:                     x2   R-squared:                       0.295\n",
       "Model:                            OLS   Adj. R-squared:                  0.281\n",
       "No. Observations:                 100   F-statistic:                     20.33\n",
       "Covariance Type:            nonrobust   Prob (F-statistic):           4.22e-08\n",
       "==============================================================================\n",
       "                 coef    std err          t      P>|t|      [0.025      0.975]\n",
       "------------------------------------------------------------------------------\n",
       "Intercept      6.3374      0.936      6.769      0.000       4.479       8.196\n",
       "x1            -0.1319      0.079     -1.669      0.098      -0.289       0.025\n",
       "z2a           21.8401      4.044      5.401      0.000      13.814      29.866\n",
       "==============================================================================\n",
       "\n",
       "Notes:\n",
       "[1] Standard Errors assume that the covariance matrix of the errors is correctly specified.\n",
       "\"\"\""
      ]
     },
     "execution_count": 6,
     "metadata": {},
     "output_type": "execute_result"
    }
   ],
   "source": [
    "smf.ols('x2~x1+z2a', data=Ivdata).fit().summary(slim=True)"
   ]
  },
  {
   "cell_type": "code",
   "execution_count": 7,
   "id": "14800a0a",
   "metadata": {},
   "outputs": [
    {
     "data": {
      "text/html": [
       "<table class=\"simpletable\">\n",
       "<caption>OLS Regression Results</caption>\n",
       "<tr>\n",
       "  <th>Dep. Variable:</th>      <td>x2</td>   <th>  R-squared:         </th> <td>   0.295</td>\n",
       "</tr>\n",
       "<tr>\n",
       "  <th>Model:</th>              <td>OLS</td>  <th>  Adj. R-squared:    </th> <td>   0.281</td>\n",
       "</tr>\n",
       "<tr>\n",
       "  <th>No. Observations:</th> <td>   100</td> <th>  F-statistic:       </th> <td>   17.75</td>\n",
       "</tr>\n",
       "<tr>\n",
       "  <th>Covariance Type:</th>    <td>HC3</td>  <th>  Prob (F-statistic):</th> <td>2.69e-07</td>\n",
       "</tr>\n",
       "</table>\n",
       "<table class=\"simpletable\">\n",
       "<tr>\n",
       "      <td></td>         <th>coef</th>     <th>std err</th>      <th>z</th>      <th>P>|z|</th>  <th>[0.025</th>    <th>0.975]</th>  \n",
       "</tr>\n",
       "<tr>\n",
       "  <th>Intercept</th> <td>    6.3374</td> <td>    1.061</td> <td>    5.972</td> <td> 0.000</td> <td>    4.258</td> <td>    8.417</td>\n",
       "</tr>\n",
       "<tr>\n",
       "  <th>x1</th>        <td>   -0.1319</td> <td>    0.088</td> <td>   -1.491</td> <td> 0.136</td> <td>   -0.305</td> <td>    0.042</td>\n",
       "</tr>\n",
       "<tr>\n",
       "  <th>z2a</th>       <td>   21.8401</td> <td>    4.389</td> <td>    4.976</td> <td> 0.000</td> <td>   13.238</td> <td>   30.442</td>\n",
       "</tr>\n",
       "</table><br/><br/>Notes:<br/>[1] Standard Errors are heteroscedasticity robust (HC3)"
      ],
      "text/latex": [
       "\\begin{center}\n",
       "\\begin{tabular}{lclc}\n",
       "\\toprule\n",
       "\\textbf{Dep. Variable:}    &       x2      & \\textbf{  R-squared:         } &     0.295   \\\\\n",
       "\\textbf{Model:}            &      OLS      & \\textbf{  Adj. R-squared:    } &     0.281   \\\\\n",
       "\\textbf{No. Observations:} &        100    & \\textbf{  F-statistic:       } &     17.75   \\\\\n",
       "\\textbf{Covariance Type:}  &      HC3      & \\textbf{  Prob (F-statistic):} &  2.69e-07   \\\\\n",
       "\\bottomrule\n",
       "\\end{tabular}\n",
       "\\begin{tabular}{lcccccc}\n",
       "                   & \\textbf{coef} & \\textbf{std err} & \\textbf{z} & \\textbf{P$> |$z$|$} & \\textbf{[0.025} & \\textbf{0.975]}  \\\\\n",
       "\\midrule\n",
       "\\textbf{Intercept} &       6.3374  &        1.061     &     5.972  &         0.000        &        4.258    &        8.417     \\\\\n",
       "\\textbf{x1}        &      -0.1319  &        0.088     &    -1.491  &         0.136        &       -0.305    &        0.042     \\\\\n",
       "\\textbf{z2a}       &      21.8401  &        4.389     &     4.976  &         0.000        &       13.238    &       30.442     \\\\\n",
       "\\bottomrule\n",
       "\\end{tabular}\n",
       "%\\caption{OLS Regression Results}\n",
       "\\end{center}\n",
       "\n",
       "Notes: \\newline\n",
       " [1] Standard Errors are heteroscedasticity robust (HC3)"
      ],
      "text/plain": [
       "<class 'statsmodels.iolib.summary.Summary'>\n",
       "\"\"\"\n",
       "                            OLS Regression Results                            \n",
       "==============================================================================\n",
       "Dep. Variable:                     x2   R-squared:                       0.295\n",
       "Model:                            OLS   Adj. R-squared:                  0.281\n",
       "No. Observations:                 100   F-statistic:                     17.75\n",
       "Covariance Type:                  HC3   Prob (F-statistic):           2.69e-07\n",
       "==============================================================================\n",
       "                 coef    std err          z      P>|z|      [0.025      0.975]\n",
       "------------------------------------------------------------------------------\n",
       "Intercept      6.3374      1.061      5.972      0.000       4.258       8.417\n",
       "x1            -0.1319      0.088     -1.491      0.136      -0.305       0.042\n",
       "z2a           21.8401      4.389      4.976      0.000      13.238      30.442\n",
       "==============================================================================\n",
       "\n",
       "Notes:\n",
       "[1] Standard Errors are heteroscedasticity robust (HC3)\n",
       "\"\"\""
      ]
     },
     "execution_count": 7,
     "metadata": {},
     "output_type": "execute_result"
    }
   ],
   "source": [
    "smf.ols('x2~x1+z2a', data=Ivdata).fit(cov_type=\"HC3\").summary(slim=True)"
   ]
  },
  {
   "cell_type": "code",
   "execution_count": 8,
   "id": "d36d6964",
   "metadata": {},
   "outputs": [
    {
     "data": {
      "text/plain": [
       "<class 'statsmodels.stats.contrast.ContrastResults'>\n",
       "<F test: F=14.539152594855231, p=3.049887117946441e-06, df_denom=96, df_num=2>"
      ]
     },
     "execution_count": 8,
     "metadata": {},
     "output_type": "execute_result"
    }
   ],
   "source": [
    "stage1a = smf.ols('x2~x1+z2a+z2b', data=Ivdata).fit()\n",
    "stage1a.f_test('z2a=0,z2b=0')"
   ]
  },
  {
   "cell_type": "markdown",
   "id": "81b6ad9f",
   "metadata": {},
   "source": [
    "## 설명변수 외생성의 검정"
   ]
  },
  {
   "cell_type": "code",
   "execution_count": 9,
   "id": "9d25b493",
   "metadata": {},
   "outputs": [
    {
     "data": {
      "text/html": [
       "<table class=\"simpletable\">\n",
       "<caption>OLS Regression Results</caption>\n",
       "<tr>\n",
       "  <th>Dep. Variable:</th>        <td>y</td>     <th>  R-squared:         </th> <td>   0.722</td>\n",
       "</tr>\n",
       "<tr>\n",
       "  <th>Model:</th>               <td>OLS</td>    <th>  Adj. R-squared:    </th> <td>   0.714</td>\n",
       "</tr>\n",
       "<tr>\n",
       "  <th>No. Observations:</th>  <td>   100</td>   <th>  F-statistic:       </th> <td>   83.21</td>\n",
       "</tr>\n",
       "<tr>\n",
       "  <th>Covariance Type:</th>  <td>nonrobust</td> <th>  Prob (F-statistic):</th> <td>1.33e-26</td>\n",
       "</tr>\n",
       "</table>\n",
       "<table class=\"simpletable\">\n",
       "<tr>\n",
       "      <td></td>         <th>coef</th>     <th>std err</th>      <th>t</th>      <th>P>|t|</th>  <th>[0.025</th>    <th>0.975]</th>  \n",
       "</tr>\n",
       "<tr>\n",
       "  <th>Intercept</th> <td>    1.8827</td> <td>    1.284</td> <td>    1.467</td> <td> 0.146</td> <td>   -0.665</td> <td>    4.431</td>\n",
       "</tr>\n",
       "<tr>\n",
       "  <th>x1</th>        <td>    0.4169</td> <td>    0.063</td> <td>    6.591</td> <td> 0.000</td> <td>    0.291</td> <td>    0.543</td>\n",
       "</tr>\n",
       "<tr>\n",
       "  <th>x2</th>        <td>    0.6867</td> <td>    0.131</td> <td>    5.234</td> <td> 0.000</td> <td>    0.426</td> <td>    0.947</td>\n",
       "</tr>\n",
       "<tr>\n",
       "  <th>v2hat</th>     <td>    0.3358</td> <td>    0.150</td> <td>    2.245</td> <td> 0.027</td> <td>    0.039</td> <td>    0.633</td>\n",
       "</tr>\n",
       "</table><br/><br/>Notes:<br/>[1] Standard Errors assume that the covariance matrix of the errors is correctly specified."
      ],
      "text/latex": [
       "\\begin{center}\n",
       "\\begin{tabular}{lclc}\n",
       "\\toprule\n",
       "\\textbf{Dep. Variable:}    &       y       & \\textbf{  R-squared:         } &     0.722   \\\\\n",
       "\\textbf{Model:}            &      OLS      & \\textbf{  Adj. R-squared:    } &     0.714   \\\\\n",
       "\\textbf{No. Observations:} &        100    & \\textbf{  F-statistic:       } &     83.21   \\\\\n",
       "\\textbf{Covariance Type:}  &   nonrobust   & \\textbf{  Prob (F-statistic):} &  1.33e-26   \\\\\n",
       "\\bottomrule\n",
       "\\end{tabular}\n",
       "\\begin{tabular}{lcccccc}\n",
       "                   & \\textbf{coef} & \\textbf{std err} & \\textbf{t} & \\textbf{P$> |$t$|$} & \\textbf{[0.025} & \\textbf{0.975]}  \\\\\n",
       "\\midrule\n",
       "\\textbf{Intercept} &       1.8827  &        1.284     &     1.467  &         0.146        &       -0.665    &        4.431     \\\\\n",
       "\\textbf{x1}        &       0.4169  &        0.063     &     6.591  &         0.000        &        0.291    &        0.543     \\\\\n",
       "\\textbf{x2}        &       0.6867  &        0.131     &     5.234  &         0.000        &        0.426    &        0.947     \\\\\n",
       "\\textbf{v2hat}     &       0.3358  &        0.150     &     2.245  &         0.027        &        0.039    &        0.633     \\\\\n",
       "\\bottomrule\n",
       "\\end{tabular}\n",
       "%\\caption{OLS Regression Results}\n",
       "\\end{center}\n",
       "\n",
       "Notes: \\newline\n",
       " [1] Standard Errors assume that the covariance matrix of the errors is correctly specified."
      ],
      "text/plain": [
       "<class 'statsmodels.iolib.summary.Summary'>\n",
       "\"\"\"\n",
       "                            OLS Regression Results                            \n",
       "==============================================================================\n",
       "Dep. Variable:                      y   R-squared:                       0.722\n",
       "Model:                            OLS   Adj. R-squared:                  0.714\n",
       "No. Observations:                 100   F-statistic:                     83.21\n",
       "Covariance Type:            nonrobust   Prob (F-statistic):           1.33e-26\n",
       "==============================================================================\n",
       "                 coef    std err          t      P>|t|      [0.025      0.975]\n",
       "------------------------------------------------------------------------------\n",
       "Intercept      1.8827      1.284      1.467      0.146      -0.665       4.431\n",
       "x1             0.4169      0.063      6.591      0.000       0.291       0.543\n",
       "x2             0.6867      0.131      5.234      0.000       0.426       0.947\n",
       "v2hat          0.3358      0.150      2.245      0.027       0.039       0.633\n",
       "==============================================================================\n",
       "\n",
       "Notes:\n",
       "[1] Standard Errors assume that the covariance matrix of the errors is correctly specified.\n",
       "\"\"\""
      ]
     },
     "execution_count": 9,
     "metadata": {},
     "output_type": "execute_result"
    }
   ],
   "source": [
    "Ivdata['v2hat'] = stage1.resid\n",
    "smf.ols('y~x1+x2+v2hat', data=Ivdata).fit().summary(slim=True)"
   ]
  },
  {
   "cell_type": "markdown",
   "id": "261c8787",
   "metadata": {},
   "source": [
    "## 도구변수 외생성의 검정"
   ]
  },
  {
   "cell_type": "code",
   "execution_count": 10,
   "id": "c30527c0",
   "metadata": {},
   "outputs": [
    {
     "data": {
      "text/plain": [
       "Sargan's test of overidentification\n",
       "H0: The model is not overidentified.\n",
       "Statistic: 0.3355\n",
       "P-value: 0.5624\n",
       "Distributed: chi2(1)\n",
       "WaldTestStatistic, id: 0x12a657f50"
      ]
     },
     "execution_count": 10,
     "metadata": {},
     "output_type": "execute_result"
    }
   ],
   "source": [
    "tsls = IV2SLS.from_formula('y~1+x1+[x2~z2a+z2b]', data=Ivdata).fit(cov_type='unadjusted') # see above for ivmodel\n",
    "tsls.sargan"
   ]
  },
  {
   "cell_type": "markdown",
   "id": "1cdf82d2",
   "metadata": {},
   "source": [
    "linearmodels를 사용하려면 회귀식에 상수항(1)을 명시적으로 표시해 주어야 함에 유의하여야 한다."
   ]
  },
  {
   "cell_type": "markdown",
   "id": "736834fc",
   "metadata": {},
   "source": [
    "## 예제: 교육수익률"
   ]
  },
  {
   "cell_type": "code",
   "execution_count": 11,
   "id": "68ef0b46",
   "metadata": {},
   "outputs": [],
   "source": [
    "import pandas as pd\n",
    "import statsmodels.formula.api as smf\n",
    "\n",
    "Schooling = pd.read_csv('csv/Ecdat/Schooling.csv')\n",
    "\n",
    "fm = 'lwage76~ed76+exp76+smsa76'"
   ]
  },
  {
   "cell_type": "markdown",
   "id": "80edef80",
   "metadata": {},
   "source": [
    "### OLS 추정"
   ]
  },
  {
   "cell_type": "code",
   "execution_count": 12,
   "id": "aec5f8e0",
   "metadata": {},
   "outputs": [
    {
     "data": {
      "text/html": [
       "<table class=\"simpletable\">\n",
       "<caption>OLS Regression Results</caption>\n",
       "<tr>\n",
       "  <th>Dep. Variable:</th>     <td>lwage76</td>  <th>  R-squared:         </th> <td>   0.215</td> \n",
       "</tr>\n",
       "<tr>\n",
       "  <th>Model:</th>               <td>OLS</td>    <th>  Adj. R-squared:    </th> <td>   0.214</td> \n",
       "</tr>\n",
       "<tr>\n",
       "  <th>No. Observations:</th>  <td>  3010</td>   <th>  F-statistic:       </th> <td>   274.7</td> \n",
       "</tr>\n",
       "<tr>\n",
       "  <th>Covariance Type:</th>  <td>nonrobust</td> <th>  Prob (F-statistic):</th> <td>1.43e-157</td>\n",
       "</tr>\n",
       "</table>\n",
       "<table class=\"simpletable\">\n",
       "<tr>\n",
       "        <td></td>           <th>coef</th>     <th>std err</th>      <th>t</th>      <th>P>|t|</th>  <th>[0.025</th>    <th>0.975]</th>  \n",
       "</tr>\n",
       "<tr>\n",
       "  <th>Intercept</th>     <td>    4.6020</td> <td>    0.063</td> <td>   73.373</td> <td> 0.000</td> <td>    4.479</td> <td>    4.725</td>\n",
       "</tr>\n",
       "<tr>\n",
       "  <th>smsa76[T.yes]</th> <td>    0.1837</td> <td>    0.016</td> <td>   11.386</td> <td> 0.000</td> <td>    0.152</td> <td>    0.215</td>\n",
       "</tr>\n",
       "<tr>\n",
       "  <th>ed76</th>          <td>    0.0878</td> <td>    0.004</td> <td>   24.610</td> <td> 0.000</td> <td>    0.081</td> <td>    0.095</td>\n",
       "</tr>\n",
       "<tr>\n",
       "  <th>exp76</th>         <td>    0.0411</td> <td>    0.002</td> <td>   17.985</td> <td> 0.000</td> <td>    0.037</td> <td>    0.046</td>\n",
       "</tr>\n",
       "</table><br/><br/>Notes:<br/>[1] Standard Errors assume that the covariance matrix of the errors is correctly specified."
      ],
      "text/latex": [
       "\\begin{center}\n",
       "\\begin{tabular}{lclc}\n",
       "\\toprule\n",
       "\\textbf{Dep. Variable:}    &    lwage76    & \\textbf{  R-squared:         } &     0.215   \\\\\n",
       "\\textbf{Model:}            &      OLS      & \\textbf{  Adj. R-squared:    } &     0.214   \\\\\n",
       "\\textbf{No. Observations:} &       3010    & \\textbf{  F-statistic:       } &     274.7   \\\\\n",
       "\\textbf{Covariance Type:}  &   nonrobust   & \\textbf{  Prob (F-statistic):} & 1.43e-157   \\\\\n",
       "\\bottomrule\n",
       "\\end{tabular}\n",
       "\\begin{tabular}{lcccccc}\n",
       "                       & \\textbf{coef} & \\textbf{std err} & \\textbf{t} & \\textbf{P$> |$t$|$} & \\textbf{[0.025} & \\textbf{0.975]}  \\\\\n",
       "\\midrule\n",
       "\\textbf{Intercept}     &       4.6020  &        0.063     &    73.373  &         0.000        &        4.479    &        4.725     \\\\\n",
       "\\textbf{smsa76[T.yes]} &       0.1837  &        0.016     &    11.386  &         0.000        &        0.152    &        0.215     \\\\\n",
       "\\textbf{ed76}          &       0.0878  &        0.004     &    24.610  &         0.000        &        0.081    &        0.095     \\\\\n",
       "\\textbf{exp76}         &       0.0411  &        0.002     &    17.985  &         0.000        &        0.037    &        0.046     \\\\\n",
       "\\bottomrule\n",
       "\\end{tabular}\n",
       "%\\caption{OLS Regression Results}\n",
       "\\end{center}\n",
       "\n",
       "Notes: \\newline\n",
       " [1] Standard Errors assume that the covariance matrix of the errors is correctly specified."
      ],
      "text/plain": [
       "<class 'statsmodels.iolib.summary.Summary'>\n",
       "\"\"\"\n",
       "                            OLS Regression Results                            \n",
       "==============================================================================\n",
       "Dep. Variable:                lwage76   R-squared:                       0.215\n",
       "Model:                            OLS   Adj. R-squared:                  0.214\n",
       "No. Observations:                3010   F-statistic:                     274.7\n",
       "Covariance Type:            nonrobust   Prob (F-statistic):          1.43e-157\n",
       "=================================================================================\n",
       "                    coef    std err          t      P>|t|      [0.025      0.975]\n",
       "---------------------------------------------------------------------------------\n",
       "Intercept         4.6020      0.063     73.373      0.000       4.479       4.725\n",
       "smsa76[T.yes]     0.1837      0.016     11.386      0.000       0.152       0.215\n",
       "ed76              0.0878      0.004     24.610      0.000       0.081       0.095\n",
       "exp76             0.0411      0.002     17.985      0.000       0.037       0.046\n",
       "=================================================================================\n",
       "\n",
       "Notes:\n",
       "[1] Standard Errors assume that the covariance matrix of the errors is correctly specified.\n",
       "\"\"\""
      ]
     },
     "execution_count": 12,
     "metadata": {},
     "output_type": "execute_result"
    }
   ],
   "source": [
    "ols = smf.ols(fm, data=Schooling).fit()\n",
    "ols.summary(slim=True)"
   ]
  },
  {
   "cell_type": "markdown",
   "id": "06b25a74",
   "metadata": {},
   "source": [
    "### IQ를 대리변수로 사용"
   ]
  },
  {
   "cell_type": "code",
   "execution_count": 13,
   "id": "9369161c",
   "metadata": {},
   "outputs": [
    {
     "data": {
      "text/html": [
       "<table class=\"simpletable\">\n",
       "<caption>OLS Regression Results</caption>\n",
       "<tr>\n",
       "  <th>Dep. Variable:</th>     <td>lwage76</td>  <th>  R-squared:         </th> <td>   0.192</td>\n",
       "</tr>\n",
       "<tr>\n",
       "  <th>Model:</th>               <td>OLS</td>    <th>  Adj. R-squared:    </th> <td>   0.190</td>\n",
       "</tr>\n",
       "<tr>\n",
       "  <th>No. Observations:</th>  <td>  2061</td>   <th>  F-statistic:       </th> <td>   122.0</td>\n",
       "</tr>\n",
       "<tr>\n",
       "  <th>Covariance Type:</th>  <td>nonrobust</td> <th>  Prob (F-statistic):</th> <td>1.70e-93</td>\n",
       "</tr>\n",
       "</table>\n",
       "<table class=\"simpletable\">\n",
       "<tr>\n",
       "        <td></td>           <th>coef</th>     <th>std err</th>      <th>t</th>      <th>P>|t|</th>  <th>[0.025</th>    <th>0.975]</th>  \n",
       "</tr>\n",
       "<tr>\n",
       "  <th>Intercept</th>     <td>    4.4761</td> <td>    0.089</td> <td>   50.331</td> <td> 0.000</td> <td>    4.302</td> <td>    4.650</td>\n",
       "</tr>\n",
       "<tr>\n",
       "  <th>smsa76[T.yes]</th> <td>    0.1548</td> <td>    0.019</td> <td>    8.145</td> <td> 0.000</td> <td>    0.118</td> <td>    0.192</td>\n",
       "</tr>\n",
       "<tr>\n",
       "  <th>ed76</th>          <td>    0.0657</td> <td>    0.005</td> <td>   13.286</td> <td> 0.000</td> <td>    0.056</td> <td>    0.075</td>\n",
       "</tr>\n",
       "<tr>\n",
       "  <th>exp76</th>         <td>    0.0451</td> <td>    0.003</td> <td>   16.288</td> <td> 0.000</td> <td>    0.040</td> <td>    0.051</td>\n",
       "</tr>\n",
       "<tr>\n",
       "  <th>iqscore</th>       <td>    0.0044</td> <td>    0.001</td> <td>    6.972</td> <td> 0.000</td> <td>    0.003</td> <td>    0.006</td>\n",
       "</tr>\n",
       "</table><br/><br/>Notes:<br/>[1] Standard Errors assume that the covariance matrix of the errors is correctly specified.<br/>[2] The condition number is large, 1.13e+03. This might indicate that there are<br/>strong multicollinearity or other numerical problems."
      ],
      "text/latex": [
       "\\begin{center}\n",
       "\\begin{tabular}{lclc}\n",
       "\\toprule\n",
       "\\textbf{Dep. Variable:}    &    lwage76    & \\textbf{  R-squared:         } &     0.192   \\\\\n",
       "\\textbf{Model:}            &      OLS      & \\textbf{  Adj. R-squared:    } &     0.190   \\\\\n",
       "\\textbf{No. Observations:} &       2061    & \\textbf{  F-statistic:       } &     122.0   \\\\\n",
       "\\textbf{Covariance Type:}  &   nonrobust   & \\textbf{  Prob (F-statistic):} &  1.70e-93   \\\\\n",
       "\\bottomrule\n",
       "\\end{tabular}\n",
       "\\begin{tabular}{lcccccc}\n",
       "                       & \\textbf{coef} & \\textbf{std err} & \\textbf{t} & \\textbf{P$> |$t$|$} & \\textbf{[0.025} & \\textbf{0.975]}  \\\\\n",
       "\\midrule\n",
       "\\textbf{Intercept}     &       4.4761  &        0.089     &    50.331  &         0.000        &        4.302    &        4.650     \\\\\n",
       "\\textbf{smsa76[T.yes]} &       0.1548  &        0.019     &     8.145  &         0.000        &        0.118    &        0.192     \\\\\n",
       "\\textbf{ed76}          &       0.0657  &        0.005     &    13.286  &         0.000        &        0.056    &        0.075     \\\\\n",
       "\\textbf{exp76}         &       0.0451  &        0.003     &    16.288  &         0.000        &        0.040    &        0.051     \\\\\n",
       "\\textbf{iqscore}       &       0.0044  &        0.001     &     6.972  &         0.000        &        0.003    &        0.006     \\\\\n",
       "\\bottomrule\n",
       "\\end{tabular}\n",
       "%\\caption{OLS Regression Results}\n",
       "\\end{center}\n",
       "\n",
       "Notes: \\newline\n",
       " [1] Standard Errors assume that the covariance matrix of the errors is correctly specified. \\newline\n",
       " [2] The condition number is large, 1.13e+03. This might indicate that there are \\newline\n",
       " strong multicollinearity or other numerical problems."
      ],
      "text/plain": [
       "<class 'statsmodels.iolib.summary.Summary'>\n",
       "\"\"\"\n",
       "                            OLS Regression Results                            \n",
       "==============================================================================\n",
       "Dep. Variable:                lwage76   R-squared:                       0.192\n",
       "Model:                            OLS   Adj. R-squared:                  0.190\n",
       "No. Observations:                2061   F-statistic:                     122.0\n",
       "Covariance Type:            nonrobust   Prob (F-statistic):           1.70e-93\n",
       "=================================================================================\n",
       "                    coef    std err          t      P>|t|      [0.025      0.975]\n",
       "---------------------------------------------------------------------------------\n",
       "Intercept         4.4761      0.089     50.331      0.000       4.302       4.650\n",
       "smsa76[T.yes]     0.1548      0.019      8.145      0.000       0.118       0.192\n",
       "ed76              0.0657      0.005     13.286      0.000       0.056       0.075\n",
       "exp76             0.0451      0.003     16.288      0.000       0.040       0.051\n",
       "iqscore           0.0044      0.001      6.972      0.000       0.003       0.006\n",
       "=================================================================================\n",
       "\n",
       "Notes:\n",
       "[1] Standard Errors assume that the covariance matrix of the errors is correctly specified.\n",
       "[2] The condition number is large, 1.13e+03. This might indicate that there are\n",
       "strong multicollinearity or other numerical problems.\n",
       "\"\"\""
      ]
     },
     "execution_count": 13,
     "metadata": {},
     "output_type": "execute_result"
    }
   ],
   "source": [
    "fm_iq = fm + '+iqscore'\n",
    "smf.ols(fm_iq, data=Schooling).fit().summary(slim=True)"
   ]
  },
  {
   "cell_type": "markdown",
   "id": "f51be404",
   "metadata": {},
   "source": [
    "### First-stage regression"
   ]
  },
  {
   "cell_type": "code",
   "execution_count": 14,
   "id": "06dd1648",
   "metadata": {},
   "outputs": [
    {
     "data": {
      "text/plain": [
       "'ed76~exp76+smsa76+momed'"
      ]
     },
     "execution_count": 14,
     "metadata": {},
     "output_type": "execute_result"
    }
   ],
   "source": [
    "fm_stage1 = 'ed76~exp76+smsa76+momed'\n",
    "fm_stage1"
   ]
  },
  {
   "cell_type": "code",
   "execution_count": 15,
   "id": "b9aac0aa",
   "metadata": {},
   "outputs": [
    {
     "data": {
      "text/html": [
       "<table class=\"simpletable\">\n",
       "<caption>OLS Regression Results</caption>\n",
       "<tr>\n",
       "  <th>Dep. Variable:</th>      <td>ed76</td>    <th>  R-squared:         </th> <td>   0.488</td>\n",
       "</tr>\n",
       "<tr>\n",
       "  <th>Model:</th>               <td>OLS</td>    <th>  Adj. R-squared:    </th> <td>   0.487</td>\n",
       "</tr>\n",
       "<tr>\n",
       "  <th>No. Observations:</th>  <td>  3010</td>   <th>  F-statistic:       </th> <td>   953.2</td>\n",
       "</tr>\n",
       "<tr>\n",
       "  <th>Covariance Type:</th>  <td>nonrobust</td> <th>  Prob (F-statistic):</th>  <td>  0.00</td> \n",
       "</tr>\n",
       "</table>\n",
       "<table class=\"simpletable\">\n",
       "<tr>\n",
       "        <td></td>           <th>coef</th>     <th>std err</th>      <th>t</th>      <th>P>|t|</th>  <th>[0.025</th>    <th>0.975]</th>  \n",
       "</tr>\n",
       "<tr>\n",
       "  <th>Intercept</th>     <td>   13.9863</td> <td>    0.179</td> <td>   78.008</td> <td> 0.000</td> <td>   13.635</td> <td>   14.338</td>\n",
       "</tr>\n",
       "<tr>\n",
       "  <th>smsa76[T.yes]</th> <td>    0.4783</td> <td>    0.078</td> <td>    6.110</td> <td> 0.000</td> <td>    0.325</td> <td>    0.632</td>\n",
       "</tr>\n",
       "<tr>\n",
       "  <th>exp76</th>         <td>   -0.3690</td> <td>    0.009</td> <td>  -41.498</td> <td> 0.000</td> <td>   -0.386</td> <td>   -0.352</td>\n",
       "</tr>\n",
       "<tr>\n",
       "  <th>momed</th>         <td>    0.2132</td> <td>    0.012</td> <td>   17.327</td> <td> 0.000</td> <td>    0.189</td> <td>    0.237</td>\n",
       "</tr>\n",
       "</table><br/><br/>Notes:<br/>[1] Standard Errors assume that the covariance matrix of the errors is correctly specified."
      ],
      "text/latex": [
       "\\begin{center}\n",
       "\\begin{tabular}{lclc}\n",
       "\\toprule\n",
       "\\textbf{Dep. Variable:}    &      ed76     & \\textbf{  R-squared:         } &     0.488   \\\\\n",
       "\\textbf{Model:}            &      OLS      & \\textbf{  Adj. R-squared:    } &     0.487   \\\\\n",
       "\\textbf{No. Observations:} &       3010    & \\textbf{  F-statistic:       } &     953.2   \\\\\n",
       "\\textbf{Covariance Type:}  &   nonrobust   & \\textbf{  Prob (F-statistic):} &     0.00    \\\\\n",
       "\\bottomrule\n",
       "\\end{tabular}\n",
       "\\begin{tabular}{lcccccc}\n",
       "                       & \\textbf{coef} & \\textbf{std err} & \\textbf{t} & \\textbf{P$> |$t$|$} & \\textbf{[0.025} & \\textbf{0.975]}  \\\\\n",
       "\\midrule\n",
       "\\textbf{Intercept}     &      13.9863  &        0.179     &    78.008  &         0.000        &       13.635    &       14.338     \\\\\n",
       "\\textbf{smsa76[T.yes]} &       0.4783  &        0.078     &     6.110  &         0.000        &        0.325    &        0.632     \\\\\n",
       "\\textbf{exp76}         &      -0.3690  &        0.009     &   -41.498  &         0.000        &       -0.386    &       -0.352     \\\\\n",
       "\\textbf{momed}         &       0.2132  &        0.012     &    17.327  &         0.000        &        0.189    &        0.237     \\\\\n",
       "\\bottomrule\n",
       "\\end{tabular}\n",
       "%\\caption{OLS Regression Results}\n",
       "\\end{center}\n",
       "\n",
       "Notes: \\newline\n",
       " [1] Standard Errors assume that the covariance matrix of the errors is correctly specified."
      ],
      "text/plain": [
       "<class 'statsmodels.iolib.summary.Summary'>\n",
       "\"\"\"\n",
       "                            OLS Regression Results                            \n",
       "==============================================================================\n",
       "Dep. Variable:                   ed76   R-squared:                       0.488\n",
       "Model:                            OLS   Adj. R-squared:                  0.487\n",
       "No. Observations:                3010   F-statistic:                     953.2\n",
       "Covariance Type:            nonrobust   Prob (F-statistic):               0.00\n",
       "=================================================================================\n",
       "                    coef    std err          t      P>|t|      [0.025      0.975]\n",
       "---------------------------------------------------------------------------------\n",
       "Intercept        13.9863      0.179     78.008      0.000      13.635      14.338\n",
       "smsa76[T.yes]     0.4783      0.078      6.110      0.000       0.325       0.632\n",
       "exp76            -0.3690      0.009    -41.498      0.000      -0.386      -0.352\n",
       "momed             0.2132      0.012     17.327      0.000       0.189       0.237\n",
       "=================================================================================\n",
       "\n",
       "Notes:\n",
       "[1] Standard Errors assume that the covariance matrix of the errors is correctly specified.\n",
       "\"\"\""
      ]
     },
     "execution_count": 15,
     "metadata": {},
     "output_type": "execute_result"
    }
   ],
   "source": [
    "stage1 = smf.ols(fm_stage1, data=Schooling).fit()\n",
    "stage1.summary(slim=True)"
   ]
  },
  {
   "cell_type": "markdown",
   "id": "b7366db6",
   "metadata": {},
   "source": [
    "### Two stage least squares"
   ]
  },
  {
   "cell_type": "code",
   "execution_count": 16,
   "id": "f7a0b7f9",
   "metadata": {},
   "outputs": [
    {
     "data": {
      "text/html": [
       "<table class=\"simpletable\">\n",
       "<caption>IV-2SLS Estimation Summary</caption>\n",
       "<tr>\n",
       "  <th>Dep. Variable:</th>         <td>lwage76</td>     <th>  R-squared:         </th> <td>0.1499</td> \n",
       "</tr>\n",
       "<tr>\n",
       "  <th>Estimator:</th>             <td>IV-2SLS</td>     <th>  Adj. R-squared:    </th> <td>0.1490</td> \n",
       "</tr>\n",
       "<tr>\n",
       "  <th>No. Observations:</th>       <td>3010</td>       <th>  F-statistic:       </th> <td>339.12</td> \n",
       "</tr>\n",
       "<tr>\n",
       "  <th>Date:</th>             <td>Mon, Jun 24 2024</td> <th>  P-value (F-stat)   </th> <td>0.0000</td> \n",
       "</tr>\n",
       "<tr>\n",
       "  <th>Time:</th>                 <td>08:43:17</td>     <th>  Distribution:      </th> <td>chi2(3)</td>\n",
       "</tr>\n",
       "<tr>\n",
       "  <th>Cov. Estimator:</th>      <td>unadjusted</td>    <th>                     </th>    <td></td>    \n",
       "</tr>\n",
       "<tr>\n",
       "  <th></th>                          <td></td>         <th>                     </th>    <td></td>    \n",
       "</tr>\n",
       "</table>\n",
       "<table class=\"simpletable\">\n",
       "<caption>Parameter Estimates</caption>\n",
       "<tr>\n",
       "        <td></td>        <th>Parameter</th> <th>Std. Err.</th> <th>T-stat</th> <th>P-value</th> <th>Lower CI</th> <th>Upper CI</th>\n",
       "</tr>\n",
       "<tr>\n",
       "  <th>Intercept</th>      <td>3.6712</td>    <td>0.2044</td>   <td>17.960</td> <td>0.0000</td>   <td>3.2705</td>   <td>4.0718</td> \n",
       "</tr>\n",
       "<tr>\n",
       "  <th>exp76</th>          <td>0.0644</td>    <td>0.0054</td>   <td>11.925</td> <td>0.0000</td>   <td>0.0538</td>   <td>0.0750</td> \n",
       "</tr>\n",
       "<tr>\n",
       "  <th>smsa76[T.yes]</th>  <td>0.1501</td>    <td>0.0182</td>   <td>8.2525</td> <td>0.0000</td>   <td>0.1144</td>   <td>0.1857</td> \n",
       "</tr>\n",
       "<tr>\n",
       "  <th>ed76</th>           <td>0.1442</td>    <td>0.0123</td>   <td>11.712</td> <td>0.0000</td>   <td>0.1201</td>   <td>0.1684</td> \n",
       "</tr>\n",
       "</table><br/><br/>Endogenous: ed76<br/>Instruments: momed<br/>Unadjusted Covariance (Homoskedastic)<br/>Debiased: False<br/>id: 0x12a69cd70"
      ],
      "text/plain": [
       "                          IV-2SLS Estimation Summary                          \n",
       "==============================================================================\n",
       "Dep. Variable:                lwage76   R-squared:                      0.1499\n",
       "Estimator:                    IV-2SLS   Adj. R-squared:                 0.1490\n",
       "No. Observations:                3010   F-statistic:                    339.12\n",
       "Date:                Mon, Jun 24 2024   P-value (F-stat)                0.0000\n",
       "Time:                        08:43:17   Distribution:                  chi2(3)\n",
       "Cov. Estimator:            unadjusted                                         \n",
       "                                                                              \n",
       "                               Parameter Estimates                               \n",
       "=================================================================================\n",
       "               Parameter  Std. Err.     T-stat    P-value    Lower CI    Upper CI\n",
       "---------------------------------------------------------------------------------\n",
       "Intercept         3.6712     0.2044     17.960     0.0000      3.2705      4.0718\n",
       "exp76             0.0644     0.0054     11.925     0.0000      0.0538      0.0750\n",
       "smsa76[T.yes]     0.1501     0.0182     8.2525     0.0000      0.1144      0.1857\n",
       "ed76              0.1442     0.0123     11.712     0.0000      0.1201      0.1684\n",
       "=================================================================================\n",
       "\n",
       "Endogenous: ed76\n",
       "Instruments: momed\n",
       "Unadjusted Covariance (Homoskedastic)\n",
       "Debiased: False\n",
       "IVResults, id: 0x12a69cd70"
      ]
     },
     "execution_count": 16,
     "metadata": {},
     "output_type": "execute_result"
    }
   ],
   "source": [
    "from linearmodels import IV2SLS\n",
    "\n",
    "iv_model = IV2SLS.from_formula('lwage76~1+[ed76~momed]+exp76+smsa76', data=Schooling) # 1+!!!\n",
    "tsls = iv_model.fit(cov_type='unadjusted')\n",
    "tsls"
   ]
  },
  {
   "cell_type": "code",
   "execution_count": 17,
   "id": "f32262e7",
   "metadata": {},
   "outputs": [
    {
     "data": {
      "text/html": [
       "<table class=\"simpletable\">\n",
       "<caption>IV-2SLS Estimation Summary</caption>\n",
       "<tr>\n",
       "  <th>Dep. Variable:</th>         <td>lwage76</td>     <th>  R-squared:         </th> <td>0.1499</td> \n",
       "</tr>\n",
       "<tr>\n",
       "  <th>Estimator:</th>             <td>IV-2SLS</td>     <th>  Adj. R-squared:    </th> <td>0.1490</td> \n",
       "</tr>\n",
       "<tr>\n",
       "  <th>No. Observations:</th>       <td>3010</td>       <th>  F-statistic:       </th> <td>357.82</td> \n",
       "</tr>\n",
       "<tr>\n",
       "  <th>Date:</th>             <td>Mon, Jun 24 2024</td> <th>  P-value (F-stat)   </th> <td>0.0000</td> \n",
       "</tr>\n",
       "<tr>\n",
       "  <th>Time:</th>                 <td>08:43:17</td>     <th>  Distribution:      </th> <td>chi2(3)</td>\n",
       "</tr>\n",
       "<tr>\n",
       "  <th>Cov. Estimator:</th>        <td>robust</td>      <th>                     </th>    <td></td>    \n",
       "</tr>\n",
       "<tr>\n",
       "  <th></th>                          <td></td>         <th>                     </th>    <td></td>    \n",
       "</tr>\n",
       "</table>\n",
       "<table class=\"simpletable\">\n",
       "<caption>Parameter Estimates</caption>\n",
       "<tr>\n",
       "        <td></td>        <th>Parameter</th> <th>Std. Err.</th> <th>T-stat</th> <th>P-value</th> <th>Lower CI</th> <th>Upper CI</th>\n",
       "</tr>\n",
       "<tr>\n",
       "  <th>Intercept</th>      <td>3.6712</td>    <td>0.2023</td>   <td>18.144</td> <td>0.0000</td>   <td>3.2746</td>   <td>4.0677</td> \n",
       "</tr>\n",
       "<tr>\n",
       "  <th>exp76</th>          <td>0.0644</td>    <td>0.0053</td>   <td>12.056</td> <td>0.0000</td>   <td>0.0540</td>   <td>0.0749</td> \n",
       "</tr>\n",
       "<tr>\n",
       "  <th>smsa76[T.yes]</th>  <td>0.1501</td>    <td>0.0180</td>   <td>8.3391</td> <td>0.0000</td>   <td>0.1148</td>   <td>0.1854</td> \n",
       "</tr>\n",
       "<tr>\n",
       "  <th>ed76</th>           <td>0.1442</td>    <td>0.0122</td>   <td>11.778</td> <td>0.0000</td>   <td>0.1202</td>   <td>0.1682</td> \n",
       "</tr>\n",
       "</table><br/><br/>Endogenous: ed76<br/>Instruments: momed<br/>Robust Covariance (Heteroskedastic)<br/>Debiased: False<br/>id: 0x12b0352b0"
      ],
      "text/plain": [
       "                          IV-2SLS Estimation Summary                          \n",
       "==============================================================================\n",
       "Dep. Variable:                lwage76   R-squared:                      0.1499\n",
       "Estimator:                    IV-2SLS   Adj. R-squared:                 0.1490\n",
       "No. Observations:                3010   F-statistic:                    357.82\n",
       "Date:                Mon, Jun 24 2024   P-value (F-stat)                0.0000\n",
       "Time:                        08:43:17   Distribution:                  chi2(3)\n",
       "Cov. Estimator:                robust                                         \n",
       "                                                                              \n",
       "                               Parameter Estimates                               \n",
       "=================================================================================\n",
       "               Parameter  Std. Err.     T-stat    P-value    Lower CI    Upper CI\n",
       "---------------------------------------------------------------------------------\n",
       "Intercept         3.6712     0.2023     18.144     0.0000      3.2746      4.0677\n",
       "exp76             0.0644     0.0053     12.056     0.0000      0.0540      0.0749\n",
       "smsa76[T.yes]     0.1501     0.0180     8.3391     0.0000      0.1148      0.1854\n",
       "ed76              0.1442     0.0122     11.778     0.0000      0.1202      0.1682\n",
       "=================================================================================\n",
       "\n",
       "Endogenous: ed76\n",
       "Instruments: momed\n",
       "Robust Covariance (Heteroskedastic)\n",
       "Debiased: False\n",
       "IVResults, id: 0x12b0352b0"
      ]
     },
     "execution_count": 17,
     "metadata": {},
     "output_type": "execute_result"
    }
   ],
   "source": [
    "tsls_h = iv_model.fit(cov_type='robust')\n",
    "tsls_h"
   ]
  },
  {
   "cell_type": "markdown",
   "id": "6b4275f9",
   "metadata": {},
   "source": [
    "### Endogeneity test"
   ]
  },
  {
   "cell_type": "code",
   "execution_count": 18,
   "id": "d00d703c",
   "metadata": {},
   "outputs": [
    {
     "data": {
      "text/html": [
       "<table class=\"simpletable\">\n",
       "<caption>OLS Regression Results</caption>\n",
       "<tr>\n",
       "  <th>Dep. Variable:</th>     <td>lwage76</td>  <th>  R-squared:         </th> <td>   0.222</td> \n",
       "</tr>\n",
       "<tr>\n",
       "  <th>Model:</th>               <td>OLS</td>    <th>  Adj. R-squared:    </th> <td>   0.221</td> \n",
       "</tr>\n",
       "<tr>\n",
       "  <th>No. Observations:</th>  <td>  3010</td>   <th>  F-statistic:       </th> <td>   214.0</td> \n",
       "</tr>\n",
       "<tr>\n",
       "  <th>Covariance Type:</th>  <td>nonrobust</td> <th>  Prob (F-statistic):</th> <td>9.56e-162</td>\n",
       "</tr>\n",
       "</table>\n",
       "<table class=\"simpletable\">\n",
       "<tr>\n",
       "        <td></td>           <th>coef</th>     <th>std err</th>      <th>t</th>      <th>P>|t|</th>  <th>[0.025</th>    <th>0.975]</th>  \n",
       "</tr>\n",
       "<tr>\n",
       "  <th>Intercept</th>     <td>    3.6712</td> <td>    0.196</td> <td>   18.754</td> <td> 0.000</td> <td>    3.287</td> <td>    4.055</td>\n",
       "</tr>\n",
       "<tr>\n",
       "  <th>smsa76[T.yes]</th> <td>    0.1501</td> <td>    0.017</td> <td>    8.618</td> <td> 0.000</td> <td>    0.116</td> <td>    0.184</td>\n",
       "</tr>\n",
       "<tr>\n",
       "  <th>ed76</th>          <td>    0.1442</td> <td>    0.012</td> <td>   12.230</td> <td> 0.000</td> <td>    0.121</td> <td>    0.167</td>\n",
       "</tr>\n",
       "<tr>\n",
       "  <th>exp76</th>         <td>    0.0644</td> <td>    0.005</td> <td>   12.452</td> <td> 0.000</td> <td>    0.054</td> <td>    0.075</td>\n",
       "</tr>\n",
       "<tr>\n",
       "  <th>vhat</th>          <td>   -0.0621</td> <td>    0.012</td> <td>   -5.017</td> <td> 0.000</td> <td>   -0.086</td> <td>   -0.038</td>\n",
       "</tr>\n",
       "</table><br/><br/>Notes:<br/>[1] Standard Errors assume that the covariance matrix of the errors is correctly specified."
      ],
      "text/latex": [
       "\\begin{center}\n",
       "\\begin{tabular}{lclc}\n",
       "\\toprule\n",
       "\\textbf{Dep. Variable:}    &    lwage76    & \\textbf{  R-squared:         } &     0.222   \\\\\n",
       "\\textbf{Model:}            &      OLS      & \\textbf{  Adj. R-squared:    } &     0.221   \\\\\n",
       "\\textbf{No. Observations:} &       3010    & \\textbf{  F-statistic:       } &     214.0   \\\\\n",
       "\\textbf{Covariance Type:}  &   nonrobust   & \\textbf{  Prob (F-statistic):} & 9.56e-162   \\\\\n",
       "\\bottomrule\n",
       "\\end{tabular}\n",
       "\\begin{tabular}{lcccccc}\n",
       "                       & \\textbf{coef} & \\textbf{std err} & \\textbf{t} & \\textbf{P$> |$t$|$} & \\textbf{[0.025} & \\textbf{0.975]}  \\\\\n",
       "\\midrule\n",
       "\\textbf{Intercept}     &       3.6712  &        0.196     &    18.754  &         0.000        &        3.287    &        4.055     \\\\\n",
       "\\textbf{smsa76[T.yes]} &       0.1501  &        0.017     &     8.618  &         0.000        &        0.116    &        0.184     \\\\\n",
       "\\textbf{ed76}          &       0.1442  &        0.012     &    12.230  &         0.000        &        0.121    &        0.167     \\\\\n",
       "\\textbf{exp76}         &       0.0644  &        0.005     &    12.452  &         0.000        &        0.054    &        0.075     \\\\\n",
       "\\textbf{vhat}          &      -0.0621  &        0.012     &    -5.017  &         0.000        &       -0.086    &       -0.038     \\\\\n",
       "\\bottomrule\n",
       "\\end{tabular}\n",
       "%\\caption{OLS Regression Results}\n",
       "\\end{center}\n",
       "\n",
       "Notes: \\newline\n",
       " [1] Standard Errors assume that the covariance matrix of the errors is correctly specified."
      ],
      "text/plain": [
       "<class 'statsmodels.iolib.summary.Summary'>\n",
       "\"\"\"\n",
       "                            OLS Regression Results                            \n",
       "==============================================================================\n",
       "Dep. Variable:                lwage76   R-squared:                       0.222\n",
       "Model:                            OLS   Adj. R-squared:                  0.221\n",
       "No. Observations:                3010   F-statistic:                     214.0\n",
       "Covariance Type:            nonrobust   Prob (F-statistic):          9.56e-162\n",
       "=================================================================================\n",
       "                    coef    std err          t      P>|t|      [0.025      0.975]\n",
       "---------------------------------------------------------------------------------\n",
       "Intercept         3.6712      0.196     18.754      0.000       3.287       4.055\n",
       "smsa76[T.yes]     0.1501      0.017      8.618      0.000       0.116       0.184\n",
       "ed76              0.1442      0.012     12.230      0.000       0.121       0.167\n",
       "exp76             0.0644      0.005     12.452      0.000       0.054       0.075\n",
       "vhat             -0.0621      0.012     -5.017      0.000      -0.086      -0.038\n",
       "=================================================================================\n",
       "\n",
       "Notes:\n",
       "[1] Standard Errors assume that the covariance matrix of the errors is correctly specified.\n",
       "\"\"\""
      ]
     },
     "execution_count": 18,
     "metadata": {},
     "output_type": "execute_result"
    }
   ],
   "source": [
    "stage1 = smf.ols(fm_stage1, data=Schooling).fit()\n",
    "Schooling['vhat'] = stage1.resid\n",
    "aux = smf.ols(fm + '+vhat', data=Schooling).fit()\n",
    "aux.summary(slim=True)"
   ]
  },
  {
   "cell_type": "code",
   "execution_count": 19,
   "id": "b826e7b4",
   "metadata": {},
   "outputs": [
    {
     "data": {
      "text/html": [
       "<table class=\"simpletable\">\n",
       "<caption>OLS Regression Results</caption>\n",
       "<tr>\n",
       "  <th>Dep. Variable:</th>    <td>lwage76</td> <th>  R-squared:         </th> <td>   0.222</td> \n",
       "</tr>\n",
       "<tr>\n",
       "  <th>Model:</th>              <td>OLS</td>   <th>  Adj. R-squared:    </th> <td>   0.221</td> \n",
       "</tr>\n",
       "<tr>\n",
       "  <th>No. Observations:</th> <td>  3010</td>  <th>  F-statistic:       </th> <td>   217.3</td> \n",
       "</tr>\n",
       "<tr>\n",
       "  <th>Covariance Type:</th>    <td>HC3</td>   <th>  Prob (F-statistic):</th> <td>5.44e-164</td>\n",
       "</tr>\n",
       "</table>\n",
       "<table class=\"simpletable\">\n",
       "<tr>\n",
       "        <td></td>           <th>coef</th>     <th>std err</th>      <th>z</th>      <th>P>|z|</th>  <th>[0.025</th>    <th>0.975]</th>  \n",
       "</tr>\n",
       "<tr>\n",
       "  <th>Intercept</th>     <td>    3.6712</td> <td>    0.196</td> <td>   18.732</td> <td> 0.000</td> <td>    3.287</td> <td>    4.055</td>\n",
       "</tr>\n",
       "<tr>\n",
       "  <th>smsa76[T.yes]</th> <td>    0.1501</td> <td>    0.017</td> <td>    8.717</td> <td> 0.000</td> <td>    0.116</td> <td>    0.184</td>\n",
       "</tr>\n",
       "<tr>\n",
       "  <th>ed76</th>          <td>    0.1442</td> <td>    0.012</td> <td>   12.161</td> <td> 0.000</td> <td>    0.121</td> <td>    0.167</td>\n",
       "</tr>\n",
       "<tr>\n",
       "  <th>exp76</th>         <td>    0.0644</td> <td>    0.005</td> <td>   12.399</td> <td> 0.000</td> <td>    0.054</td> <td>    0.075</td>\n",
       "</tr>\n",
       "<tr>\n",
       "  <th>vhat</th>          <td>   -0.0621</td> <td>    0.013</td> <td>   -4.888</td> <td> 0.000</td> <td>   -0.087</td> <td>   -0.037</td>\n",
       "</tr>\n",
       "</table><br/><br/>Notes:<br/>[1] Standard Errors are heteroscedasticity robust (HC3)"
      ],
      "text/latex": [
       "\\begin{center}\n",
       "\\begin{tabular}{lclc}\n",
       "\\toprule\n",
       "\\textbf{Dep. Variable:}    &    lwage76    & \\textbf{  R-squared:         } &     0.222   \\\\\n",
       "\\textbf{Model:}            &      OLS      & \\textbf{  Adj. R-squared:    } &     0.221   \\\\\n",
       "\\textbf{No. Observations:} &       3010    & \\textbf{  F-statistic:       } &     217.3   \\\\\n",
       "\\textbf{Covariance Type:}  &      HC3      & \\textbf{  Prob (F-statistic):} & 5.44e-164   \\\\\n",
       "\\bottomrule\n",
       "\\end{tabular}\n",
       "\\begin{tabular}{lcccccc}\n",
       "                       & \\textbf{coef} & \\textbf{std err} & \\textbf{z} & \\textbf{P$> |$z$|$} & \\textbf{[0.025} & \\textbf{0.975]}  \\\\\n",
       "\\midrule\n",
       "\\textbf{Intercept}     &       3.6712  &        0.196     &    18.732  &         0.000        &        3.287    &        4.055     \\\\\n",
       "\\textbf{smsa76[T.yes]} &       0.1501  &        0.017     &     8.717  &         0.000        &        0.116    &        0.184     \\\\\n",
       "\\textbf{ed76}          &       0.1442  &        0.012     &    12.161  &         0.000        &        0.121    &        0.167     \\\\\n",
       "\\textbf{exp76}         &       0.0644  &        0.005     &    12.399  &         0.000        &        0.054    &        0.075     \\\\\n",
       "\\textbf{vhat}          &      -0.0621  &        0.013     &    -4.888  &         0.000        &       -0.087    &       -0.037     \\\\\n",
       "\\bottomrule\n",
       "\\end{tabular}\n",
       "%\\caption{OLS Regression Results}\n",
       "\\end{center}\n",
       "\n",
       "Notes: \\newline\n",
       " [1] Standard Errors are heteroscedasticity robust (HC3)"
      ],
      "text/plain": [
       "<class 'statsmodels.iolib.summary.Summary'>\n",
       "\"\"\"\n",
       "                            OLS Regression Results                            \n",
       "==============================================================================\n",
       "Dep. Variable:                lwage76   R-squared:                       0.222\n",
       "Model:                            OLS   Adj. R-squared:                  0.221\n",
       "No. Observations:                3010   F-statistic:                     217.3\n",
       "Covariance Type:                  HC3   Prob (F-statistic):          5.44e-164\n",
       "=================================================================================\n",
       "                    coef    std err          z      P>|z|      [0.025      0.975]\n",
       "---------------------------------------------------------------------------------\n",
       "Intercept         3.6712      0.196     18.732      0.000       3.287       4.055\n",
       "smsa76[T.yes]     0.1501      0.017      8.717      0.000       0.116       0.184\n",
       "ed76              0.1442      0.012     12.161      0.000       0.121       0.167\n",
       "exp76             0.0644      0.005     12.399      0.000       0.054       0.075\n",
       "vhat             -0.0621      0.013     -4.888      0.000      -0.087      -0.037\n",
       "=================================================================================\n",
       "\n",
       "Notes:\n",
       "[1] Standard Errors are heteroscedasticity robust (HC3)\n",
       "\"\"\""
      ]
     },
     "execution_count": 19,
     "metadata": {},
     "output_type": "execute_result"
    }
   ],
   "source": [
    "smf.ols(fm + '+vhat', data=Schooling).fit(cov_type='HC3').summary(slim=True)"
   ]
  },
  {
   "cell_type": "markdown",
   "id": "e1d8301a",
   "metadata": {},
   "source": [
    "### Overidentification test"
   ]
  },
  {
   "cell_type": "code",
   "execution_count": 20,
   "id": "fdc1a8cf",
   "metadata": {},
   "outputs": [
    {
     "data": {
      "text/plain": [
       "Sargan's test of overidentification\n",
       "H0: The model is not overidentified.\n",
       "Statistic: 3.2653\n",
       "P-value: 0.0708\n",
       "Distributed: chi2(1)\n",
       "WaldTestStatistic, id: 0x12b0b9490"
      ]
     },
     "execution_count": 20,
     "metadata": {},
     "output_type": "execute_result"
    }
   ],
   "source": [
    "# Don't miss out 1 below\n",
    "tsls2 = IV2SLS.from_formula('lwage76~1+[ed76~momed+daded]+exp76+smsa76', data=Schooling).fit()\n",
    "tsls2.sargan"
   ]
  },
  {
   "cell_type": "markdown",
   "id": "3eba1866",
   "metadata": {},
   "source": [
    "### Robust overidentification test"
   ]
  },
  {
   "cell_type": "code",
   "execution_count": 21,
   "id": "02f9f187",
   "metadata": {},
   "outputs": [
    {
     "data": {
      "text/plain": [
       "3.185349075973105"
      ]
     },
     "execution_count": 21,
     "metadata": {},
     "output_type": "execute_result"
    }
   ],
   "source": [
    "# first stage regression\n",
    "stage1 = smf.ols('ed76~momed+daded+exp76+smsa76', data=Schooling).fit()\n",
    "Schooling['ed76hat'] = stage1.fittedvalues\n",
    "# orthogonalized overidentifying instruments\n",
    "w1 = IV2SLS.from_formula('daded~1+[ed76hat~ed76]+exp76+smsa76', data=Schooling).fit().resids\n",
    "# multiply w1 to 2SLS residuals\n",
    "u = IV2SLS.from_formula('lwage76~1+[ed76~momed+daded]+exp76+smsa76', data=Schooling).fit().resids\n",
    "Schooling['w1u'] = w1*u\n",
    "# get the n*R2 stat\n",
    "Schooling['one'] = [1]*len(Schooling)\n",
    "aux = smf.ols('one~w1u-1', data=Schooling).fit()\n",
    "stat = aux.nobs*aux.rsquared\n",
    "stat"
   ]
  },
  {
   "cell_type": "code",
   "execution_count": 22,
   "id": "8a9f9482",
   "metadata": {},
   "outputs": [
    {
     "data": {
      "text/plain": [
       "0.07430112606532835"
      ]
     },
     "execution_count": 22,
     "metadata": {},
     "output_type": "execute_result"
    }
   ],
   "source": [
    "# p-value\n",
    "from scipy.stats import chi2\n",
    "\n",
    "1-chi2.cdf(stat,1)"
   ]
  },
  {
   "cell_type": "markdown",
   "id": "133f8d7f",
   "metadata": {},
   "source": [
    "## 제곱항\n",
    "\n",
    "### 도구변수 제곱항을 도구변수로 사용"
   ]
  },
  {
   "cell_type": "code",
   "execution_count": 23,
   "id": "48e5c265",
   "metadata": {},
   "outputs": [
    {
     "data": {
      "text/html": [
       "<table class=\"simpletable\">\n",
       "<caption>IV-2SLS Estimation Summary</caption>\n",
       "<tr>\n",
       "  <th>Dep. Variable:</th>            <td>y</td>        <th>  R-squared:         </th> <td>0.6619</td> \n",
       "</tr>\n",
       "<tr>\n",
       "  <th>Estimator:</th>             <td>IV-2SLS</td>     <th>  Adj. R-squared:    </th> <td>0.6514</td> \n",
       "</tr>\n",
       "<tr>\n",
       "  <th>No. Observations:</th>        <td>100</td>       <th>  F-statistic:       </th> <td>40.760</td> \n",
       "</tr>\n",
       "<tr>\n",
       "  <th>Date:</th>             <td>Mon, Jun 24 2024</td> <th>  P-value (F-stat)   </th> <td>0.0000</td> \n",
       "</tr>\n",
       "<tr>\n",
       "  <th>Time:</th>                 <td>08:43:17</td>     <th>  Distribution:      </th> <td>chi2(3)</td>\n",
       "</tr>\n",
       "<tr>\n",
       "  <th>Cov. Estimator:</th>      <td>unadjusted</td>    <th>                     </th>    <td></td>    \n",
       "</tr>\n",
       "<tr>\n",
       "  <th></th>                          <td></td>         <th>                     </th>    <td></td>    \n",
       "</tr>\n",
       "</table>\n",
       "<table class=\"simpletable\">\n",
       "<caption>Parameter Estimates</caption>\n",
       "<tr>\n",
       "       <td></td>      <th>Parameter</th> <th>Std. Err.</th> <th>T-stat</th> <th>P-value</th> <th>Lower CI</th> <th>Upper CI</th>\n",
       "</tr>\n",
       "<tr>\n",
       "  <th>Intercept</th>   <td>1.9795</td>    <td>1.5627</td>   <td>1.2668</td> <td>0.2052</td>   <td>-1.0833</td>  <td>5.0423</td> \n",
       "</tr>\n",
       "<tr>\n",
       "  <th>x1</th>          <td>0.4188</td>    <td>0.0705</td>   <td>5.9396</td> <td>0.0000</td>   <td>0.2806</td>   <td>0.5571</td> \n",
       "</tr>\n",
       "<tr>\n",
       "  <th>x2</th>          <td>0.6159</td>    <td>0.5829</td>   <td>1.0567</td> <td>0.2907</td>   <td>-0.5265</td>  <td>1.7583</td> \n",
       "</tr>\n",
       "<tr>\n",
       "  <th>I(x2 ** 2)</th>  <td>0.0066</td>    <td>0.0536</td>   <td>0.1236</td> <td>0.9017</td>   <td>-0.0985</td>  <td>0.1118</td> \n",
       "</tr>\n",
       "</table><br/><br/>Endogenous: x2, I(x2 ** 2)<br/>Instruments: z2a, I(z2a ** 2)<br/>Unadjusted Covariance (Homoskedastic)<br/>Debiased: False<br/>id: 0x12b0d6a20"
      ],
      "text/plain": [
       "                          IV-2SLS Estimation Summary                          \n",
       "==============================================================================\n",
       "Dep. Variable:                      y   R-squared:                      0.6619\n",
       "Estimator:                    IV-2SLS   Adj. R-squared:                 0.6514\n",
       "No. Observations:                 100   F-statistic:                    40.760\n",
       "Date:                Mon, Jun 24 2024   P-value (F-stat)                0.0000\n",
       "Time:                        08:43:17   Distribution:                  chi2(3)\n",
       "Cov. Estimator:            unadjusted                                         \n",
       "                                                                              \n",
       "                             Parameter Estimates                              \n",
       "==============================================================================\n",
       "            Parameter  Std. Err.     T-stat    P-value    Lower CI    Upper CI\n",
       "------------------------------------------------------------------------------\n",
       "Intercept      1.9795     1.5627     1.2668     0.2052     -1.0833      5.0423\n",
       "x1             0.4188     0.0705     5.9396     0.0000      0.2806      0.5571\n",
       "x2             0.6159     0.5829     1.0567     0.2907     -0.5265      1.7583\n",
       "I(x2 ** 2)     0.0066     0.0536     0.1236     0.9017     -0.0985      0.1118\n",
       "==============================================================================\n",
       "\n",
       "Endogenous: x2, I(x2 ** 2)\n",
       "Instruments: z2a, I(z2a ** 2)\n",
       "Unadjusted Covariance (Homoskedastic)\n",
       "Debiased: False\n",
       "IVResults, id: 0x12b0d6a20"
      ]
     },
     "execution_count": 23,
     "metadata": {},
     "output_type": "execute_result"
    }
   ],
   "source": [
    "import pandas as pd\n",
    "\n",
    "Ivdata = pd.read_csv('csv/loedata/Ivdata.csv')\n",
    "# Require 1!\n",
    "ivreg = IV2SLS.from_formula('y~1+x1+[x2+I(x2**2)~z2a+I(z2a**2)]', data=Ivdata).fit(cov_type='unadjusted')\n",
    "ivreg"
   ]
  },
  {
   "cell_type": "markdown",
   "id": "d88917e4",
   "metadata": {},
   "source": [
    "### 통제함수"
   ]
  },
  {
   "cell_type": "code",
   "execution_count": 24,
   "id": "27d49737",
   "metadata": {},
   "outputs": [
    {
     "data": {
      "text/html": [
       "<table class=\"simpletable\">\n",
       "<caption>OLS Regression Results</caption>\n",
       "<tr>\n",
       "  <th>Dep. Variable:</th>        <td>y</td>     <th>  R-squared:         </th> <td>   0.723</td>\n",
       "</tr>\n",
       "<tr>\n",
       "  <th>Model:</th>               <td>OLS</td>    <th>  Adj. R-squared:    </th> <td>   0.712</td>\n",
       "</tr>\n",
       "<tr>\n",
       "  <th>No. Observations:</th>  <td>   100</td>   <th>  F-statistic:       </th> <td>   62.06</td>\n",
       "</tr>\n",
       "<tr>\n",
       "  <th>Covariance Type:</th>  <td>nonrobust</td> <th>  Prob (F-statistic):</th> <td>1.12e-25</td>\n",
       "</tr>\n",
       "</table>\n",
       "<table class=\"simpletable\">\n",
       "<tr>\n",
       "       <td></td>         <th>coef</th>     <th>std err</th>      <th>t</th>      <th>P>|t|</th>  <th>[0.025</th>    <th>0.975]</th>  \n",
       "</tr>\n",
       "<tr>\n",
       "  <th>Intercept</th>  <td>    1.9932</td> <td>    1.305</td> <td>    1.528</td> <td> 0.130</td> <td>   -0.597</td> <td>    4.583</td>\n",
       "</tr>\n",
       "<tr>\n",
       "  <th>x1</th>         <td>    0.4217</td> <td>    0.064</td> <td>    6.632</td> <td> 0.000</td> <td>    0.295</td> <td>    0.548</td>\n",
       "</tr>\n",
       "<tr>\n",
       "  <th>x2</th>         <td>    0.5732</td> <td>    0.210</td> <td>    2.734</td> <td> 0.007</td> <td>    0.157</td> <td>    0.989</td>\n",
       "</tr>\n",
       "<tr>\n",
       "  <th>I(x2 ** 2)</th> <td>    0.0112</td> <td>    0.015</td> <td>    0.731</td> <td> 0.467</td> <td>   -0.019</td> <td>    0.042</td>\n",
       "</tr>\n",
       "<tr>\n",
       "  <th>v2hat</th>      <td>    0.3219</td> <td>    0.150</td> <td>    2.145</td> <td> 0.035</td> <td>    0.024</td> <td>    0.620</td>\n",
       "</tr>\n",
       "</table><br/><br/>Notes:<br/>[1] Standard Errors assume that the covariance matrix of the errors is correctly specified."
      ],
      "text/latex": [
       "\\begin{center}\n",
       "\\begin{tabular}{lclc}\n",
       "\\toprule\n",
       "\\textbf{Dep. Variable:}    &       y       & \\textbf{  R-squared:         } &     0.723   \\\\\n",
       "\\textbf{Model:}            &      OLS      & \\textbf{  Adj. R-squared:    } &     0.712   \\\\\n",
       "\\textbf{No. Observations:} &        100    & \\textbf{  F-statistic:       } &     62.06   \\\\\n",
       "\\textbf{Covariance Type:}  &   nonrobust   & \\textbf{  Prob (F-statistic):} &  1.12e-25   \\\\\n",
       "\\bottomrule\n",
       "\\end{tabular}\n",
       "\\begin{tabular}{lcccccc}\n",
       "                    & \\textbf{coef} & \\textbf{std err} & \\textbf{t} & \\textbf{P$> |$t$|$} & \\textbf{[0.025} & \\textbf{0.975]}  \\\\\n",
       "\\midrule\n",
       "\\textbf{Intercept}  &       1.9932  &        1.305     &     1.528  &         0.130        &       -0.597    &        4.583     \\\\\n",
       "\\textbf{x1}         &       0.4217  &        0.064     &     6.632  &         0.000        &        0.295    &        0.548     \\\\\n",
       "\\textbf{x2}         &       0.5732  &        0.210     &     2.734  &         0.007        &        0.157    &        0.989     \\\\\n",
       "\\textbf{I(x2 ** 2)} &       0.0112  &        0.015     &     0.731  &         0.467        &       -0.019    &        0.042     \\\\\n",
       "\\textbf{v2hat}      &       0.3219  &        0.150     &     2.145  &         0.035        &        0.024    &        0.620     \\\\\n",
       "\\bottomrule\n",
       "\\end{tabular}\n",
       "%\\caption{OLS Regression Results}\n",
       "\\end{center}\n",
       "\n",
       "Notes: \\newline\n",
       " [1] Standard Errors assume that the covariance matrix of the errors is correctly specified."
      ],
      "text/plain": [
       "<class 'statsmodels.iolib.summary.Summary'>\n",
       "\"\"\"\n",
       "                            OLS Regression Results                            \n",
       "==============================================================================\n",
       "Dep. Variable:                      y   R-squared:                       0.723\n",
       "Model:                            OLS   Adj. R-squared:                  0.712\n",
       "No. Observations:                 100   F-statistic:                     62.06\n",
       "Covariance Type:            nonrobust   Prob (F-statistic):           1.12e-25\n",
       "==============================================================================\n",
       "                 coef    std err          t      P>|t|      [0.025      0.975]\n",
       "------------------------------------------------------------------------------\n",
       "Intercept      1.9932      1.305      1.528      0.130      -0.597       4.583\n",
       "x1             0.4217      0.064      6.632      0.000       0.295       0.548\n",
       "x2             0.5732      0.210      2.734      0.007       0.157       0.989\n",
       "I(x2 ** 2)     0.0112      0.015      0.731      0.467      -0.019       0.042\n",
       "v2hat          0.3219      0.150      2.145      0.035       0.024       0.620\n",
       "==============================================================================\n",
       "\n",
       "Notes:\n",
       "[1] Standard Errors assume that the covariance matrix of the errors is correctly specified.\n",
       "\"\"\""
      ]
     },
     "execution_count": 24,
     "metadata": {},
     "output_type": "execute_result"
    }
   ],
   "source": [
    "Ivdata['v2hat'] = smf.ols('x2~x1+z2a+z2b', data=Ivdata).fit().resid\n",
    "smf.ols('y~x1+x2+I(x2**2)+v2hat', data=Ivdata).fit().summary(slim=True)"
   ]
  },
  {
   "cell_type": "markdown",
   "id": "0842051a",
   "metadata": {},
   "source": [
    "위의 표준오차들은 (`v2hat`의 계수가 0인 경우를 제외하면) 잘못되었으므로 수정하여야 한다. 더 이상 진행하지 않는다. 코딩 오류의 위험을 무릅쓰면서 파이썬을 사용해야 할 이유를 찾기 어렵다."
   ]
  }
 ],
 "metadata": {
  "kernelspec": {
   "display_name": "Python 3 (ipykernel)",
   "language": "python",
   "name": "python3"
  },
  "language_info": {
   "codemirror_mode": {
    "name": "ipython",
    "version": 3
   },
   "file_extension": ".py",
   "mimetype": "text/x-python",
   "name": "python",
   "nbconvert_exporter": "python",
   "pygments_lexer": "ipython3",
   "version": "3.12.2"
  }
 },
 "nbformat": 4,
 "nbformat_minor": 5
}
